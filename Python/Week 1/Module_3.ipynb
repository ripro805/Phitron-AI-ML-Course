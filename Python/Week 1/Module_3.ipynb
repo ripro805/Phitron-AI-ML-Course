{
  "nbformat": 4,
  "nbformat_minor": 0,
  "metadata": {
    "colab": {
      "provenance": []
    },
    "kernelspec": {
      "name": "python3",
      "display_name": "Python 3"
    },
    "language_info": {
      "name": "python"
    }
  },
  "cells": [
    {
      "cell_type": "markdown",
      "source": [
        "#String\n"
      ],
      "metadata": {
        "id": "hc4yTE0JSbqS"
      }
    },
    {
      "cell_type": "markdown",
      "source": [
        "**String** --> is a sequence of character\n",
        "\n",
        "It is Immutable. It can't be changed"
      ],
      "metadata": {
        "id": "BKKzkc1bGfG4"
      }
    },
    {
      "cell_type": "code",
      "execution_count": 102,
      "metadata": {
        "colab": {
          "base_uri": "https://localhost:8080/"
        },
        "id": "bpp34TgPEmQw",
        "outputId": "87b8a2b9-c142-417c-984e-dc424d92ed74"
      },
      "outputs": [
        {
          "output_type": "stream",
          "name": "stdout",
          "text": [
            "What is your name?\n",
            "<class 'str'>\n"
          ]
        }
      ],
      "source": [
        "prompt =\"What is your name?\"\n",
        "print(prompt)\n",
        "print(type(prompt))"
      ]
    },
    {
      "cell_type": "code",
      "source": [
        "message=\"\"\"tell me about yourself?\n",
        "what are the issues you have been facing  while learning code ?\n",
        "hoe are you tackling them?\n",
        "\"\"\"\n",
        "print (message)"
      ],
      "metadata": {
        "colab": {
          "base_uri": "https://localhost:8080/"
        },
        "id": "wSF2RLX7HbNf",
        "outputId": "0b436d65-57c6-4ade-f50b-878d02d38bb9"
      },
      "execution_count": 103,
      "outputs": [
        {
          "output_type": "stream",
          "name": "stdout",
          "text": [
            "tell me about yourself?\n",
            "what are the issues you have been facing  while learning code ?\n",
            "hoe are you tackling them?\n",
            "\n"
          ]
        }
      ]
    },
    {
      "cell_type": "markdown",
      "source": [
        "#Indexing and slicing"
      ],
      "metadata": {
        "id": "C8NYdgHAH-2Q"
      }
    },
    {
      "cell_type": "markdown",
      "source": [
        "String[start:end:step]"
      ],
      "metadata": {
        "id": "egwcCz_EJDWI"
      }
    },
    {
      "cell_type": "code",
      "source": [
        "string=\"hello world\"\n",
        "print(string[7])"
      ],
      "metadata": {
        "colab": {
          "base_uri": "https://localhost:8080/"
        },
        "id": "HumUp7IgIDp2",
        "outputId": "eb7ab747-6a68-4e49-8abd-590023644ea6"
      },
      "execution_count": 104,
      "outputs": [
        {
          "output_type": "stream",
          "name": "stdout",
          "text": [
            "o\n"
          ]
        }
      ]
    },
    {
      "cell_type": "code",
      "source": [
        "first_messege=message[:24]\n",
        "print(first_messege)"
      ],
      "metadata": {
        "colab": {
          "base_uri": "https://localhost:8080/"
        },
        "id": "qGD6ajq7IrfX",
        "outputId": "4fe04dc1-cdfc-4e7a-9ed3-f0c1410bdde1"
      },
      "execution_count": 105,
      "outputs": [
        {
          "output_type": "stream",
          "name": "stdout",
          "text": [
            "tell me about yourself?\n",
            "\n"
          ]
        }
      ]
    },
    {
      "cell_type": "code",
      "source": [
        "second_messege=message[:24:2]\n",
        "print(second_messege)"
      ],
      "metadata": {
        "colab": {
          "base_uri": "https://localhost:8080/"
        },
        "id": "nP6kj3AbJTJf",
        "outputId": "39a8a87e-2842-4ed0-9cc8-a00894e010ae"
      },
      "execution_count": 106,
      "outputs": [
        {
          "output_type": "stream",
          "name": "stdout",
          "text": [
            "tl eaotyusl?\n"
          ]
        }
      ]
    },
    {
      "cell_type": "code",
      "source": [
        "print(first_messege[-5:-1])"
      ],
      "metadata": {
        "colab": {
          "base_uri": "https://localhost:8080/"
        },
        "id": "4Yfye8WHJh6H",
        "outputId": "51db4ddd-8292-4673-ecf5-2ba4b4791d3b"
      },
      "execution_count": 107,
      "outputs": [
        {
          "output_type": "stream",
          "name": "stdout",
          "text": [
            "elf?\n"
          ]
        }
      ]
    },
    {
      "cell_type": "markdown",
      "source": [
        "# String Methods\n",
        "\n",
        "https://www.w3schools.com/python/python_ref_string.asp"
      ],
      "metadata": {
        "id": "JKY5Z2lJKKYP"
      }
    },
    {
      "cell_type": "code",
      "source": [
        "string=\"welcome to phitron ML course,Hello ML , Hi ML\"\n",
        "print(string)\n",
        "\n",
        "#make lower all\n",
        "proccessed_string= string.lower()\n",
        "print(proccessed_string)\n",
        "\n",
        "\n",
        "#length\n",
        "print(len(string))\n",
        "\n",
        "#find\n",
        "print(\"to\" in proccessed_string)\n",
        "\n",
        "#make upper first letter\n",
        "string=string.capitalize()\n",
        "print(string)"
      ],
      "metadata": {
        "colab": {
          "base_uri": "https://localhost:8080/"
        },
        "id": "U0FTwf1gKNle",
        "outputId": "8af19d57-3c23-492a-e454-49b8f7b4d058"
      },
      "execution_count": 108,
      "outputs": [
        {
          "output_type": "stream",
          "name": "stdout",
          "text": [
            "welcome to phitron ML course,Hello ML , Hi ML\n",
            "welcome to phitron ml course,hello ml , hi ml\n",
            "45\n",
            "True\n",
            "Welcome to phitron ml course,hello ml , hi ml\n"
          ]
        }
      ]
    },
    {
      "cell_type": "code",
      "source": [
        "#Find first index string\n",
        "F_index=proccessed_string.find(\"ml\")\n",
        "print(F_index)\n",
        "\n",
        "#Find last index string\n",
        "L_index=proccessed_string.rfind(\"ml\")\n",
        "print(L_index)"
      ],
      "metadata": {
        "colab": {
          "base_uri": "https://localhost:8080/"
        },
        "id": "PGCGYh4aLmvm",
        "outputId": "5749e6e6-d715-43f0-8bb1-e703a22ede3e"
      },
      "execution_count": 109,
      "outputs": [
        {
          "output_type": "stream",
          "name": "stdout",
          "text": [
            "19\n",
            "43\n"
          ]
        }
      ]
    },
    {
      "cell_type": "code",
      "source": [
        "#count substring\n",
        "cnt=proccessed_string.count(\"ml\")\n",
        "print(cnt)"
      ],
      "metadata": {
        "colab": {
          "base_uri": "https://localhost:8080/"
        },
        "id": "Tlvc75W9MeRd",
        "outputId": "33d12623-cbd7-4100-960d-73d9ac97b357"
      },
      "execution_count": 110,
      "outputs": [
        {
          "output_type": "stream",
          "name": "stdout",
          "text": [
            "3\n"
          ]
        }
      ]
    },
    {
      "cell_type": "code",
      "source": [
        "#replace a substring\n",
        "new_stirng=string.replace(\"ml\",\"AI/ML\")\n",
        "print(new_stirng)"
      ],
      "metadata": {
        "colab": {
          "base_uri": "https://localhost:8080/"
        },
        "id": "HpiokuDEM9dt",
        "outputId": "d12be2a1-a05a-418d-885c-79be003eda9b"
      },
      "execution_count": 111,
      "outputs": [
        {
          "output_type": "stream",
          "name": "stdout",
          "text": [
            "Welcome to phitron AI/ML course,hello AI/ML , hi AI/ML\n"
          ]
        }
      ]
    },
    {
      "cell_type": "markdown",
      "source": [
        "# Splitting , Joining , Formatting"
      ],
      "metadata": {
        "id": "L78Wf9RxOX-M"
      }
    },
    {
      "cell_type": "markdown",
      "source": [
        "split--> sentece k vaag kre"
      ],
      "metadata": {
        "id": "62ukaqqTPrhb"
      }
    },
    {
      "cell_type": "code",
      "source": [
        "\n",
        "prmpt=\"What is Phitron ?\"\n",
        "tokens=prmpt.split()\n",
        "print(tokens)"
      ],
      "metadata": {
        "colab": {
          "base_uri": "https://localhost:8080/"
        },
        "id": "z2s2Grz5Ofo0",
        "outputId": "d1fc0aa4-4be4-44b6-f81e-db4049b6c8ce"
      },
      "execution_count": 112,
      "outputs": [
        {
          "output_type": "stream",
          "name": "stdout",
          "text": [
            "['What', 'is', 'Phitron', '?']\n"
          ]
        }
      ]
    },
    {
      "cell_type": "code",
      "source": [
        "prmpt2=\"What,is,Phitron-?\"\n",
        "token=prmpt2.split(\",\")\n",
        "print(token)"
      ],
      "metadata": {
        "colab": {
          "base_uri": "https://localhost:8080/"
        },
        "id": "H59xT3vCO9PL",
        "outputId": "7c7aa88e-3d4d-425a-e4ad-e3f06f585281"
      },
      "execution_count": 113,
      "outputs": [
        {
          "output_type": "stream",
          "name": "stdout",
          "text": [
            "['What', 'is', 'Phitron-?']\n"
          ]
        }
      ]
    },
    {
      "cell_type": "markdown",
      "source": [
        "join--> tokens gulo  k jog kre akta sentence a porinoto kore"
      ],
      "metadata": {
        "id": "KrGJVuZvPygD"
      }
    },
    {
      "cell_type": "code",
      "source": [
        "sentence=\"-\".join(tokens)\n",
        "print (sentence)"
      ],
      "metadata": {
        "colab": {
          "base_uri": "https://localhost:8080/"
        },
        "id": "Pfvdt_2gPSx0",
        "outputId": "ce4c0f40-4673-4e5b-9ada-cdc516a5c7b2"
      },
      "execution_count": 114,
      "outputs": [
        {
          "output_type": "stream",
          "name": "stdout",
          "text": [
            "What-is-Phitron-?\n"
          ]
        }
      ]
    },
    {
      "cell_type": "markdown",
      "source": [
        "formatting--> string k user er requirment onujayi sajai\n"
      ],
      "metadata": {
        "id": "jKr4Cxr3QGuC"
      }
    },
    {
      "cell_type": "code",
      "source": [
        "name=\"rizvi\"\n",
        "age=23\n",
        "height=5.45490448\n",
        "print(f\"His nam is {name.capitalize()}. He is {age} years old . He is {height:.2} feet tall/n\")"
      ],
      "metadata": {
        "colab": {
          "base_uri": "https://localhost:8080/"
        },
        "id": "rY10NDO4QHJK",
        "outputId": "8dd16f1f-bca7-4d82-f50e-3813d3343810"
      },
      "execution_count": 115,
      "outputs": [
        {
          "output_type": "stream",
          "name": "stdout",
          "text": [
            "His nam is Rizvi. He is 23 years old . He is 5.5 feet tall/n\n"
          ]
        }
      ]
    },
    {
      "cell_type": "markdown",
      "source": [
        "#List"
      ],
      "metadata": {
        "id": "297BG6T-SiMJ"
      }
    },
    {
      "cell_type": "markdown",
      "source": [
        "**List**--> store the collection of data.\n",
        "\n",
        "It is Mutable. It can be changed\n",
        "\n",
        "https://www.w3schools.com/python/python_ref_list.asp"
      ],
      "metadata": {
        "id": "EnN3dib6Rt2i"
      }
    },
    {
      "cell_type": "code",
      "source": [
        "numbers=[100,20,30,50,40]\n",
        "float_numbers=[10.5,6.4,7.9,45.6]\n",
        "fruits=[\"apple\",\"banana\",\"lichi\"]\n",
        "mixed_val=[100,10.5,\"banana\"]\n",
        "print(type(numbers))\n",
        "print(type(float_numbers[0]))\n",
        "print(type(fruits[0]))\n",
        "print(mixed_val)\n",
        "print(type(mixed_val[0]))\n",
        "\n",
        "list_in_list=[numbers,float_numbers,fruits,mixed_val]\n",
        "print(list_in_list)"
      ],
      "metadata": {
        "colab": {
          "base_uri": "https://localhost:8080/"
        },
        "id": "nbXPKWpoSAxK",
        "outputId": "fe815b67-662b-4d96-c27c-1b161933d230"
      },
      "execution_count": 116,
      "outputs": [
        {
          "output_type": "stream",
          "name": "stdout",
          "text": [
            "<class 'list'>\n",
            "<class 'float'>\n",
            "<class 'str'>\n",
            "[100, 10.5, 'banana']\n",
            "<class 'int'>\n",
            "[[100, 20, 30, 50, 40], [10.5, 6.4, 7.9, 45.6], ['apple', 'banana', 'lichi'], [100, 10.5, 'banana']]\n"
          ]
        }
      ]
    },
    {
      "cell_type": "markdown",
      "source": [
        "#List Method"
      ],
      "metadata": {
        "id": "MDJbzC7uX0ZH"
      }
    },
    {
      "cell_type": "code",
      "source": [
        "#access\n",
        "print(numbers[2])\n",
        "numbers[2]=90\n",
        "print(numbers[2])\n"
      ],
      "metadata": {
        "colab": {
          "base_uri": "https://localhost:8080/"
        },
        "id": "8aYRtjw2SoFp",
        "outputId": "b9473b2c-3be4-48a2-c4f2-69d76249b57a"
      },
      "execution_count": 117,
      "outputs": [
        {
          "output_type": "stream",
          "name": "stdout",
          "text": [
            "30\n",
            "90\n"
          ]
        }
      ]
    },
    {
      "cell_type": "code",
      "source": [
        "#slicing\n",
        "new_list=numbers [:4]\n",
        "print(new_list)"
      ],
      "metadata": {
        "colab": {
          "base_uri": "https://localhost:8080/"
        },
        "id": "29qVc3RyTQ1a",
        "outputId": "25b0069a-de2c-45fb-e989-858b2bb0b32d"
      },
      "execution_count": 118,
      "outputs": [
        {
          "output_type": "stream",
          "name": "stdout",
          "text": [
            "[100, 20, 90, 50]\n"
          ]
        }
      ]
    },
    {
      "cell_type": "code",
      "source": [
        "#modification\n",
        "\n",
        "#adding a item\n",
        "numbers.append(80) # last a add kore\n",
        "print(numbers)\n",
        "\n",
        "numbers.insert(1,60) # specific position a add kore\n",
        "print(numbers)\n",
        "\n",
        "\n",
        "#delete a item\n",
        "numbers.pop() # last a delete kore\n",
        "print(numbers)\n",
        "\n",
        "numbers.remove(100) # specific items delete kore\n",
        "print (numbers)"
      ],
      "metadata": {
        "colab": {
          "base_uri": "https://localhost:8080/"
        },
        "id": "WQpzleT1TjFR",
        "outputId": "26eda2b1-ce17-4530-f574-08834a426513"
      },
      "execution_count": 119,
      "outputs": [
        {
          "output_type": "stream",
          "name": "stdout",
          "text": [
            "[100, 20, 90, 50, 40, 80]\n",
            "[100, 60, 20, 90, 50, 40, 80]\n",
            "[100, 60, 20, 90, 50, 40]\n",
            "[60, 20, 90, 50, 40]\n"
          ]
        }
      ]
    },
    {
      "cell_type": "code",
      "source": [
        "#ascending\n",
        "numbers.sort()\n",
        "print(numbers)"
      ],
      "metadata": {
        "colab": {
          "base_uri": "https://localhost:8080/"
        },
        "id": "F_0fddufXSJw",
        "outputId": "1bed965d-4f2b-480b-edcf-0f57e28d1e52"
      },
      "execution_count": 120,
      "outputs": [
        {
          "output_type": "stream",
          "name": "stdout",
          "text": [
            "[20, 40, 50, 60, 90]\n"
          ]
        }
      ]
    },
    {
      "cell_type": "code",
      "source": [
        "#descending\n",
        "numbers.sort(reverse=True)\n",
        "print(numbers)"
      ],
      "metadata": {
        "colab": {
          "base_uri": "https://localhost:8080/"
        },
        "id": "5qeH3G1RXave",
        "outputId": "0171862e-f5ee-40a0-af7e-3af708ea401b"
      },
      "execution_count": 121,
      "outputs": [
        {
          "output_type": "stream",
          "name": "stdout",
          "text": [
            "[90, 60, 50, 40, 20]\n"
          ]
        }
      ]
    },
    {
      "cell_type": "markdown",
      "source": [
        "# List as Stack"
      ],
      "metadata": {
        "id": "FxcPodmNX6vQ"
      }
    },
    {
      "cell_type": "code",
      "source": [
        "stack=[]\n",
        "print(len(stack))\n",
        "print(type(stack))\n",
        "\n",
        "#stack push\n",
        "stack.append(1)\n",
        "stack.append(2)\n",
        "stack.append(3)\n",
        "stack.append(4)\n",
        "stack.append(5)\n",
        "print(stack)\n",
        "\n",
        "#getting top element\n",
        "print(stack.pop())\n",
        "print(stack.pop())\n",
        "print(stack.pop())\n"
      ],
      "metadata": {
        "colab": {
          "base_uri": "https://localhost:8080/"
        },
        "id": "1yQKB1GeYCTu",
        "outputId": "85131dbf-35b2-41ed-e51b-5a2dbfef9979"
      },
      "execution_count": 122,
      "outputs": [
        {
          "output_type": "stream",
          "name": "stdout",
          "text": [
            "0\n",
            "<class 'list'>\n",
            "[1, 2, 3, 4, 5]\n",
            "5\n",
            "4\n",
            "3\n"
          ]
        }
      ]
    },
    {
      "cell_type": "markdown",
      "source": [
        "# List as Qeue"
      ],
      "metadata": {
        "id": "1Vkd1Wx5Zore"
      }
    },
    {
      "cell_type": "code",
      "source": [
        "queue=[]\n",
        "#queue push\n",
        "queue.append(1)\n",
        "queue.append(2)\n",
        "queue.append(3)\n",
        "queue.append(4)\n",
        "queue.append(5)\n",
        "print(queue)\n",
        "\n",
        "#remove\n",
        "print(queue.pop(0))\n",
        "\n",
        "# accessing front element\n",
        "\n",
        "print(f\"front element {queue[0]}\")\n",
        "\n"
      ],
      "metadata": {
        "colab": {
          "base_uri": "https://localhost:8080/"
        },
        "id": "mwb9MmsVZsC1",
        "outputId": "9e31aeec-e47a-4dbd-984d-e44e7056c441"
      },
      "execution_count": 123,
      "outputs": [
        {
          "output_type": "stream",
          "name": "stdout",
          "text": [
            "[1, 2, 3, 4, 5]\n",
            "1\n",
            "front element 2\n"
          ]
        }
      ]
    },
    {
      "cell_type": "markdown",
      "source": [
        "#List Comprehension"
      ],
      "metadata": {
        "id": "sry66yjWa2Rd"
      }
    },
    {
      "cell_type": "markdown",
      "source": [
        "[expression for i in range() condition]"
      ],
      "metadata": {
        "id": "dGbO9jPxbwOs"
      }
    },
    {
      "cell_type": "code",
      "source": [
        "even=[]\n",
        "for i in range(100):\n",
        "  if i%2==0:\n",
        "    even.append(i)\n",
        "print(even)"
      ],
      "metadata": {
        "colab": {
          "base_uri": "https://localhost:8080/"
        },
        "id": "dHBcgzHNbCyc",
        "outputId": "43eb210c-d6fa-4c0e-dcf0-d5bd5101a3b0"
      },
      "execution_count": 124,
      "outputs": [
        {
          "output_type": "stream",
          "name": "stdout",
          "text": [
            "[0, 2, 4, 6, 8, 10, 12, 14, 16, 18, 20, 22, 24, 26, 28, 30, 32, 34, 36, 38, 40, 42, 44, 46, 48, 50, 52, 54, 56, 58, 60, 62, 64, 66, 68, 70, 72, 74, 76, 78, 80, 82, 84, 86, 88, 90, 92, 94, 96, 98]\n"
          ]
        }
      ]
    },
    {
      "cell_type": "code",
      "source": [
        "odd=[i for i in range(100) if i%2!=0 ]\n",
        "print(odd)\n",
        "\n"
      ],
      "metadata": {
        "colab": {
          "base_uri": "https://localhost:8080/"
        },
        "id": "2BNrYPeAbawk",
        "outputId": "44b9bb36-a111-4e35-e50a-4877abdc0d22"
      },
      "execution_count": 125,
      "outputs": [
        {
          "output_type": "stream",
          "name": "stdout",
          "text": [
            "[1, 3, 5, 7, 9, 11, 13, 15, 17, 19, 21, 23, 25, 27, 29, 31, 33, 35, 37, 39, 41, 43, 45, 47, 49, 51, 53, 55, 57, 59, 61, 63, 65, 67, 69, 71, 73, 75, 77, 79, 81, 83, 85, 87, 89, 91, 93, 95, 97, 99]\n"
          ]
        }
      ]
    },
    {
      "cell_type": "code",
      "source": [
        "lst=[i*2 for i in range(100) if i%2==0]\n",
        "print(lst)"
      ],
      "metadata": {
        "colab": {
          "base_uri": "https://localhost:8080/"
        },
        "id": "YvWFfLVrcN0t",
        "outputId": "52b88a33-5397-4802-857b-0848aad23553"
      },
      "execution_count": 126,
      "outputs": [
        {
          "output_type": "stream",
          "name": "stdout",
          "text": [
            "[0, 4, 8, 12, 16, 20, 24, 28, 32, 36, 40, 44, 48, 52, 56, 60, 64, 68, 72, 76, 80, 84, 88, 92, 96, 100, 104, 108, 112, 116, 120, 124, 128, 132, 136, 140, 144, 148, 152, 156, 160, 164, 168, 172, 176, 180, 184, 188, 192, 196]\n"
          ]
        }
      ]
    },
    {
      "cell_type": "code",
      "source": [
        "fruits\n",
        "capitalize_fruits=[fruits.capitalize() for fruits in fruits]\n",
        "print(capitalize_fruits)\n"
      ],
      "metadata": {
        "colab": {
          "base_uri": "https://localhost:8080/"
        },
        "id": "s70BtD76dpde",
        "outputId": "c00590f9-42cd-46e7-8fd8-03e266f6b04f"
      },
      "execution_count": 127,
      "outputs": [
        {
          "output_type": "stream",
          "name": "stdout",
          "text": [
            "['Apple', 'Banana', 'Lichi']\n"
          ]
        }
      ]
    },
    {
      "cell_type": "markdown",
      "source": [
        "#E. Lowest Number"
      ],
      "metadata": {
        "id": "9gqF2atdgeMq"
      }
    },
    {
      "cell_type": "code",
      "source": [
        "n=int(input())\n",
        "a=list(map(int,input().split()))\n",
        "mn=a[0]\n",
        "pos=1\n",
        "\n",
        "for i in range(1,n):\n",
        "  if a[i]<mn:\n",
        "    mn=a[i]\n",
        "    pos=i+1\n",
        "print(mn,pos)"
      ],
      "metadata": {
        "colab": {
          "base_uri": "https://localhost:8080/",
          "height": 245
        },
        "id": "KQn346SNgdkL",
        "outputId": "d4f1b840-1267-4981-dd13-7ab77bce1676"
      },
      "execution_count": 128,
      "outputs": [
        {
          "name": "stdout",
          "output_type": "stream",
          "text": [
            "3\n",
            "1 2 3\n"
          ]
        },
        {
          "output_type": "error",
          "ename": "TypeError",
          "evalue": "'list' object is not callable",
          "traceback": [
            "\u001b[0;31m---------------------------------------------------------------------------\u001b[0m",
            "\u001b[0;31mTypeError\u001b[0m                                 Traceback (most recent call last)",
            "\u001b[0;32m/tmp/ipython-input-3634604352.py\u001b[0m in \u001b[0;36m<cell line: 0>\u001b[0;34m()\u001b[0m\n\u001b[1;32m      1\u001b[0m \u001b[0mn\u001b[0m\u001b[0;34m=\u001b[0m\u001b[0mint\u001b[0m\u001b[0;34m(\u001b[0m\u001b[0minput\u001b[0m\u001b[0;34m(\u001b[0m\u001b[0;34m)\u001b[0m\u001b[0;34m)\u001b[0m\u001b[0;34m\u001b[0m\u001b[0;34m\u001b[0m\u001b[0m\n\u001b[0;32m----> 2\u001b[0;31m \u001b[0ma\u001b[0m\u001b[0;34m=\u001b[0m\u001b[0mlist\u001b[0m\u001b[0;34m(\u001b[0m\u001b[0mmap\u001b[0m\u001b[0;34m(\u001b[0m\u001b[0mint\u001b[0m\u001b[0;34m,\u001b[0m\u001b[0minput\u001b[0m\u001b[0;34m(\u001b[0m\u001b[0;34m)\u001b[0m\u001b[0;34m.\u001b[0m\u001b[0msplit\u001b[0m\u001b[0;34m(\u001b[0m\u001b[0;34m)\u001b[0m\u001b[0;34m)\u001b[0m\u001b[0;34m)\u001b[0m\u001b[0;34m\u001b[0m\u001b[0;34m\u001b[0m\u001b[0m\n\u001b[0m\u001b[1;32m      3\u001b[0m \u001b[0mmn\u001b[0m\u001b[0;34m=\u001b[0m\u001b[0ma\u001b[0m\u001b[0;34m[\u001b[0m\u001b[0;36m0\u001b[0m\u001b[0;34m]\u001b[0m\u001b[0;34m\u001b[0m\u001b[0;34m\u001b[0m\u001b[0m\n\u001b[1;32m      4\u001b[0m \u001b[0mpos\u001b[0m\u001b[0;34m=\u001b[0m\u001b[0;36m1\u001b[0m\u001b[0;34m\u001b[0m\u001b[0;34m\u001b[0m\u001b[0m\n\u001b[1;32m      5\u001b[0m \u001b[0;34m\u001b[0m\u001b[0m\n",
            "\u001b[0;31mTypeError\u001b[0m: 'list' object is not callable"
          ]
        }
      ]
    },
    {
      "cell_type": "markdown",
      "source": [
        "#M. Replace MinMax"
      ],
      "metadata": {
        "id": "eMpr10znjr_A"
      }
    },
    {
      "cell_type": "code",
      "source": [
        "n = int(input())\n",
        "a = list(map(int, input().split()))\n",
        "min_index = 0\n",
        "max_index = 0\n",
        "\n",
        "for i in range(1, n):\n",
        "     if a[i] < a[min_index]:\n",
        "         min_index = i\n",
        "     if a[i] > a[max_index]:\n",
        "         max_index = i\n",
        "\n",
        "# Swap min and max\n",
        "a[min_index], a[max_index] = a[max_index], a[min_index]\n",
        "print(*a)\n",
        "\n"
      ],
      "metadata": {
        "colab": {
          "base_uri": "https://localhost:8080/",
          "height": 332
        },
        "id": "yVc6wexii9Wy",
        "outputId": "e51950e9-dc15-49b0-dc60-900e50c5d35a"
      },
      "execution_count": 129,
      "outputs": [
        {
          "name": "stdout",
          "output_type": "stream",
          "text": [
            "5\n",
            "4 1 3 10 8\n"
          ]
        },
        {
          "output_type": "error",
          "ename": "TypeError",
          "evalue": "'list' object is not callable",
          "traceback": [
            "\u001b[0;31m---------------------------------------------------------------------------\u001b[0m",
            "\u001b[0;31mTypeError\u001b[0m                                 Traceback (most recent call last)",
            "\u001b[0;32m/tmp/ipython-input-3800133674.py\u001b[0m in \u001b[0;36m<cell line: 0>\u001b[0;34m()\u001b[0m\n\u001b[1;32m     18\u001b[0m \u001b[0;34m\u001b[0m\u001b[0m\n\u001b[1;32m     19\u001b[0m \u001b[0;32mif\u001b[0m \u001b[0m__name__\u001b[0m \u001b[0;34m==\u001b[0m \u001b[0;34m\"__main__\"\u001b[0m\u001b[0;34m:\u001b[0m\u001b[0;34m\u001b[0m\u001b[0;34m\u001b[0m\u001b[0m\n\u001b[0;32m---> 20\u001b[0;31m     \u001b[0mmain\u001b[0m\u001b[0;34m(\u001b[0m\u001b[0;34m)\u001b[0m\u001b[0;34m\u001b[0m\u001b[0;34m\u001b[0m\u001b[0m\n\u001b[0m",
            "\u001b[0;32m/tmp/ipython-input-3800133674.py\u001b[0m in \u001b[0;36mmain\u001b[0;34m()\u001b[0m\n\u001b[1;32m      1\u001b[0m \u001b[0;32mdef\u001b[0m \u001b[0mmain\u001b[0m\u001b[0;34m(\u001b[0m\u001b[0;34m)\u001b[0m\u001b[0;34m:\u001b[0m\u001b[0;34m\u001b[0m\u001b[0;34m\u001b[0m\u001b[0m\n\u001b[1;32m      2\u001b[0m     \u001b[0mn\u001b[0m \u001b[0;34m=\u001b[0m \u001b[0mint\u001b[0m\u001b[0;34m(\u001b[0m\u001b[0minput\u001b[0m\u001b[0;34m(\u001b[0m\u001b[0;34m)\u001b[0m\u001b[0;34m)\u001b[0m\u001b[0;34m\u001b[0m\u001b[0;34m\u001b[0m\u001b[0m\n\u001b[0;32m----> 3\u001b[0;31m     \u001b[0ma\u001b[0m \u001b[0;34m=\u001b[0m \u001b[0mlist\u001b[0m\u001b[0;34m(\u001b[0m\u001b[0mmap\u001b[0m\u001b[0;34m(\u001b[0m\u001b[0mint\u001b[0m\u001b[0;34m,\u001b[0m \u001b[0minput\u001b[0m\u001b[0;34m(\u001b[0m\u001b[0;34m)\u001b[0m\u001b[0;34m.\u001b[0m\u001b[0msplit\u001b[0m\u001b[0;34m(\u001b[0m\u001b[0;34m)\u001b[0m\u001b[0;34m)\u001b[0m\u001b[0;34m)\u001b[0m\u001b[0;34m\u001b[0m\u001b[0;34m\u001b[0m\u001b[0m\n\u001b[0m\u001b[1;32m      4\u001b[0m \u001b[0;34m\u001b[0m\u001b[0m\n\u001b[1;32m      5\u001b[0m     \u001b[0mmin_index\u001b[0m \u001b[0;34m=\u001b[0m \u001b[0;36m0\u001b[0m\u001b[0;34m\u001b[0m\u001b[0;34m\u001b[0m\u001b[0m\n",
            "\u001b[0;31mTypeError\u001b[0m: 'list' object is not callable"
          ]
        }
      ]
    },
    {
      "cell_type": "markdown",
      "source": [
        "#K. Sum Digits"
      ],
      "metadata": {
        "id": "bJbJlnRyj3RT"
      }
    },
    {
      "cell_type": "code",
      "source": [
        "n=int(input())\n",
        "a = input().strip()\n",
        "tot=0\n",
        "for i in a:\n",
        "  tot+=int(i)\n",
        "print(tot)\n"
      ],
      "metadata": {
        "colab": {
          "base_uri": "https://localhost:8080/"
        },
        "id": "i0f4QvRfj48Q",
        "outputId": "acda34f0-1eea-4c4b-f0df-6cc3be9e8427"
      },
      "execution_count": 130,
      "outputs": [
        {
          "output_type": "stream",
          "name": "stdout",
          "text": [
            "2\n",
            "13\n",
            "4\n"
          ]
        }
      ]
    },
    {
      "cell_type": "markdown",
      "source": [
        "#H. Good or Bad"
      ],
      "metadata": {
        "id": "UiD7dpqplIjX"
      }
    },
    {
      "cell_type": "code",
      "source": [
        "t= int(input())\n",
        "for _ in range(t):\n",
        "    s = input().strip()\n",
        "    if \"010\" in s or \"101\" in s:\n",
        "        print(\"Good\")\n",
        "    else:\n",
        "        print(\"Bad\")\n"
      ],
      "metadata": {
        "colab": {
          "base_uri": "https://localhost:8080/"
        },
        "id": "X36yuoVqlKsH",
        "outputId": "c8b04790-cdc2-4e1b-cf9c-a2734cf08b9e"
      },
      "execution_count": 131,
      "outputs": [
        {
          "output_type": "stream",
          "name": "stdout",
          "text": [
            "2\n",
            "11111110\n",
            "Bad\n",
            "10101010101010\n",
            "Good\n"
          ]
        }
      ]
    },
    {
      "cell_type": "markdown",
      "source": [
        "#V. Replace Word"
      ],
      "metadata": {
        "id": "Te3l96pAlxym"
      }
    },
    {
      "cell_type": "code",
      "source": [
        "s=input()\n",
        "res=s.replace(\"EGYPT\",\" \")\n",
        "print (res)"
      ],
      "metadata": {
        "colab": {
          "base_uri": "https://localhost:8080/"
        },
        "id": "xjQOA4U6ly5f",
        "outputId": "2134db3f-cf79-4eca-804b-3eb668be6ca6"
      },
      "execution_count": 132,
      "outputs": [
        {
          "output_type": "stream",
          "name": "stdout",
          "text": [
            "BRITISHEGYPTGHANA\n",
            "BRITISH GHANA\n"
          ]
        }
      ]
    }
  ]
}