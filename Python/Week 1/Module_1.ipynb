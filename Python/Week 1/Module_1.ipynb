{
  "cells": [
    {
      "cell_type": "code",
      "execution_count": null,
      "metadata": {
        "colab": {
          "base_uri": "https://localhost:8080/"
        },
        "id": "HZd-TmqVL9Ao",
        "outputId": "25458677-fb37-4f1d-c1c0-9c7e42000ee8"
      },
      "outputs": [
        {
          "name": "stdout",
          "output_type": "stream",
          "text": [
            "{'a': 3, 'b': 2}\n",
            "[[1, 2, 3], [4, 5, 6]]\n",
            "(1, 2, 3, [1, 2, 3], 'Arif')\n",
            "{1, 2, 3, 'Arif'}\n",
            "<class 'int'> <class 'float'> <class 'str'> <class 'list'> <class 'tuple'> <class 'dict'> <class 'set'>\n"
          ]
        }
      ],
      "source": [
        "# --- DEMO: Core types & literals ---\n",
        "x = 42                 # int\n",
        "y = 3.14               # float\n",
        "z = \"hello\"            # str\n",
        "t = True               # bool\n",
        "lst = [[1, 2, 3, [\"Arif\", \"Rahul\", 3.5, 100*2], 4], [10 , 20, 30]]\n",
        "ls2D =[ [1, 2, 3],[4, 5, 6] ]     # list (mutable)\n",
        "tpl = (1, 2, 3, [1, 2, 3], \"Arif\")        # tuple (immutable)\n",
        "dct = {\"a\": 1, \"b\": 2, \"a\": 3} # dict (mapping)\n",
        "st = {1, 2, 2, 3, \"Arif\"}      # set (unique)\n",
        "lst.append(10)\n",
        "\n",
        "print(dct)\n",
        "print(ls2D)\n",
        "print(tpl)\n",
        "print(st)\n",
        "print(type(x), type(y), type(z), type(lst), type(tpl), type(dct), type(st))"
      ]
    },
    {
      "cell_type": "code",
      "execution_count": null,
      "metadata": {
        "colab": {
          "base_uri": "https://localhost:8080/"
        },
        "id": "IsCzx-UFOKx7",
        "outputId": "cafe09b0-c141-415c-e908-9c9551770ccb"
      },
      "outputs": [
        {
          "name": "stdout",
          "output_type": "stream",
          "text": [
            "[20, 30, 40]\n",
            "[40, 50, 60]\n",
            "[10, 30, 50]\n",
            "[60, 50, 40, 30, 20, 10]\n",
            "[10, 20, 30]\n"
          ]
        }
      ],
      "source": [
        "# --- DEMO: Slicing sequences ---\n",
        "nums = [10, 20, 30, 40, 50, 60]\n",
        "print(nums[1:4])   # middle slice\n",
        "print(nums[-3:])   # last 3\n",
        "print(nums[::2])   # step slice\n",
        "print(nums[::-1])  # reverse\n",
        "print(nums[:-3])"
      ]
    },
    {
      "cell_type": "code",
      "execution_count": null,
      "metadata": {
        "colab": {
          "base_uri": "https://localhost:8080/"
        },
        "id": "TuOmqN7cOeXb",
        "outputId": "92e52969-1406-4e41-b318-5ef544c2eb61"
      },
      "outputs": [
        {
          "name": "stdout",
          "output_type": "stream",
          "text": [
            "0 → Falsy\n",
            "1 → Truthy\n",
            "'' → Falsy\n",
            "'text' → Truthy\n",
            "[] → Falsy\n",
            "[1] → Truthy\n",
            "{} → Falsy\n",
            "{'k': 1} → Truthy\n",
            "None → Falsy\n",
            "John scored 95% (next: 96%)\n"
          ]
        }
      ],
      "source": [
        "# --- DEMO: Truthiness ---\n",
        "samples = [0, 1, \"\", \"text\", [], [1], {}, {\"k\": 1}, None]\n",
        "for item in samples:\n",
        "    if item:\n",
        "        print(repr(item), \"→ Truthy\")\n",
        "    else:\n",
        "        print(repr(item), \"→ Falsy\")\n",
        "\n",
        "# --- DEMO: f-strings ---\n",
        "name = \"John\"\n",
        "score = 95\n",
        "print(f\"{name} scored {score}% (next: {score + 1}%)\")"
      ]
    },
    {
      "cell_type": "code",
      "execution_count": null,
      "metadata": {
        "colab": {
          "base_uri": "https://localhost:8080/"
        },
        "id": "zOHTXzeaOlr9",
        "outputId": "b7a1cbae-698d-47bb-f785-cf8b430b2100"
      },
      "outputs": [
        {
          "name": "stdout",
          "output_type": "stream",
          "text": [
            "User Name: Alice\n",
            "First Item Price: 1200\n",
            "User Email: abc@edu.com\n"
          ]
        }
      ],
      "source": [
        "# --- DEMO: Nested data structures ---\n",
        "data = {\n",
        "    \"user\": {\n",
        "        \"name\": \"Alice\",\n",
        "        \"id\": 123,\n",
        "        \"contact\": {\n",
        "            \"email\": [\"alice@example.com\", \"abc@edu.com\"],\n",
        "            \"phone\": \"555-1234\"\n",
        "        }\n",
        "    },\n",
        "    \"items\": [\n",
        "        {\"name\": \"Laptop\", \"price\": 1200},\n",
        "        {\"name\": \"Keyboard\", \"price\": 75}\n",
        "    ]\n",
        "}\n",
        "\n",
        "print(\"User Name:\", data[\"user\"][\"name\"])\n",
        "print(\"First Item Price:\", data[\"items\"][0][\"price\"])\n",
        "print(\"User Email:\", data[\"user\"][\"contact\"][\"email\"][1])"
      ]
    },
    {
      "cell_type": "markdown",
      "metadata": {
        "id": "2thpV3tQO4_R"
      },
      "source": [
        "#Problem: Analyze Order Data\n",
        "Given the following nested dictionary representing a customer order, extract and print the following information:\n",
        "\n",
        "\n",
        "\n",
        "1.   The customer's full name.\n",
        "2.   The total price of all items in the order.\n",
        "3. A list of the names of all items in the orde\n",
        "\n"
      ]
    },
    {
      "cell_type": "code",
      "execution_count": 1,
      "metadata": {
        "colab": {
          "base_uri": "https://localhost:8080/"
        },
        "id": "Z0hOhN1jPbsV",
        "outputId": "565c7dd6-fe4f-484f-a333-0b345eb1d887"
      },
      "outputs": [
        {
          "name": "stdout",
          "output_type": "stream",
          "text": [
            "Customer Full Name: Bob Johnson\n",
            "Total Order Price: 31.689999999999998\n",
            "Item Names: ['Book', 'Notebook', 'Pen']\n"
          ]
        }
      ],
      "source": [
        "order_data = {\n",
        "    \"customer\": {\n",
        "        \"first_name\": \"Bob\",\n",
        "        \"last_name\": \"Johnson\"\n",
        "    },\n",
        "    \"items\": [\n",
        "        {\"item_name\": \"Book\",\n",
        "         \"price\": 25.99\n",
        "         },\n",
        "        {\"item_name\": \"Notebook\",\n",
        "         \"price\": 4.50\n",
        "         },\n",
        "        {\"item_name\": \"Pen\",\n",
        "         \"price\": 1.20\n",
        "         }\n",
        "    ]\n",
        "}\n",
        "\n",
        "# 1. Customer's full name\n",
        "full_name = f\"{order_data['customer']['first_name']} {order_data['customer']['last_name']}\"\n",
        "print(\"Customer Full Name:\", full_name)\n",
        "\n",
        "# 2. Total price of all items\n",
        "total_price = sum(item[\"price\"] for item in order_data[\"items\"])\n",
        "print(\"Total Order Price:\", total_price)\n",
        "\n",
        "# 3. List of item names\n",
        "item_names = [item[\"item_name\"] for item in order_data[\"items\"]]\n",
        "print(\"Item Names:\", item_names)"
      ]
    },
    {
      "cell_type": "markdown",
      "metadata": {
        "id": "8u102sf1P7r-"
      },
      "source": [
        "# Exercises (quick checks)\n",
        "* E1.1: Slice mylist = [1,2,3,4,5,6,7,8] to get the even-indexed items.\n",
        "* E1.2: Using f‑strings, print: \"User: <your name>, Items: <count>\" where count is the length of a list.\n",
        "* Stretch: Create a dict and print a sentence using f‑strings that references two keys."
      ]
    },
    {
      "cell_type": "code",
      "execution_count": null,
      "metadata": {
        "colab": {
          "base_uri": "https://localhost:8080/"
        },
        "id": "daZOw1_4QSe9",
        "outputId": "c6787880-c59a-4f2c-c2d3-e99c9620a0c3"
      },
      "outputs": [
        {
          "name": "stdout",
          "output_type": "stream",
          "text": [
            "[1, 3, 5, 7]\n",
            "User: Rifat, Items: 5\n",
            "My name is Rifat and I am 21 years old.\n"
          ]
        }
      ],
      "source": [
        "\n",
        "# TODO E1.1\n",
        "mylist = [1, 2, 3, 4, 5, 6, 7, 8]\n",
        "even_indexed = mylist[::2]\n",
        "print(even_indexed)\n",
        "\n",
        "\n",
        "# TODO E1.2\n",
        "user = \"Rifat\"\n",
        "mylist = [1, 2, 3, 4, 5]\n",
        "\n",
        "print(f\"User: {user}, Items: {len(mylist)}\")\n",
        "\n",
        "\n",
        "# TODO Stretch\n",
        "\n",
        "person = {\n",
        "    \"name\": \"Rifat\",\n",
        "    \"age\": 21\n",
        "}\n",
        "\n",
        "print(f\"My name is {person['name']} and I am {person['age']} years old.\")\n"
      ]
    },
    {
      "cell_type": "markdown",
      "metadata": {
        "id": "5I_92wukQpU9"
      },
      "source": [
        "# 2) Control Flow & Comprehensions\n",
        "\n",
        "Topics: if/elif/else, loops, list/dict/set comprehensions"
      ]
    },
    {
      "cell_type": "code",
      "execution_count": null,
      "metadata": {
        "colab": {
          "base_uri": "https://localhost:8080/"
        },
        "collapsed": true,
        "id": "bK2sZE58QxWL",
        "outputId": "cfc53259-3040-4009-cc3e-3f107db7a18c"
      },
      "outputs": [
        {
          "name": "stdout",
          "output_type": "stream",
          "text": [
            "10 → even\n",
            "11 → odd\n",
            "12 → even\n",
            "13 → odd\n",
            "14 → even\n",
            "15 → odd\n",
            "16 → even\n",
            "17 → odd\n",
            "18 → even\n",
            "19 → odd\n",
            "20 → even\n",
            "21 → odd\n",
            "22 → even\n",
            "23 → odd\n",
            "24 → even\n",
            "25 → odd\n",
            "26 → even\n",
            "27 → odd\n",
            "28 → even\n",
            "29 → odd\n",
            "30 → even\n",
            "31 → odd\n",
            "32 → even\n",
            "33 → odd\n",
            "34 → even\n",
            "35 → odd\n",
            "36 → even\n",
            "37 → odd\n",
            "38 → even\n",
            "39 → odd\n",
            "40 → even\n",
            "41 → odd\n",
            "42 → even\n",
            "43 → odd\n",
            "44 → even\n",
            "45 → odd\n",
            "46 → even\n",
            "47 → odd\n",
            "48 → even\n",
            "49 → odd\n",
            "50 → even\n"
          ]
        }
      ],
      "source": [
        "# --- DEMO: Control flow ---\n",
        "for i in range(10, 51):\n",
        "    if i == 0:\n",
        "        label = \"zero\"\n",
        "    elif i % 2 == 0:\n",
        "        label = \"even\"\n",
        "    else:\n",
        "        label = \"odd\"\n",
        "    print(i, \"→\", label)"
      ]
    },
    {
      "cell_type": "code",
      "execution_count": null,
      "metadata": {
        "colab": {
          "base_uri": "https://localhost:8080/"
        },
        "collapsed": true,
        "id": "laKYxkE3Q2lz",
        "outputId": "f240aa28-9d7a-4a9d-9a57-c6fb14278cb1"
      },
      "outputs": [
        {
          "name": "stdout",
          "output_type": "stream",
          "text": [
            "0\n",
            "0\n",
            "0\n",
            "1\n",
            "0\n",
            "2\n",
            "0\n",
            "3\n",
            "0\n",
            "4\n",
            "1\n",
            "0\n",
            "1\n",
            "1\n",
            "1\n",
            "2\n",
            "1\n",
            "3\n",
            "1\n",
            "4\n",
            "2\n",
            "0\n",
            "2\n",
            "1\n",
            "2\n",
            "2\n",
            "2\n",
            "3\n",
            "2\n",
            "4\n",
            "3\n",
            "0\n",
            "3\n",
            "1\n",
            "3\n",
            "2\n",
            "3\n",
            "3\n",
            "3\n",
            "4\n",
            "4\n",
            "0\n",
            "4\n",
            "1\n",
            "4\n",
            "2\n",
            "4\n",
            "3\n",
            "4\n",
            "4\n"
          ]
        }
      ],
      "source": [
        "for i in range(5):\n",
        "  for j in range(5):\n",
        "    print(i)\n",
        "    print(j)"
      ]
    },
    {
      "cell_type": "code",
      "execution_count": null,
      "metadata": {
        "colab": {
          "base_uri": "https://localhost:8080/"
        },
        "id": "G4PLcRvHQ6Ld",
        "outputId": "1efeeff5-812e-48ae-90bb-d37902f04c25"
      },
      "outputs": [
        {
          "name": "stdout",
          "output_type": "stream",
          "text": [
            "First [95.0, 104.0, 82.4, 89.6, 86.0]\n",
            "[104.0, 82.4, 89.6, 86.0]\n",
            "95.0\n",
            "104.0\n",
            "82.4\n",
            "89.6\n",
            "86.0\n",
            "Square is : [0, 1, 4, 9, 16, 25]\n",
            "even: [0, 2, 4, 6, 8, 10, 12, 14, 16, 18]\n",
            "smap: {0: 0, 1: 1, 2: 4, 3: 9, 4: 16}\n",
            "ui : {'a', 'b'}\n"
          ]
        }
      ],
      "source": [
        "# --- DEMO: Comprehensions ---\n",
        "temp = [35, 40, 28, 32, 30]\n",
        "\n",
        "farhen = [item*(9/5)+32 for item in temp]\n",
        "print(f\"First {farhen}\")\n",
        "\n",
        "farhen1 = [item*(9/5)+32 for item in temp if item % 2 == 0]\n",
        "print(farhen1)\n",
        "\n",
        "for item in temp:\n",
        "  print(item*(9/5)+32)\n",
        "\n",
        "squares = [x**2 for x in range(6)]\n",
        "\n",
        "evens = [x for x in range(20) if x % 2 == 0]\n",
        "\n",
        "square_map = {x: x**2 for x in range(5)}\n",
        "\n",
        "unique_initials = {item[0].lower() for item in [\"Alice\", \"Bob\", \"alex\", \"Beta\"]}\n",
        "\n",
        "print(f\"Square is : {squares}\")\n",
        "print(f\"even: {evens}\")\n",
        "print(f\"smap: {square_map}\")\n",
        "print(f\"ui : {unique_initials}\")"
      ]
    },
    {
      "cell_type": "code",
      "execution_count": null,
      "metadata": {
        "colab": {
          "base_uri": "https://localhost:8080/"
        },
        "id": "0nQ4tRPaQ-Ui",
        "outputId": "ee2954d3-8bbf-4bde-861c-10a7f8745753"
      },
      "outputs": [
        {
          "name": "stdout",
          "output_type": "stream",
          "text": [
            "Nested Squares: [[4, 16], [16, 36, 64], [64, 100]]\n"
          ]
        }
      ],
      "source": [
        "nested_squares = [[x**2 for x in range(i, i+5) if x % 2 == 0] for i in range(1, 10, 3)]\n",
        "print(\"Nested Squares:\", nested_squares)"
      ]
    },
    {
      "cell_type": "code",
      "execution_count": null,
      "metadata": {
        "colab": {
          "base_uri": "https://localhost:8080/"
        },
        "id": "7VF4bY61RBjP",
        "outputId": "9ec10f65-e58a-47bf-cc8b-0c5e17dbff05"
      },
      "outputs": [
        {
          "name": "stdout",
          "output_type": "stream",
          "text": [
            "Nested Squares: [[4, 16], [16, 36, 64], [64, 100]]\n",
            "Number Descriptions: {1: 'Odd', 2: 'Even', 3: 'Odd and divisible by 3', 4: 'Even', 5: 'Odd', 6: 'Even and divisible by 3', 7: 'Odd', 8: 'Even', 9: 'Odd and divisible by 3', 10: 'Even', 11: 'Odd', 12: 'Even and divisible by 3', 13: 'Odd', 14: 'Even', 15: 'Odd and divisible by 3', 16: 'Even', 17: 'Odd', 18: 'Even and divisible by 3', 19: 'Odd', 20: 'Even', 21: 'Odd and divisible by 3', 22: 'Even', 23: 'Odd', 24: 'Even and divisible by 3', 25: 'Odd', 26: 'Even', 27: 'Odd and divisible by 3', 28: 'Even', 29: 'Odd', 30: 'Even and divisible by 3', 31: 'Odd', 32: 'Even', 33: 'Odd and divisible by 3', 34: 'Even', 35: 'Odd', 36: 'Even and divisible by 3', 37: 'Odd', 38: 'Even', 39: 'Odd and divisible by 3', 40: 'Even', 41: 'Odd', 42: 'Even and divisible by 3', 43: 'Odd', 44: 'Even', 45: 'Odd and divisible by 3', 46: 'Even', 47: 'Odd', 48: 'Even and divisible by 3', 49: 'Odd', 50: 'Even', 51: 'Odd and divisible by 3', 52: 'Even', 53: 'Odd', 54: 'Even and divisible by 3', 55: 'Odd', 56: 'Even', 57: 'Odd and divisible by 3', 58: 'Even', 59: 'Odd', 60: 'Even and divisible by 3', 61: 'Odd', 62: 'Even', 63: 'Odd and divisible by 3', 64: 'Even', 65: 'Odd', 66: 'Even and divisible by 3', 67: 'Odd', 68: 'Even', 69: 'Odd and divisible by 3', 70: 'Even', 71: 'Odd', 72: 'Even and divisible by 3', 73: 'Odd', 74: 'Even', 75: 'Odd and divisible by 3', 76: 'Even', 77: 'Odd', 78: 'Even and divisible by 3', 79: 'Odd', 80: 'Even', 81: 'Odd and divisible by 3', 82: 'Even', 83: 'Odd', 84: 'Even and divisible by 3', 85: 'Odd', 86: 'Even', 87: 'Odd and divisible by 3', 88: 'Even', 89: 'Odd', 90: 'Even and divisible by 3', 91: 'Odd', 92: 'Even', 93: 'Odd and divisible by 3', 94: 'Even', 95: 'Odd', 96: 'Even and divisible by 3', 97: 'Odd', 98: 'Even', 99: 'Odd and divisible by 3'}\n"
          ]
        }
      ],
      "source": [
        "# --- DEMO: Nested Comprehensions and Conditional Logic ---\n",
        "# Create a list of lists where inner lists contain squares of even numbers\n",
        "nested_squares = [[x**2 for x in range(i, i+5) if x % 2 == 0] for i in range(1, 10, 3)]\n",
        "print(\"Nested Squares:\", nested_squares)\n",
        "\n",
        "# Create a dictionary mapping numbers to a description based on conditions\n",
        "number_descriptions = {\n",
        "    num: (\"Even and divisible by 3\" if num % 2 == 0 and num % 3 == 0\n",
        "          else \"Even\" if num % 2 == 0\n",
        "          else \"Odd and divisible by 3\" if num % 3 == 0\n",
        "          else \"Odd\")\n",
        "    for num in range(1, 100)\n",
        "}\n",
        "print(\"Number Descriptions:\", number_descriptions)"
      ]
    },
    {
      "cell_type": "markdown",
      "metadata": {
        "id": "i-QOKivGRRnY"
      },
      "source": [
        "# Problem: Analyze User Order Data\n",
        "\n",
        "Given a list of user dictionaries, where each user has a list of orders, perform the following analyses:\n",
        "* Calculate and print the total amount spent by each user.\n",
        "* Create a list of all order amounts across all users.\n",
        "* Create a dictionary mapping each user's ID to the number of orders they have placed."
      ]
    },
    {
      "cell_type": "code",
      "execution_count": null,
      "metadata": {
        "colab": {
          "base_uri": "https://localhost:8080/"
        },
        "id": "QpsYUuVBRhYS",
        "outputId": "018d1bbe-170b-4c14-9a99-35610e5cd23a"
      },
      "outputs": [
        {
          "name": "stdout",
          "output_type": "stream",
          "text": [
            "Total amount spent by each user (using loop):\n",
            "Alice: $350\n",
            "Bob: $50\n",
            "Charlie: $0\n",
            "\n",
            "All order amounts: [150, 200, 50]\n",
            "Number of orders per user: {1: 2, 2: 1, 3: 0}\n"
          ]
        }
      ],
      "source": [
        "# --- DEMO: Combining Nested Structures with Control Flow and Comprehensions ---\n",
        "\n",
        "# Sample data: list of user dictionaries with a list of orders for each user\n",
        "users_data = [\n",
        "    {\"user_id\": 1, \"name\": \"Alice\", \"orders\": [{\"order_id\": \"A1\", \"amount\": 150}, {\"order_id\": \"A2\", \"amount\": 200}]},\n",
        "    {\"user_id\": 2, \"name\": \"Bob\", \"orders\": [{\"order_id\": \"B1\", \"amount\": 50}]},\n",
        "    {\"user_id\": 3, \"name\": \"Charlie\", \"orders\": []}\n",
        "]\n",
        "\n",
        "# Calculate the total amount spent by each user using a loop\n",
        "print(\"Total amount spent by each user (using loop):\")\n",
        "for user in users_data:\n",
        "    total_spent = 0\n",
        "    for order in user.get(\"orders\", []): # Use .get() for safe access\n",
        "        total_spent += order.get(\"amount\", 0) # Use .get() for safe access\n",
        "    print(f\"{user.get('name', 'N/A')}: ${total_spent}\")\n",
        "\n",
        "# Get a list of all order amounts across all users using a nested comprehension\n",
        "all_order_amounts = [order.get(\"amount\", 0) for user in users_data for order in user.get(\"orders\", [])]\n",
        "print(\"\\nAll order amounts:\", all_order_amounts)\n",
        "\n",
        "# Create a dictionary mapping user_id to the number of orders using a dictionary comprehension\n",
        "orders_count_by_user = {user.get(\"user_id\"): len(user.get(\"orders\", [])) for user in users_data}\n",
        "print(\"Number of orders per user:\", orders_count_by_user)"
      ]
    },
    {
      "cell_type": "markdown",
      "metadata": {
        "id": "2pMWCJQTRnQ7"
      },
      "source": [
        "#Exercises\n",
        "\n",
        "* E2.1: From text = \"Educating AI with Python\", build a list of vowels using a comprehension.\n",
        "* E2.2: Create a dict mapping numbers 1..5 to \"odd\"/\"even\" using a comprehension.\n",
        "* Stretch: Build a set of unique lowercase letters from a sentence, excluding spaces and punctuation."
      ]
    },
    {
      "cell_type": "code",
      "execution_count": null,
      "metadata": {
        "colab": {
          "base_uri": "https://localhost:8080/"
        },
        "id": "_qq_QxC5RvU3",
        "outputId": "22b92f31-24ef-466d-f799-50c4bd3c5fbc"
      },
      "outputs": [
        {
          "name": "stdout",
          "output_type": "stream",
          "text": [
            "['E', 'u', 'a', 'i', 'A', 'I', 'i', 'o']\n",
            "{1: 'odd', 2: 'even', 3: 'odd', 4: 'even', 5: 'odd'}\n",
            "{'a', 't', 'n', 'w', 'e', 'd', 'p', 'h', 'o', 'y', 'c', 'g', 'u', 'i'}\n"
          ]
        }
      ],
      "source": [
        "# TODO E2.1\n",
        "\n",
        "text = \"Educating AI with Python\"\n",
        "\n",
        "vowels = [ch for ch in text if ch.lower() in 'aeiou']\n",
        "print(vowels)\n",
        "\n",
        "# TODO E2.2\n",
        "\n",
        "num_dict = {n: (\"even\" if n % 2 == 0 else \"odd\") for n in range(1, 6)}\n",
        "print(num_dict)\n",
        "\n",
        "# TODO Stretch\n",
        "sentence = \"Educating AI with Python!\"\n",
        "\n",
        "letters = {ch.lower() for ch in sentence if ch.isalpha()}\n",
        "print(letters)\n"
      ]
    }
  ],
  "metadata": {
    "colab": {
      "provenance": []
    },
    "kernelspec": {
      "display_name": "Python 3",
      "name": "python3"
    },
    "language_info": {
      "codemirror_mode": {
        "name": "ipython",
        "version": 3
      },
      "file_extension": ".py",
      "mimetype": "text/x-python",
      "name": "python",
      "nbconvert_exporter": "python",
      "pygments_lexer": "ipython3",
      "version": "3.11.9"
    }
  },
  "nbformat": 4,
  "nbformat_minor": 0
}
