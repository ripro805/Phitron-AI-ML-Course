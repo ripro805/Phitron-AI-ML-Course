{
  "nbformat": 4,
  "nbformat_minor": 0,
  "metadata": {
    "colab": {
      "provenance": []
    },
    "kernelspec": {
      "name": "python3",
      "display_name": "Python 3"
    },
    "language_info": {
      "name": "python"
    }
  },
  "cells": [
    {
      "cell_type": "markdown",
      "source": [
        "https://docs.google.com/document/d/1Hv5P4fXko1Gph4n2cWu2oXKkO5NxE3ZoYKsMPK67mfg/edit?tab=t.0"
      ],
      "metadata": {
        "id": "kRVP9y1UPp4B"
      }
    },
    {
      "cell_type": "markdown",
      "source": [
        "#Smart Light Pilot"
      ],
      "metadata": {
        "id": "sR2YSQv3PmBS"
      }
    },
    {
      "cell_type": "code",
      "execution_count": 1,
      "metadata": {
        "colab": {
          "base_uri": "https://localhost:8080/"
        },
        "id": "XLdsHXWQPaEJ",
        "outputId": "df80fb47-066c-4dd7-cb27-632a168c6aa8"
      },
      "outputs": [
        {
          "output_type": "stream",
          "name": "stdout",
          "text": [
            "60 50\n",
            "ON\n"
          ]
        }
      ],
      "source": [
        "brightness,threshold=map(float,input().split())\n",
        "if brightness>=threshold:\n",
        "  print(\"ON\")\n",
        "else:\n",
        "  print(\"OFF\")"
      ]
    },
    {
      "cell_type": "markdown",
      "source": [
        "#Sensor Calibrator — Min-Max Scaling"
      ],
      "metadata": {
        "id": "LfDDB08aQx_J"
      }
    },
    {
      "cell_type": "code",
      "source": [
        "x,min_v,max_v=map(float,input().split())\n",
        "norm=(x-min_v)/(max_v-min_v)\n",
        "print(f\"{norm:.2f}\")"
      ],
      "metadata": {
        "colab": {
          "base_uri": "https://localhost:8080/"
        },
        "id": "WcmzoWwvQzXx",
        "outputId": "0061712f-2968-4201-b682-65e29a1c0ac7"
      },
      "execution_count": 4,
      "outputs": [
        {
          "output_type": "stream",
          "name": "stdout",
          "text": [
            "0 0 10\n",
            "0.00\n"
          ]
        }
      ]
    },
    {
      "cell_type": "markdown",
      "source": [
        "#Mini Loss Tracker"
      ],
      "metadata": {
        "id": "Mo38Gz4FR5HU"
      }
    },
    {
      "cell_type": "code",
      "source": [
        "n = int(input())\n",
        "target = float(input())\n",
        "\n",
        "total = 0.0\n",
        "for i in range(n):\n",
        "    loss = float(input())\n",
        "    total += loss\n",
        "\n",
        "avg_loss = total / n\n",
        "\n",
        "if avg_loss <= target:\n",
        "    print(\"PASS\")\n",
        "else:\n",
        "    print(\"RETRY\")\n"
      ],
      "metadata": {
        "colab": {
          "base_uri": "https://localhost:8080/"
        },
        "id": "O8wTwCo0R8pK",
        "outputId": "6d8aa639-c499-4732-e061-0b3e4dbda857"
      },
      "execution_count": 6,
      "outputs": [
        {
          "output_type": "stream",
          "name": "stdout",
          "text": [
            "3\n",
            "0.35\n",
            "0.20\n",
            "0.30\n",
            "0.40\n",
            "PASS\n"
          ]
        }
      ]
    },
    {
      "cell_type": "markdown",
      "source": [
        "#Majority Vote Gate"
      ],
      "metadata": {
        "id": "-Z-bqgfxUO3B"
      }
    },
    {
      "cell_type": "code",
      "source": [
        "n=int(input())\n",
        "y_cnt=0\n",
        "n_cnt=0\n",
        "for i in range(n):\n",
        "  v=input().strip()\n",
        "  if v==\"YES\":\n",
        "    y_cnt+=1\n",
        "  else:\n",
        "    n_cnt+=1\n",
        "if y_cnt>=n_cnt:\n",
        "  print(\"ACCEPT\")\n",
        "else:\n",
        "  print(\"REJECT\")\n",
        "\n"
      ],
      "metadata": {
        "colab": {
          "base_uri": "https://localhost:8080/"
        },
        "id": "x4IwF661UQDY",
        "outputId": "99f42b42-d982-4a96-cb25-03e2f4c3f48a"
      },
      "execution_count": 12,
      "outputs": [
        {
          "output_type": "stream",
          "name": "stdout",
          "text": [
            "1\n",
            "YES\n",
            "ACCEPT\n"
          ]
        }
      ]
    },
    {
      "cell_type": "markdown",
      "source": [
        "#AI Mood Detector"
      ],
      "metadata": {
        "id": "WBTIEnmUVRpg"
      }
    },
    {
      "cell_type": "code",
      "source": [
        "message = input().strip()\n",
        "\n",
        "if \"happy\" in message or \"joy\" in message or \"smile\" in message:\n",
        "    print(\"Happy Mood\")\n",
        "elif \"sad\" in message or \"cry\" in message or \"angry\" in message:\n",
        "    print(\"Sad Mood\")\n",
        "else:\n",
        "    print(\"Neutral Mood\")\n"
      ],
      "metadata": {
        "colab": {
          "base_uri": "https://localhost:8080/"
        },
        "id": "mjxaT0ByVTAg",
        "outputId": "9aaba5db-46cf-45af-ed0a-12228a481cdb"
      },
      "execution_count": 13,
      "outputs": [
        {
          "output_type": "stream",
          "name": "stdout",
          "text": [
            "i am angry today\n",
            "Sad Mood\n"
          ]
        }
      ]
    },
    {
      "cell_type": "markdown",
      "source": [
        "#AI Brightness Analyzer"
      ],
      "metadata": {
        "id": "G-xzOr7VXaw_"
      }
    },
    {
      "cell_type": "code",
      "source": [
        "pixel=list(input().split())\n",
        "tot=0\n",
        "cnt=0\n",
        "for p in pixel:\n",
        "  tot+=int(p)\n",
        "  cnt+=1\n",
        "avg=tot/cnt\n",
        "if avg<85:\n",
        "  print(\"Dark Image\")\n",
        "elif avg>=85 and avg<=170:\n",
        "  print(\"Normal Image\")\n",
        "else:\n",
        "  print(\"Bright Image\")"
      ],
      "metadata": {
        "colab": {
          "base_uri": "https://localhost:8080/"
        },
        "id": "R71zaUxTU6Hz",
        "outputId": "0d529c7c-c8e4-4a60-d183-1ad0c4e1cd7c"
      },
      "execution_count": 14,
      "outputs": [
        {
          "output_type": "stream",
          "name": "stdout",
          "text": [
            "10 20 30 40\n",
            "Dark Image\n"
          ]
        }
      ]
    },
    {
      "cell_type": "markdown",
      "source": [
        "#AI Bias Detector"
      ],
      "metadata": {
        "id": "hmAxso0vYWsn"
      }
    },
    {
      "cell_type": "code",
      "source": [
        "pred=input().split()\n",
        "tot=len(pred)\n",
        "cnt_a=0\n",
        "cnt_b=0\n",
        "for p in pred:\n",
        "  if p==\"A\":\n",
        "    cnt_a+=1\n",
        "  else:\n",
        "    cnt_b+=1\n",
        "if cnt_a/tot>0.7 or cnt_b/tot>.7:\n",
        "  print(\"Biased Model\")\n",
        "else:\n",
        "  print(\"Fair Model\")"
      ],
      "metadata": {
        "colab": {
          "base_uri": "https://localhost:8080/"
        },
        "id": "pSEp0EhcYX0n",
        "outputId": "ca8c8747-0ea3-4054-cb90-142c680c71a8"
      },
      "execution_count": 16,
      "outputs": [
        {
          "output_type": "stream",
          "name": "stdout",
          "text": [
            "A A A B B A A\n",
            "Biased Model\n"
          ]
        }
      ]
    },
    {
      "cell_type": "markdown",
      "source": [
        "#AI Keyword Counter"
      ],
      "metadata": {
        "id": "hxGXTo7wZ8J4"
      }
    },
    {
      "cell_type": "code",
      "source": [
        "message = input().strip()\n",
        "words = message.split()\n",
        "\n",
        "keywords = [\"ai\", \"data\", \"model\", \"learn\", \"train\", \"neural\"]\n",
        "count = 0\n",
        "\n",
        "for kw in keywords:\n",
        "    if kw in words:\n",
        "        count += 1\n",
        "\n",
        "if count >= 2:\n",
        "    print(\"AI Detected\")\n",
        "else:\n",
        "    print(\"Not AI Related\")\n"
      ],
      "metadata": {
        "colab": {
          "base_uri": "https://localhost:8080/"
        },
        "id": "QXMMgCQBZ9cW",
        "outputId": "4420b034-4749-4d21-b62c-07dac465e6bf"
      },
      "execution_count": 19,
      "outputs": [
        {
          "output_type": "stream",
          "name": "stdout",
          "text": [
            "i love to train a neural model\n",
            "AI Detected\n"
          ]
        }
      ]
    }
  ]
}