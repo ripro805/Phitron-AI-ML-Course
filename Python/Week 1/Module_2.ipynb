{
  "cells": [
    {
      "cell_type": "markdown",
      "metadata": {
        "id": "Wg8e58JOqxd_"
      },
      "source": [
        "# Conditional Statement"
      ]
    },
    {
      "cell_type": "code",
      "execution_count": null,
      "metadata": {
        "colab": {
          "base_uri": "https://localhost:8080/"
        },
        "id": "wPvkt494qN7J",
        "outputId": "6ba19d51-1d52-4b60-bdfd-7c29a749846a"
      },
      "outputs": [
        {
          "name": "stdout",
          "output_type": "stream",
          "text": [
            "Raincoat is needed\n",
            "Caution\n"
          ]
        }
      ],
      "source": [
        "raining=True\n",
        "if raining==True:\n",
        "  print(\"Raincoat is needed\")\n",
        "  print(\"Caution\")\n",
        "else:\n",
        "  print(\"No raincoat is needed\")\n",
        "  print(\"This is a sunny day\")"
      ]
    },
    {
      "cell_type": "code",
      "execution_count": null,
      "metadata": {
        "colab": {
          "base_uri": "https://localhost:8080/"
        },
        "id": "TucM_gQtrsn3",
        "outputId": "d4b77f48-72f0-40ed-b119-434e03e47ef5"
      },
      "outputs": [
        {
          "name": "stdout",
          "output_type": "stream",
          "text": [
            "Raincoat is needed\n",
            "Caution\n",
            "It is muddy\n"
          ]
        }
      ],
      "source": [
        "raining=True\n",
        "Muddy =True\n",
        "if raining==True:\n",
        "  print(\"Raincoat is needed\")\n",
        "  print(\"Caution\")\n",
        "  if Muddy==True:\n",
        "    print(\"It is muddy\")\n",
        "  else:\n",
        "    print(\"Its not muddy\")\n",
        "else:\n",
        "  print(\"No raincoat is needed\")\n",
        "  print(\"This is a sunny day\")"
      ]
    },
    {
      "cell_type": "code",
      "execution_count": null,
      "metadata": {
        "colab": {
          "base_uri": "https://localhost:8080/"
        },
        "id": "qKePeGWnsUOz",
        "outputId": "fe43b319-556c-40b0-c011-cb9a29e96124"
      },
      "outputs": [
        {
          "name": "stdout",
          "output_type": "stream",
          "text": [
            "ghurte jbo\n"
          ]
        }
      ],
      "source": [
        "taka=1000\n",
        "if taka>500:\n",
        "  print(\"ghurte jbo\")\n",
        "elif taka> 400:\n",
        "  print (\"bashai order\")\n",
        "elif taka>300:\n",
        "  print(\"Food court a jbo\")\n",
        "else:\n",
        "  print(\"taka save krbo\")"
      ]
    },
    {
      "cell_type": "code",
      "execution_count": null,
      "metadata": {
        "colab": {
          "base_uri": "https://localhost:8080/"
        },
        "id": "mMUTWHiqtE0C",
        "outputId": "f88c7076-ce54-4d78-d19f-60114a2b00e8"
      },
      "outputs": [
        {
          "name": "stdout",
          "output_type": "stream",
          "text": [
            "taka save krbo\n"
          ]
        }
      ],
      "source": [
        "taka=1000\n",
        "raining=True\n",
        "if taka>500 and raining==False:\n",
        "  print(\"ghurte jbo\")\n",
        "\n",
        "else:\n",
        "  print(\"taka save krbo\")"
      ]
    },
    {
      "cell_type": "markdown",
      "metadata": {
        "id": "3BdyFUW1taC1"
      },
      "source": [
        "# Loop in Python"
      ]
    },
    {
      "cell_type": "markdown",
      "metadata": {
        "id": "SiygmRlKtjsp"
      },
      "source": [
        "**For loop**"
      ]
    },
    {
      "cell_type": "code",
      "execution_count": null,
      "metadata": {
        "colab": {
          "base_uri": "https://localhost:8080/"
        },
        "id": "lh349HyMtfmP",
        "outputId": "9ea50fdb-b3e6-45b2-9d49-8c4af0ac4317"
      },
      "outputs": [
        {
          "name": "stdout",
          "output_type": "stream",
          "text": [
            "0 Hello World\n",
            "1 Hello World\n",
            "2 Hello World\n",
            "3 Hello World\n",
            "4 Hello World\n",
            "5 Hello World\n",
            "6 Hello World\n",
            "7 Hello World\n",
            "8 Hello World\n",
            "9 Hello World\n"
          ]
        }
      ],
      "source": [
        "for i in range(10):\n",
        "  print(i,\"Hello World\")"
      ]
    },
    {
      "cell_type": "markdown",
      "metadata": {
        "id": "sp3x-aUnuFt2"
      },
      "source": [
        "**range (star,end,step)**\n",
        "\n",
        "kisu na dile (0,n,1)\n",
        "\n",
        "r jokhon bole dbo like (1,11,2) ...ei khetre 1 theke shuru kre n-1 porjnto jbe and 2 step kre increase hbe\n"
      ]
    },
    {
      "cell_type": "code",
      "execution_count": null,
      "metadata": {
        "colab": {
          "base_uri": "https://localhost:8080/"
        },
        "id": "Qj5y-MPEu6V2",
        "outputId": "4e356c90-fc14-495e-f1da-36a0647de181"
      },
      "outputs": [
        {
          "name": "stdout",
          "output_type": "stream",
          "text": [
            "1 Hello World\n",
            "3 Hello World\n",
            "5 Hello World\n",
            "7 Hello World\n",
            "9 Hello World\n"
          ]
        }
      ],
      "source": [
        "for i in range(1,11,2):\n",
        "  print(i,\"Hello World\")"
      ]
    },
    {
      "cell_type": "code",
      "execution_count": null,
      "metadata": {
        "colab": {
          "base_uri": "https://localhost:8080/"
        },
        "id": "ywB6A_QIvJHk",
        "outputId": "61502ecb-c507-46b8-abc3-5ac29b2dccd4"
      },
      "outputs": [
        {
          "name": "stdout",
          "output_type": "stream",
          "text": [
            "1 1\n",
            "1 2\n",
            "1 3\n",
            "1 4\n",
            "2 1\n",
            "2 2\n",
            "2 3\n",
            "2 4\n",
            "3 1\n",
            "3 2\n",
            "3 3\n",
            "3 4\n",
            "4 1\n",
            "4 2\n",
            "4 3\n",
            "4 4\n",
            "5 1\n",
            "5 2\n",
            "5 3\n",
            "5 4\n",
            "6 1\n",
            "6 2\n",
            "6 3\n",
            "6 4\n",
            "7 1\n",
            "7 2\n",
            "7 3\n",
            "7 4\n",
            "8 1\n",
            "8 2\n",
            "8 3\n",
            "8 4\n",
            "9 1\n",
            "9 2\n",
            "9 3\n",
            "9 4\n"
          ]
        }
      ],
      "source": [
        "for i in range (1,10):\n",
        "  for j in range(1,5):\n",
        "    print (i,j)"
      ]
    },
    {
      "cell_type": "markdown",
      "metadata": {
        "id": "8TqMUK4bwpKe"
      },
      "source": [
        "**While Loop**"
      ]
    },
    {
      "cell_type": "code",
      "execution_count": null,
      "metadata": {
        "colab": {
          "base_uri": "https://localhost:8080/"
        },
        "id": "epogtlemwvFz",
        "outputId": "78da669f-93c2-49fc-dd06-5ebdf7891133"
      },
      "outputs": [
        {
          "name": "stdout",
          "output_type": "stream",
          "text": [
            "1 Hello world\n",
            "2 Hello world\n",
            "3 Hello world\n",
            "4 Hello world\n",
            "5 Hello world\n",
            "6 Hello world\n",
            "7 Hello world\n",
            "8 Hello world\n",
            "9 Hello world\n",
            "10\n"
          ]
        }
      ],
      "source": [
        "cnt=1\n",
        "while cnt<10:\n",
        "  print(cnt, \"Hello world\")\n",
        "  cnt+=1\n",
        "print(cnt)"
      ]
    },
    {
      "cell_type": "markdown",
      "metadata": {
        "id": "5mKf8RBxxPsU"
      },
      "source": [
        "# Break And Continue"
      ]
    },
    {
      "cell_type": "code",
      "execution_count": null,
      "metadata": {
        "colab": {
          "base_uri": "https://localhost:8080/"
        },
        "id": "suHRnty_xVLa",
        "outputId": "268d1fd1-4d11-463c-fd9f-63d598331189"
      },
      "outputs": [
        {
          "name": "stdout",
          "output_type": "stream",
          "text": [
            "1  is added to the sum\n",
            "3  is added to the sum\n",
            "5  is added to the sum\n",
            "7  is added to the sum\n",
            "9  is added to the sum\n",
            "25\n"
          ]
        }
      ],
      "source": [
        "sum=0\n",
        "for i in range(1,11):\n",
        "  if i%2==0:\n",
        "    continue\n",
        "  sum+=i\n",
        "  print(i ,\" is added to the sum\")\n",
        "print(sum)"
      ]
    },
    {
      "cell_type": "code",
      "execution_count": null,
      "metadata": {
        "colab": {
          "base_uri": "https://localhost:8080/"
        },
        "id": "1xTOcxaIyfjf",
        "outputId": "81194909-418c-4841-c3a2-7ed2539a3646"
      },
      "outputs": [
        {
          "name": "stdout",
          "output_type": "stream",
          "text": [
            "96\n",
            "97\n",
            "98\n",
            "99\n",
            "100\n"
          ]
        }
      ],
      "source": [
        "accuracy=95\n",
        "while True:\n",
        "  if accuracy==100:\n",
        "    break\n",
        "  accuracy+=1\n",
        "  print(accuracy)\n"
      ]
    },
    {
      "cell_type": "markdown",
      "metadata": {
        "id": "iMaWT1k1zn7F"
      },
      "source": [
        "# K. Max and Min"
      ]
    },
    {
      "cell_type": "code",
      "execution_count": null,
      "metadata": {
        "colab": {
          "base_uri": "https://localhost:8080/"
        },
        "id": "ppQbteXazm6D",
        "outputId": "c8e159ec-d9cd-43d8-ccbe-b353e6fe39ae"
      },
      "outputs": [
        {
          "name": "stdout",
          "output_type": "stream",
          "text": [
            "1 2 3\n",
            "1 3\n"
          ]
        }
      ],
      "source": [
        "a, b, c = map(int, input().split())\n",
        "min=a\n",
        "max=a\n",
        "if b<min:\n",
        "  min=b\n",
        "if c<min:\n",
        "  min =c\n",
        "\n",
        "if b>max:\n",
        "  max=b\n",
        "if c>max:\n",
        "  max=c\n",
        "\n",
        "print(min,max)"
      ]
    },
    {
      "cell_type": "markdown",
      "metadata": {
        "id": "32kTjZ3g2e5w"
      },
      "source": [
        "#C. Even, Odd, Positive and Negative"
      ]
    },
    {
      "cell_type": "code",
      "execution_count": null,
      "metadata": {
        "colab": {
          "base_uri": "https://localhost:8080/"
        },
        "id": "JsV5o7bU2g7Y",
        "outputId": "f861fa2b-f9f3-4b4d-c002-a7a27e583f92"
      },
      "outputs": [
        {
          "name": "stdout",
          "output_type": "stream",
          "text": [
            "5\n",
            "-5 0 -3 -4 12\n",
            "Even: 3\n",
            "Odd: 2\n",
            "Positive: 1\n",
            "Negative: 3\n"
          ]
        }
      ],
      "source": [
        "n = int(input())\n",
        "inp = input()\n",
        "nums = inp.split()\n",
        "\n",
        "pos = 0\n",
        "neg = 0\n",
        "ev = 0\n",
        "odd = 0\n",
        "\n",
        "for i in range(n):\n",
        "    x = int(nums[i])\n",
        "    if x > 0:\n",
        "        pos += 1\n",
        "    elif x < 0:\n",
        "        neg += 1\n",
        "    if x % 2 == 0:\n",
        "        ev += 1\n",
        "    else:\n",
        "        odd += 1\n",
        "\n",
        "print(\"Even:\", ev)\n",
        "print(\"Odd:\", odd)\n",
        "print(\"Positive:\", pos)\n",
        "print(\"Negative:\", neg)\n"
      ]
    },
    {
      "cell_type": "markdown",
      "metadata": {
        "id": "NNBtIdHU5IdP"
      },
      "source": [
        "# Q. Digits"
      ]
    },
    {
      "cell_type": "code",
      "execution_count": 1,
      "metadata": {
        "colab": {
          "base_uri": "https://localhost:8080/"
        },
        "id": "2kKu_Lk_5LU7",
        "outputId": "0d55d51c-7503-4e1d-f4cb-ddb1c89522df"
      },
      "outputs": [
        {
          "name": "stdout",
          "output_type": "stream",
          "text": [
            "1 2 1 \n",
            "9 3 \n",
            "0 0 2 1 \n",
            "0 5 1 \n"
          ]
        }
      ],
      "source": [
        "t=int(input())\n",
        "for i in range(t):\n",
        "  num=int (input())\n",
        "\n",
        "  if num==0:\n",
        "    print(0)\n",
        "    continue\n",
        "  while num>0:\n",
        "   rem=num%10\n",
        "   print(rem,end=\" \")\n",
        "   num//=10\n",
        "  print()\n"
      ]
    }
  ],
  "metadata": {
    "colab": {
      "provenance": []
    },
    "kernelspec": {
      "display_name": "Python 3",
      "name": "python3"
    },
    "language_info": {
      "codemirror_mode": {
        "name": "ipython",
        "version": 3
      },
      "file_extension": ".py",
      "mimetype": "text/x-python",
      "name": "python",
      "nbconvert_exporter": "python",
      "pygments_lexer": "ipython3",
      "version": "3.11.9"
    }
  },
  "nbformat": 4,
  "nbformat_minor": 0
}
