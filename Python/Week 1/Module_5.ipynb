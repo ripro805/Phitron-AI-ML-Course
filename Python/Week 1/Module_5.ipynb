{
  "nbformat": 4,
  "nbformat_minor": 0,
  "metadata": {
    "colab": {
      "provenance": []
    },
    "kernelspec": {
      "name": "python3",
      "display_name": "Python 3"
    },
    "language_info": {
      "name": "python"
    }
  },
  "cells": [
    {
      "cell_type": "markdown",
      "source": [
        "#Tuple\n"
      ],
      "metadata": {
        "id": "p6V04gHTa93n"
      }
    },
    {
      "cell_type": "markdown",
      "source": [
        "it stores a collection of data. and it is immutable"
      ],
      "metadata": {
        "id": "5-j92X4WbCrP"
      }
    },
    {
      "cell_type": "code",
      "execution_count": null,
      "metadata": {
        "id": "fwTNgBoQZOmw",
        "colab": {
          "base_uri": "https://localhost:8080/"
        },
        "outputId": "258cd3ec-1ae5-4ffa-a576-e1ca30a55b94"
      },
      "outputs": [
        {
          "output_type": "stream",
          "name": "stdout",
          "text": [
            "<class 'tuple'> (10, 20, 30, 40)\n",
            "(10, 10.5, 'apple')\n",
            "<class 'int'> 10\n",
            "<class 'tuple'> (10,)\n"
          ]
        }
      ],
      "source": [
        " #declaration\n",
        "tup=(10,20,30,40)\n",
        "mix_tup=(10,10.5,\"apple\")\n",
        "print(type(tup),tup)\n",
        "print(mix_tup)\n",
        "tup1=(10)\n",
        "print(type(tup1),tup1)\n",
        "tup2=(10,)\n",
        "print(type(tup2),tup2)"
      ]
    },
    {
      "cell_type": "code",
      "source": [
        "#from list to tuple\n",
        "lst=[10,20,30,40]\n",
        "tup=tuple(lst)\n",
        "print(tup)"
      ],
      "metadata": {
        "colab": {
          "base_uri": "https://localhost:8080/"
        },
        "id": "chue2Ajuccog",
        "outputId": "4ada399e-81f4-44b6-a605-b8329f7d5b43"
      },
      "execution_count": null,
      "outputs": [
        {
          "output_type": "stream",
          "name": "stdout",
          "text": [
            "(10, 20, 30, 40)\n"
          ]
        }
      ]
    },
    {
      "cell_type": "code",
      "source": [
        "#access and slicing\n",
        "tupl=(10,20,30,10.5,\"str\",False)\n",
        "print(tupl[0])\n",
        "print(tupl[-1])\n",
        "print(tupl[1:4])"
      ],
      "metadata": {
        "colab": {
          "base_uri": "https://localhost:8080/"
        },
        "id": "ZWbUj6FQcjaH",
        "outputId": "d4d82b07-c127-4a2c-a3eb-31f863c78134"
      },
      "execution_count": null,
      "outputs": [
        {
          "output_type": "stream",
          "name": "stdout",
          "text": [
            "10\n",
            "False\n",
            "(20, 30, 10.5)\n"
          ]
        }
      ]
    },
    {
      "cell_type": "code",
      "source": [
        "#immutability\n",
        "lst=[10,20,30]\n",
        "lst[0]=100\n",
        "print(lst)\n",
        "tupl=(10,20,30)\n",
        "tupl[0]=100\n",
        "print(tupl)"
      ],
      "metadata": {
        "colab": {
          "base_uri": "https://localhost:8080/",
          "height": 211
        },
        "id": "GpxbHFGOc3nf",
        "outputId": "a1d7a886-8133-415a-de51-8e65d5b64079"
      },
      "execution_count": null,
      "outputs": [
        {
          "output_type": "stream",
          "name": "stdout",
          "text": [
            "[100, 20, 30]\n"
          ]
        },
        {
          "output_type": "error",
          "ename": "TypeError",
          "evalue": "'tuple' object does not support item assignment",
          "traceback": [
            "\u001b[0;31m---------------------------------------------------------------------------\u001b[0m",
            "\u001b[0;31mTypeError\u001b[0m                                 Traceback (most recent call last)",
            "\u001b[0;32m/tmp/ipython-input-4028677518.py\u001b[0m in \u001b[0;36m<cell line: 0>\u001b[0;34m()\u001b[0m\n\u001b[1;32m      4\u001b[0m \u001b[0mprint\u001b[0m\u001b[0;34m(\u001b[0m\u001b[0mlst\u001b[0m\u001b[0;34m)\u001b[0m\u001b[0;34m\u001b[0m\u001b[0;34m\u001b[0m\u001b[0m\n\u001b[1;32m      5\u001b[0m \u001b[0mtupl\u001b[0m\u001b[0;34m=\u001b[0m\u001b[0;34m(\u001b[0m\u001b[0;36m10\u001b[0m\u001b[0;34m,\u001b[0m\u001b[0;36m20\u001b[0m\u001b[0;34m,\u001b[0m\u001b[0;36m30\u001b[0m\u001b[0;34m)\u001b[0m\u001b[0;34m\u001b[0m\u001b[0;34m\u001b[0m\u001b[0m\n\u001b[0;32m----> 6\u001b[0;31m \u001b[0mtupl\u001b[0m\u001b[0;34m[\u001b[0m\u001b[0;36m0\u001b[0m\u001b[0;34m]\u001b[0m\u001b[0;34m=\u001b[0m\u001b[0;36m100\u001b[0m\u001b[0;34m\u001b[0m\u001b[0;34m\u001b[0m\u001b[0m\n\u001b[0m\u001b[1;32m      7\u001b[0m \u001b[0mprint\u001b[0m\u001b[0;34m(\u001b[0m\u001b[0mtupl\u001b[0m\u001b[0;34m)\u001b[0m\u001b[0;34m\u001b[0m\u001b[0;34m\u001b[0m\u001b[0m\n",
            "\u001b[0;31mTypeError\u001b[0m: 'tuple' object does not support item assignment"
          ]
        }
      ]
    },
    {
      "cell_type": "code",
      "source": [
        "#tuple method\n",
        "tupl=(10,20,30,10,10)\n",
        "print(tupl.count(10))\n",
        "print(tupl.index(30))"
      ],
      "metadata": {
        "colab": {
          "base_uri": "https://localhost:8080/"
        },
        "id": "ctfkQN9UdNYB",
        "outputId": "8c638281-cf74-4a6a-a11e-8572d25d33db"
      },
      "execution_count": null,
      "outputs": [
        {
          "output_type": "stream",
          "name": "stdout",
          "text": [
            "3\n",
            "2\n"
          ]
        }
      ]
    },
    {
      "cell_type": "markdown",
      "source": [
        "#set"
      ],
      "metadata": {
        "id": "RCEbOCUgda5H"
      }
    },
    {
      "cell_type": "markdown",
      "source": [
        "\n",
        "\n",
        "1.   Unique elements and no duplicate value\n",
        "2.   mutable\n",
        "3.   unorder\n",
        "4.   no indexing and slicing\n",
        "\n"
      ],
      "metadata": {
        "id": "j_hI-aIJddJn"
      }
    },
    {
      "cell_type": "code",
      "source": [
        "#declaration\n",
        "A={10,20,30,40}\n",
        "print(type(A),A)\n",
        "B={10,20,30,40}\n",
        "print(B)"
      ],
      "metadata": {
        "colab": {
          "base_uri": "https://localhost:8080/"
        },
        "id": "TcD6OLo4dyW2",
        "outputId": "b98b746b-aa52-4ab7-bd14-5daaa96eed7d"
      },
      "execution_count": null,
      "outputs": [
        {
          "output_type": "stream",
          "name": "stdout",
          "text": [
            "<class 'set'> {40, 10, 20, 30}\n",
            "{40, 10, 20, 30}\n"
          ]
        }
      ]
    },
    {
      "cell_type": "code",
      "source": [
        "#empty structures\n",
        "lst=[]\n",
        "print(type(lst))\n",
        "tup=()\n",
        "print(type(tup))\n",
        "st=set()\n",
        "print(type(st))\n",
        "dt={}\n",
        "print(type(dt))\n"
      ],
      "metadata": {
        "colab": {
          "base_uri": "https://localhost:8080/"
        },
        "id": "do_Wzn5jeR3X",
        "outputId": "ac44ea59-a3f2-4432-bbdb-75efd948f2db"
      },
      "execution_count": null,
      "outputs": [
        {
          "output_type": "stream",
          "name": "stdout",
          "text": [
            "<class 'list'>\n",
            "<class 'tuple'>\n",
            "<class 'set'>\n",
            "<class 'dict'>\n"
          ]
        }
      ]
    },
    {
      "cell_type": "code",
      "source": [
        "#accessing\n",
        "s={1,2,3,4,1,2}\n",
        "print(s)\n",
        "if(3 in s):\n",
        "  print(\"y\")\n",
        "else:\n",
        "  print(\"n\")\n",
        "\n",
        "sm=0\n",
        "for i in s:\n",
        "  sm=sm+i\n",
        "print(sm)\n",
        "\n"
      ],
      "metadata": {
        "colab": {
          "base_uri": "https://localhost:8080/"
        },
        "id": "6nFCMN-be7d2",
        "outputId": "4efd0a8c-cb80-4884-b6fa-bde5d203b741"
      },
      "execution_count": null,
      "outputs": [
        {
          "output_type": "stream",
          "name": "stdout",
          "text": [
            "{1, 2, 3, 4}\n",
            "y\n",
            "10\n"
          ]
        }
      ]
    },
    {
      "cell_type": "markdown",
      "source": [
        "**Methods**\n",
        "\n",
        "https://www.w3schools.com/python/python_ref_set.asp"
      ],
      "metadata": {
        "id": "xDZRnmm-fiNe"
      }
    },
    {
      "cell_type": "code",
      "source": [
        "#mutability\n",
        "S={1,2,3,8,7,5}\n",
        "print(S)\n",
        "S.add(0)\n",
        "S.add(10)\n",
        "print(S)\n",
        "S.pop()\n",
        "print(S)\n",
        "S.pop()\n",
        "print(S)\n",
        "S.remove(10)\n",
        "print(S)\n"
      ],
      "metadata": {
        "colab": {
          "base_uri": "https://localhost:8080/"
        },
        "id": "rfcp72WzfnNV",
        "outputId": "d8e5275f-79e9-4717-bc0c-e1439a36fd65"
      },
      "execution_count": null,
      "outputs": [
        {
          "output_type": "stream",
          "name": "stdout",
          "text": [
            "{1, 2, 3, 5, 7, 8}\n",
            "{0, 1, 2, 3, 5, 7, 8, 10}\n",
            "{1, 2, 3, 5, 7, 8, 10}\n",
            "{2, 3, 5, 7, 8, 10}\n",
            "{2, 3, 5, 7, 8}\n"
          ]
        }
      ]
    },
    {
      "cell_type": "code",
      "source": [
        "#important methods of set mathmetical\n",
        "A={1,2,3,4,5}\n",
        "B={4,5,6,7,8}\n",
        "D={1,2,3}\n",
        "print(A.union(B))\n",
        "print(A.intersection(B))\n",
        "print(A.difference(B))\n",
        "print(A.isdisjoint(B))\n",
        "print(A.issubset(B))\n",
        "print(D.issubset(A))\n"
      ],
      "metadata": {
        "colab": {
          "base_uri": "https://localhost:8080/"
        },
        "id": "eC9-j7SRgcAe",
        "outputId": "7319a6b1-de81-48e5-cd2a-b6e9c6773f02"
      },
      "execution_count": null,
      "outputs": [
        {
          "output_type": "stream",
          "name": "stdout",
          "text": [
            "{1, 2, 3, 4, 5, 6, 7, 8}\n",
            "{4, 5}\n",
            "{1, 2, 3}\n",
            "False\n",
            "False\n",
            "True\n"
          ]
        }
      ]
    },
    {
      "cell_type": "markdown",
      "source": [
        "#Dictionary"
      ],
      "metadata": {
        "id": "pMJy78m0hYsl"
      }
    },
    {
      "cell_type": "markdown",
      "source": [
        "dict should have key and value.\n",
        "\n",
        "keys must be immutable"
      ],
      "metadata": {
        "id": "x5A-wnbAhkY8"
      }
    },
    {
      "cell_type": "code",
      "source": [
        "#declaration\n",
        "dict={}\n",
        "print(type(dict))\n",
        "dict1={\n",
        "    \"name\":\"Ripro\",\n",
        "    \"age\" :7 ,\n",
        "    \"address\" : \"Kushtia\",\n",
        "    \"number\" :[18,14,17.8]\n",
        "\n",
        "}\n",
        "print(type(dict1) , dict1)"
      ],
      "metadata": {
        "colab": {
          "base_uri": "https://localhost:8080/"
        },
        "id": "sgpTpu9uha59",
        "outputId": "b1c3b8c2-129c-43f5-b644-8e6bebf2638e"
      },
      "execution_count": null,
      "outputs": [
        {
          "output_type": "stream",
          "name": "stdout",
          "text": [
            "<class 'dict'>\n",
            "<class 'dict'> {'name': 'Ripro', 'age': 7, 'address': 'Kushtia', 'number': [18, 14, 17.8]}\n"
          ]
        }
      ]
    },
    {
      "cell_type": "code",
      "source": [
        "#Access\n",
        "#dict_name[key]\n",
        "print(dict1[\"name\"])\n",
        "print(dict1[\"number\"])\n",
        "print(dict1[\"number\"][1])\n",
        "print(dict1.get(\"age\"))\n",
        "dict1[\"name\"]=\"Ripro ripu\"\n",
        "print(dict1)\n",
        "dict1={\n",
        "    \"name\":\"Ripro\",\n",
        "    \"age\" :7 ,\n",
        "    \"address\" : \"Kushtia\",\n",
        "    \"number\" :[18,14,17.8],\n",
        "    \"age\" :4 # changed by latest value\n",
        "\n",
        "}\n",
        "print(dict1)"
      ],
      "metadata": {
        "colab": {
          "base_uri": "https://localhost:8080/"
        },
        "id": "H-oKYqnniiY1",
        "outputId": "b7402ee7-2103-45e6-ded2-b0c8bd55c24d"
      },
      "execution_count": null,
      "outputs": [
        {
          "output_type": "stream",
          "name": "stdout",
          "text": [
            "Ripro\n",
            "[18, 14, 17.8]\n",
            "14\n",
            "7\n",
            "{'name': 'Ripro ripu', 'age': 7, 'address': 'Kushtia', 'number': [18, 14, 17.8]}\n",
            "{'name': 'Ripro', 'age': 4, 'address': 'Kushtia', 'number': [18, 14, 17.8]}\n"
          ]
        }
      ]
    },
    {
      "cell_type": "markdown",
      "source": [
        "**Methods**\n",
        "\n",
        "https://www.w3schools.com/python/python_ref_dictionary.asp"
      ],
      "metadata": {
        "id": "12L529bbj2Xd"
      }
    },
    {
      "cell_type": "code",
      "source": [
        "#printing default values\n",
        "print(dict1)\n",
        "print(dict1.get(\"math_marks\"))\n",
        "print(dict1.get(\"math_marks\",0))\n"
      ],
      "metadata": {
        "colab": {
          "base_uri": "https://localhost:8080/"
        },
        "id": "L9VRfU3vi12c",
        "outputId": "4e548334-6255-4fb7-fec2-b7f255e6df9f"
      },
      "execution_count": null,
      "outputs": [
        {
          "output_type": "stream",
          "name": "stdout",
          "text": [
            "{'name': 'Ripro', 'age': 4, 'address': 'Kushtia', 'number': [18, 14, 17.8]}\n",
            "None\n",
            "0\n"
          ]
        }
      ]
    },
    {
      "cell_type": "code",
      "source": [
        "#adding a value\n",
        "print(dict1)\n",
        "dict1[\"math_marks\"]=90\n",
        "print(dict1)\n",
        "dict1.update({\"science_marks\":80})\n",
        "print(dict1)"
      ],
      "metadata": {
        "colab": {
          "base_uri": "https://localhost:8080/"
        },
        "id": "PKQmldAkkhvk",
        "outputId": "b743a338-904a-40cd-ad1f-a205f794c578"
      },
      "execution_count": null,
      "outputs": [
        {
          "output_type": "stream",
          "name": "stdout",
          "text": [
            "{'name': 'Ripro', 'age': 4, 'address': 'Kushtia', 'number': [18, 14, 17.8]}\n",
            "{'name': 'Ripro', 'age': 4, 'address': 'Kushtia', 'number': [18, 14, 17.8], 'math_marks': 90}\n",
            "{'name': 'Ripro', 'age': 4, 'address': 'Kushtia', 'number': [18, 14, 17.8], 'math_marks': 90, 'science_marks': 80}\n"
          ]
        }
      ]
    },
    {
      "cell_type": "code",
      "source": [
        "#deleting a value\n",
        "del dict1[\"math_marks\"]\n",
        "print(dict1)"
      ],
      "metadata": {
        "colab": {
          "base_uri": "https://localhost:8080/"
        },
        "id": "Fjw4CY5klD08",
        "outputId": "e7c60caa-fe5f-4b10-b385-d012d992cee6"
      },
      "execution_count": null,
      "outputs": [
        {
          "output_type": "stream",
          "name": "stdout",
          "text": [
            "{'name': 'Ripro', 'age': 4, 'address': 'Kushtia', 'number': [18, 14, 17.8], 'science_marks': 80}\n"
          ]
        }
      ]
    },
    {
      "cell_type": "code",
      "source": [
        "#copy\n",
        "dict2=dict1.copy()\n",
        "print(dict2)"
      ],
      "metadata": {
        "colab": {
          "base_uri": "https://localhost:8080/"
        },
        "id": "Gm6gQugrlYDT",
        "outputId": "4b4c07c9-49cf-4773-dcfa-ce6316c85257"
      },
      "execution_count": null,
      "outputs": [
        {
          "output_type": "stream",
          "name": "stdout",
          "text": [
            "{'name': 'Ripro', 'age': 4, 'address': 'Kushtia', 'number': [18, 14, 17.8], 'science_marks': 80}\n"
          ]
        }
      ]
    },
    {
      "cell_type": "markdown",
      "source": [
        "**View Methods**"
      ],
      "metadata": {
        "id": "ReGN-OtgmAqU"
      }
    },
    {
      "cell_type": "code",
      "source": [
        "print(dict1)\n",
        "\n",
        "keys=dict1.keys()\n",
        "print(keys)\n",
        "dict1[\"math_marks\"]=90\n",
        "print(keys)\n",
        "\n",
        "\n",
        "values=dict1.values()\n",
        "print(values)\n",
        "dict1[\"math_marks\"]=100\n",
        "print(values)\n",
        "\n",
        "items=dict1.items() #key value pair as tuple\n",
        "print(items)"
      ],
      "metadata": {
        "colab": {
          "base_uri": "https://localhost:8080/"
        },
        "id": "iQGUG5emmEBr",
        "outputId": "6941e2ab-c9b1-4d82-ff35-66f5819a1b79"
      },
      "execution_count": null,
      "outputs": [
        {
          "output_type": "stream",
          "name": "stdout",
          "text": [
            "{'name': 'Ripro', 'age': 4, 'address': 'Kushtia', 'number': [18, 14, 17.8], 'science_marks': 80, 'math_marks': 100}\n",
            "dict_keys(['name', 'age', 'address', 'number', 'science_marks', 'math_marks'])\n",
            "dict_keys(['name', 'age', 'address', 'number', 'science_marks', 'math_marks'])\n",
            "dict_values(['Ripro', 4, 'Kushtia', [18, 14, 17.8], 80, 90])\n",
            "dict_values(['Ripro', 4, 'Kushtia', [18, 14, 17.8], 80, 100])\n",
            "dict_items([('name', 'Ripro'), ('age', 4), ('address', 'Kushtia'), ('number', [18, 14, 17.8]), ('science_marks', 80), ('math_marks', 100)])\n"
          ]
        }
      ]
    },
    {
      "cell_type": "code",
      "source": [
        "#iteration\n",
        "for key ,value in dict1.items():\n",
        "  print(key,value)"
      ],
      "metadata": {
        "colab": {
          "base_uri": "https://localhost:8080/"
        },
        "id": "623WYAL_nt-z",
        "outputId": "052cf593-8120-44da-c01c-e34074d43b3f"
      },
      "execution_count": null,
      "outputs": [
        {
          "output_type": "stream",
          "name": "stdout",
          "text": [
            "name Ripro\n",
            "age 4\n",
            "address Kushtia\n",
            "number [18, 14, 17.8]\n",
            "science_marks 80\n",
            "math_marks 100\n"
          ]
        }
      ]
    },
    {
      "cell_type": "markdown",
      "source": [
        "**dictionary comprehension**"
      ],
      "metadata": {
        "id": "NVb4tPB_n4qD"
      }
    },
    {
      "cell_type": "markdown",
      "source": [
        "{key : value iterable condition}"
      ],
      "metadata": {
        "id": "025SJlHFoGxC"
      }
    },
    {
      "cell_type": "code",
      "source": [
        "sqr={x:x**2 for x in range (1,11) if x%2==0}\n",
        "print (sqr)"
      ],
      "metadata": {
        "colab": {
          "base_uri": "https://localhost:8080/"
        },
        "id": "LY3Nzcb7n-80",
        "outputId": "342983cd-a09a-43ed-b64b-decd77274507"
      },
      "execution_count": null,
      "outputs": [
        {
          "output_type": "stream",
          "name": "stdout",
          "text": [
            "{2: 4, 4: 16, 6: 36, 8: 64, 10: 100}\n"
          ]
        }
      ]
    },
    {
      "cell_type": "code",
      "source": [
        "Co_ordinates = [(10,10.5),(20.5,192) , ( 101,102) ]\n",
        "Locations =[\"dhaka\" , \"chattogram\" , \"sylhet\"]\n",
        "exct_loc={co_or : loc for co_or , loc in zip(Co_ordinates,Locations)}\n",
        "print(exct_loc)"
      ],
      "metadata": {
        "colab": {
          "base_uri": "https://localhost:8080/"
        },
        "id": "jemVf94wo8q-",
        "outputId": "966e0fdc-70d7-4797-8b3d-40f49bf242fb"
      },
      "execution_count": null,
      "outputs": [
        {
          "output_type": "stream",
          "name": "stdout",
          "text": [
            "{(10, 10.5): 'dhaka', (20.5, 192): 'chattogram', (101, 102): 'sylhet'}\n"
          ]
        }
      ]
    },
    {
      "cell_type": "markdown",
      "source": [
        "#Problem Solving with In Built Structures"
      ],
      "metadata": {
        "id": "yHVNgBjrppeS"
      }
    },
    {
      "cell_type": "markdown",
      "source": [
        "1. Given a list of numbers, make a list with unique values."
      ],
      "metadata": {
        "id": "5Dr53xEFpqhh"
      }
    },
    {
      "cell_type": "code",
      "source": [
        "lst = [10 , 20 , 10 , 30 , 30 , 50 , 30 , 10 , 20 , 10 , 10 ]\n",
        "unique_lst=list(set(lst))\n",
        "print(unique_lst)"
      ],
      "metadata": {
        "colab": {
          "base_uri": "https://localhost:8080/"
        },
        "id": "3udYbNmwptLK",
        "outputId": "6472ffc5-490f-4069-c849-502a9332a610"
      },
      "execution_count": null,
      "outputs": [
        {
          "output_type": "stream",
          "name": "stdout",
          "text": [
            "[10, 20, 50, 30]\n"
          ]
        }
      ]
    },
    {
      "cell_type": "markdown",
      "source": [
        "2. Given a string , print the frequency of the words"
      ],
      "metadata": {
        "id": "F18tRbg-ptZS"
      }
    },
    {
      "cell_type": "code",
      "source": [
        "\n",
        "string = \"\"\"data science machine learning data analysis machine\n",
        "learning statistics data models data training data validation features\n",
        "features labels preprocessing data augmentation models data optimization\n",
        "gradient descent neural networks data tensors matrices visualization\n",
        "exploration pandas numpy matplotlib seaborn scikitlearn tensorflow pytorch\n",
        "deployment inference production monitoring reproducibility experiments results\n",
        "metrics accuracy precision recall f1 cross validation data machine\n",
        "\"\"\"\n",
        "word=string.split()\n",
        "count={}\n",
        "for w in word:\n",
        "  count[w]=count.get(w,0)+1\n",
        "print(count)\n",
        "\n",
        "for k,v in count.items():\n",
        "  print(f\"count of {k} is {v}\")"
      ],
      "metadata": {
        "colab": {
          "base_uri": "https://localhost:8080/"
        },
        "id": "wf3Hwc_Xpyfq",
        "outputId": "7ffbe654-199a-4252-a510-69065a3fe94b"
      },
      "execution_count": null,
      "outputs": [
        {
          "output_type": "stream",
          "name": "stdout",
          "text": [
            "{'data': 9, 'science': 1, 'machine': 3, 'learning': 2, 'analysis': 1, 'statistics': 1, 'models': 2, 'training': 1, 'validation': 2, 'features': 2, 'labels': 1, 'preprocessing': 1, 'augmentation': 1, 'optimization': 1, 'gradient': 1, 'descent': 1, 'neural': 1, 'networks': 1, 'tensors': 1, 'matrices': 1, 'visualization': 1, 'exploration': 1, 'pandas': 1, 'numpy': 1, 'matplotlib': 1, 'seaborn': 1, 'scikitlearn': 1, 'tensorflow': 1, 'pytorch': 1, 'deployment': 1, 'inference': 1, 'production': 1, 'monitoring': 1, 'reproducibility': 1, 'experiments': 1, 'results': 1, 'metrics': 1, 'accuracy': 1, 'precision': 1, 'recall': 1, 'f1': 1, 'cross': 1}\n",
            "count of data is 9\n",
            "count of science is 1\n",
            "count of machine is 3\n",
            "count of learning is 2\n",
            "count of analysis is 1\n",
            "count of statistics is 1\n",
            "count of models is 2\n",
            "count of training is 1\n",
            "count of validation is 2\n",
            "count of features is 2\n",
            "count of labels is 1\n",
            "count of preprocessing is 1\n",
            "count of augmentation is 1\n",
            "count of optimization is 1\n",
            "count of gradient is 1\n",
            "count of descent is 1\n",
            "count of neural is 1\n",
            "count of networks is 1\n",
            "count of tensors is 1\n",
            "count of matrices is 1\n",
            "count of visualization is 1\n",
            "count of exploration is 1\n",
            "count of pandas is 1\n",
            "count of numpy is 1\n",
            "count of matplotlib is 1\n",
            "count of seaborn is 1\n",
            "count of scikitlearn is 1\n",
            "count of tensorflow is 1\n",
            "count of pytorch is 1\n",
            "count of deployment is 1\n",
            "count of inference is 1\n",
            "count of production is 1\n",
            "count of monitoring is 1\n",
            "count of reproducibility is 1\n",
            "count of experiments is 1\n",
            "count of results is 1\n",
            "count of metrics is 1\n",
            "count of accuracy is 1\n",
            "count of precision is 1\n",
            "count of recall is 1\n",
            "count of f1 is 1\n",
            "count of cross is 1\n"
          ]
        }
      ]
    },
    {
      "cell_type": "markdown",
      "source": [
        "#Practice\n"
      ],
      "metadata": {
        "id": "3rWuMVoevMUD"
      }
    },
    {
      "cell_type": "markdown",
      "source": [
        "https://codeforces.com/group/MWSDmqGsZm/contest/219856/problem/J"
      ],
      "metadata": {
        "id": "ucvsdmpFvPq6"
      }
    },
    {
      "cell_type": "code",
      "source": [
        "s=input().strip()\n",
        "count={}\n",
        "for w in s:\n",
        "  count[w]=count.get(w,0)+1\n",
        "\n",
        "for k,v in sorted(count.items()):\n",
        "  print(f\"{k} : {v}\")"
      ],
      "metadata": {
        "colab": {
          "base_uri": "https://localhost:8080/"
        },
        "id": "tc-7Kb0-vVya",
        "outputId": "dabdded4-1010-40b5-a3cf-d3f3ada2bf8d"
      },
      "execution_count": null,
      "outputs": [
        {
          "output_type": "stream",
          "name": "stdout",
          "text": [
            "regff\n",
            "e : 1\n",
            "f : 2\n",
            "g : 1\n",
            "r : 1\n"
          ]
        }
      ]
    },
    {
      "cell_type": "markdown",
      "source": [
        "https://www.hackerrank.com/challenges/no-idea/problem"
      ],
      "metadata": {
        "id": "eIFUynn_xPnx"
      }
    },
    {
      "cell_type": "code",
      "source": [
        "n,m=map(int,input().split())\n",
        "arr=list(map(int,input().split()))\n",
        "a=set(map(int,input().split()))\n",
        "b=set(map(int,input().split()))\n",
        "\n",
        "hp=0\n",
        "for i in arr:\n",
        "  if i in a:\n",
        "    hp+=1\n",
        "  elif i in b:\n",
        "    hp-=1\n",
        "print(hp)"
      ],
      "metadata": {
        "id": "zMOjcpNMxRip"
      },
      "execution_count": null,
      "outputs": []
    },
    {
      "cell_type": "markdown",
      "source": [
        "https://www.hackerrank.com/challenges/python-tuples/problem"
      ],
      "metadata": {
        "id": "-6xDl3N3zkrx"
      }
    },
    {
      "cell_type": "code",
      "source": [
        "n=int(input())\n",
        "arr= list(map(int,input().split()))\n",
        "t=tuple(arr)\n",
        "print(hash(t))"
      ],
      "metadata": {
        "id": "2uZIf2lczooS"
      },
      "execution_count": null,
      "outputs": []
    }
  ]
}