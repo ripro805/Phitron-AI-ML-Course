{
  "nbformat": 4,
  "nbformat_minor": 0,
  "metadata": {
    "colab": {
      "provenance": []
    },
    "kernelspec": {
      "name": "python3",
      "display_name": "Python 3"
    },
    "language_info": {
      "name": "python"
    }
  },
  "cells": [
    {
      "cell_type": "code",
      "source": [
        "arr = [1,2,3]\n",
        "\n",
        "print( arr * 5 )\n",
        "\n",
        "arr = [ x*5 for x in arr]\n",
        "\n",
        "print(arr)"
      ],
      "metadata": {
        "colab": {
          "base_uri": "https://localhost:8080/"
        },
        "id": "FNuIIqoxtiSu",
        "outputId": "a570bc9d-1c3d-4a66-8188-f91fd5996d76"
      },
      "execution_count": 2,
      "outputs": [
        {
          "output_type": "stream",
          "name": "stdout",
          "text": [
            "[1, 2, 3, 1, 2, 3, 1, 2, 3, 1, 2, 3, 1, 2, 3]\n",
            "[5, 10, 15]\n"
          ]
        }
      ]
    },
    {
      "cell_type": "code",
      "source": [
        "\n",
        "import numpy as np\n",
        "\n",
        "arr1 = np.array([1,2,3])\n",
        "\n",
        "arr1 = arr1 * 5\n",
        "\n",
        "print(arr1)"
      ],
      "metadata": {
        "colab": {
          "base_uri": "https://localhost:8080/"
        },
        "id": "V5K1F7fItn2u",
        "outputId": "c5f8aeb4-29da-4fe7-af6b-105b5be5e457"
      },
      "execution_count": 3,
      "outputs": [
        {
          "output_type": "stream",
          "name": "stdout",
          "text": [
            "[ 5 10 15]\n"
          ]
        }
      ]
    },
    {
      "cell_type": "markdown",
      "source": [
        "**Nd Array**\n",
        "\n",
        "n dimensional array"
      ],
      "metadata": {
        "id": "clS-2wnJs7UV"
      }
    },
    {
      "cell_type": "code",
      "execution_count": 4,
      "metadata": {
        "colab": {
          "base_uri": "https://localhost:8080/"
        },
        "id": "AueyGSr4r0R0",
        "outputId": "38caa06b-2d75-475b-8587-9304834c0dc4"
      },
      "outputs": [
        {
          "output_type": "stream",
          "name": "stdout",
          "text": [
            "[1 2 3]\n",
            "<class 'numpy.ndarray'>\n"
          ]
        }
      ],
      "source": [
        "import numpy as np\n",
        "#1d array\n",
        "arr1 = np.array([1,2,3])\n",
        "#2d Array\n",
        "arr2=np.array([[1,2,3,4,5],\n",
        "               [6,7,8,9,10],\n",
        "               [11,12,13,14,15],\n",
        "               [16,17,18,19,20]\n",
        "\n",
        "               ])\n",
        "\n",
        "#3d array\n",
        "arr3=np.array([\n",
        "\n",
        "               [[1,2,3],\n",
        "                [3,4,5]\n",
        "               ],\n",
        "               [\n",
        "                   [5,6,7],\n",
        "                   [9,10,11]\n",
        "               ]\n",
        "])\n",
        "print(arr1)\n",
        "print(type(arr1))\n"
      ]
    },
    {
      "cell_type": "markdown",
      "source": [
        "#Array attribute"
      ],
      "metadata": {
        "id": "K1l3mVITvCbI"
      }
    },
    {
      "cell_type": "code",
      "source": [
        "#dimension\n",
        "print(arr1.ndim)\n",
        "print(arr2.ndim)\n",
        "print(arr3.ndim)\n",
        "\n",
        "#shape\n",
        "print(arr1.shape)\n",
        "print(arr2.shape)\n",
        "print(arr3.shape)\n",
        "\n",
        "#datatype\n",
        "print(arr1.dtype)\n",
        "print(arr2.dtype)\n",
        "print(arr3.dtype)\n",
        "\n",
        "#size\n",
        "print(arr1.size)\n",
        "print(arr2.size)\n",
        "print(arr3.size)\n"
      ],
      "metadata": {
        "colab": {
          "base_uri": "https://localhost:8080/"
        },
        "id": "Yz3UvevuvJSI",
        "outputId": "bea95600-2465-4bed-8965-d1abd1e63b77"
      },
      "execution_count": 5,
      "outputs": [
        {
          "output_type": "stream",
          "name": "stdout",
          "text": [
            "1\n",
            "2\n",
            "3\n",
            "(3,)\n",
            "(4, 5)\n",
            "(2, 2, 3)\n",
            "int64\n",
            "int64\n",
            "int64\n",
            "3\n",
            "20\n",
            "12\n"
          ]
        }
      ]
    },
    {
      "cell_type": "markdown",
      "source": [
        "**Datatype**"
      ],
      "metadata": {
        "id": "Bm1aEz5Uv6dZ"
      }
    },
    {
      "cell_type": "code",
      "source": [
        "arr=np.array([1,2,3])\n",
        "print(arr.dtype)\n",
        "\n",
        "arr=np.array([1.4,2.4,3.4])\n",
        "print(arr.dtype)\n",
        "\n",
        "#upcasting\n",
        "arr=np.array([1,2,3.6])\n",
        "print(arr.dtype)\n",
        "\n",
        "#upcasted ass string\n",
        "arr=np.array([1,2,3.6,'hello'])\n",
        "print(arr.dtype)\n",
        "arr = np.array([1,True,3.25,'hello',])\n",
        "print(arr.dtype)\n"
      ],
      "metadata": {
        "colab": {
          "base_uri": "https://localhost:8080/"
        },
        "id": "E9oQnuqOv-Y4",
        "outputId": "1f3728ca-3e3a-44a7-c1fa-c197925d02a3"
      },
      "execution_count": 6,
      "outputs": [
        {
          "output_type": "stream",
          "name": "stdout",
          "text": [
            "int64\n",
            "float64\n",
            "float64\n",
            "<U32\n",
            "<U32\n"
          ]
        }
      ]
    },
    {
      "cell_type": "markdown",
      "source": [
        "**selecting a data type for an array**"
      ],
      "metadata": {
        "id": "grFnYYNkxME5"
      }
    },
    {
      "cell_type": "code",
      "source": [
        "arr = np.array([1,2,30],dtype=np.int8) #-127 to 127\n",
        "print(arr.dtype)\n",
        "print(arr)\n",
        "\n",
        "arr = np.array([1,2,300],dtype=np.int16)\n",
        "print(arr.dtype)\n",
        "print(arr)\n",
        "arr = arr.astype(np.int32)\n",
        "print(arr.dtype)\n",
        "\n",
        "#error\n",
        "arr = np.array([1,2,3.2,'hello'],dtype=np.float64)"
      ],
      "metadata": {
        "colab": {
          "base_uri": "https://localhost:8080/",
          "height": 263
        },
        "id": "84YqswhSxNxx",
        "outputId": "4fc74f54-d00a-4aef-8f35-724d09509402"
      },
      "execution_count": 7,
      "outputs": [
        {
          "output_type": "stream",
          "name": "stdout",
          "text": [
            "int8\n",
            "[ 1  2 30]\n",
            "int16\n",
            "[  1   2 300]\n",
            "int32\n"
          ]
        },
        {
          "output_type": "error",
          "ename": "ValueError",
          "evalue": "could not convert string to float: 'hello'",
          "traceback": [
            "\u001b[0;31m---------------------------------------------------------------------------\u001b[0m",
            "\u001b[0;31mValueError\u001b[0m                                Traceback (most recent call last)",
            "\u001b[0;32m/tmp/ipython-input-4173595152.py\u001b[0m in \u001b[0;36m<cell line: 0>\u001b[0;34m()\u001b[0m\n\u001b[1;32m     10\u001b[0m \u001b[0;34m\u001b[0m\u001b[0m\n\u001b[1;32m     11\u001b[0m \u001b[0;31m#error\u001b[0m\u001b[0;34m\u001b[0m\u001b[0;34m\u001b[0m\u001b[0m\n\u001b[0;32m---> 12\u001b[0;31m \u001b[0marr\u001b[0m \u001b[0;34m=\u001b[0m \u001b[0mnp\u001b[0m\u001b[0;34m.\u001b[0m\u001b[0marray\u001b[0m\u001b[0;34m(\u001b[0m\u001b[0;34m[\u001b[0m\u001b[0;36m1\u001b[0m\u001b[0;34m,\u001b[0m\u001b[0;36m2\u001b[0m\u001b[0;34m,\u001b[0m\u001b[0;36m3.2\u001b[0m\u001b[0;34m,\u001b[0m\u001b[0;34m'hello'\u001b[0m\u001b[0;34m]\u001b[0m\u001b[0;34m,\u001b[0m\u001b[0mdtype\u001b[0m\u001b[0;34m=\u001b[0m\u001b[0mnp\u001b[0m\u001b[0;34m.\u001b[0m\u001b[0mfloat64\u001b[0m\u001b[0;34m)\u001b[0m\u001b[0;34m\u001b[0m\u001b[0;34m\u001b[0m\u001b[0m\n\u001b[0m",
            "\u001b[0;31mValueError\u001b[0m: could not convert string to float: 'hello'"
          ]
        }
      ]
    },
    {
      "cell_type": "markdown",
      "source": [
        "#ndarray creation from existing data"
      ],
      "metadata": {
        "id": "vbaPlqblx56z"
      }
    },
    {
      "cell_type": "code",
      "source": [
        "#list\n",
        "\n",
        "lst = [10,20,30,40 , 40.5]\n",
        "\n",
        "arr = np.array(lst, dtype=np.int32)\n",
        "\n",
        "# print(arr)\n",
        "# print(type(arr))\n",
        "# print(arr.dtype)\n",
        "\n",
        "mixed_lst = [10, True , 'Hello' ]\n",
        "\n",
        "arr = np.array(mixed_lst)\n",
        "\n",
        "# print(arr)\n",
        "# print(type(arr))\n",
        "# print(arr.dtype)\n",
        "\n",
        "matrix = [ [1,2,3], # row1\n",
        "           [4,5,6] #row2\n",
        "                ]\n",
        "\n",
        "arr = np.array(matrix)\n",
        "\n",
        "print(arr)\n",
        "print(type(arr))\n",
        "print(arr.dtype)\n",
        "print(arr.shape)\n",
        "print(arr.ndim)"
      ],
      "metadata": {
        "colab": {
          "base_uri": "https://localhost:8080/"
        },
        "id": "L68a0f5Ax7MD",
        "outputId": "f86f58b3-67b7-4f6e-b0ae-c42bbcff12f3"
      },
      "execution_count": 8,
      "outputs": [
        {
          "output_type": "stream",
          "name": "stdout",
          "text": [
            "[[1 2 3]\n",
            " [4 5 6]]\n",
            "<class 'numpy.ndarray'>\n",
            "int64\n",
            "(2, 3)\n",
            "2\n"
          ]
        }
      ]
    },
    {
      "cell_type": "markdown",
      "source": [
        "#tuple"
      ],
      "metadata": {
        "id": "oeTV4NEyyi_i"
      }
    },
    {
      "cell_type": "code",
      "source": [
        "\n",
        "\n",
        "tpl = (10,20,30)\n",
        "\n",
        "arr = np.array(tpl,dtype=np.int32)\n",
        "print(arr.dtype)\n",
        "arr = arr.astype(np.int16)\n",
        "print(arr)\n",
        "print(type(arr))\n",
        "print(arr.dtype)\n",
        "print(arr.shape)\n",
        "print(arr.ndim)"
      ],
      "metadata": {
        "colab": {
          "base_uri": "https://localhost:8080/"
        },
        "id": "HUOzaeLSyfDK",
        "outputId": "ff69213d-8ac1-45bd-a6ba-f7188333411b"
      },
      "execution_count": 9,
      "outputs": [
        {
          "output_type": "stream",
          "name": "stdout",
          "text": [
            "int32\n",
            "[10 20 30]\n",
            "<class 'numpy.ndarray'>\n",
            "int16\n",
            "(3,)\n",
            "1\n"
          ]
        }
      ]
    },
    {
      "cell_type": "markdown",
      "source": [
        "#set"
      ],
      "metadata": {
        "id": "T6hFJ3e9yq7c"
      }
    },
    {
      "cell_type": "code",
      "source": [
        "\n",
        "\n",
        "st = { 1, 2, 3 }\n",
        "\n",
        "arr = np.array(list(st))\n",
        "# print(arr.dtype)\n",
        "arr = arr.astype(np.int16)\n",
        "print(arr)\n",
        "print(type(arr))\n",
        "print(arr.dtype)\n",
        "print(arr.shape)\n",
        "print(arr.ndim)"
      ],
      "metadata": {
        "colab": {
          "base_uri": "https://localhost:8080/"
        },
        "id": "7RH5q_Vpyqlb",
        "outputId": "22b27ba0-40c5-4556-d32c-b00e1b457968"
      },
      "execution_count": 10,
      "outputs": [
        {
          "output_type": "stream",
          "name": "stdout",
          "text": [
            "[1 2 3]\n",
            "<class 'numpy.ndarray'>\n",
            "int16\n",
            "(3,)\n",
            "1\n"
          ]
        }
      ]
    },
    {
      "cell_type": "markdown",
      "source": [
        "# dictionary\n"
      ],
      "metadata": {
        "id": "r6yi8seyy447"
      }
    },
    {
      "cell_type": "code",
      "source": [
        "\n",
        "dc = { 'a' : 10 , 'b' : 20 , 'c' :30 }\n",
        "\n",
        "keys = dc.keys()\n",
        "values = dc.values()\n",
        "items = dc.items()"
      ],
      "metadata": {
        "id": "tRgMx0dTy5Es"
      },
      "execution_count": 11,
      "outputs": []
    },
    {
      "cell_type": "code",
      "source": [
        "#keys to ndarray\n",
        "arr = np.array(list(keys))\n",
        "print(arr)\n",
        "print(type(arr))\n",
        "print(arr.dtype)\n",
        "print(arr.shape)\n",
        "print(arr.ndim)\n",
        "print(arr.size)"
      ],
      "metadata": {
        "colab": {
          "base_uri": "https://localhost:8080/"
        },
        "id": "NR85KBNCy9db",
        "outputId": "6ca7e130-96e1-430e-8349-cf81785d6c5c"
      },
      "execution_count": 13,
      "outputs": [
        {
          "output_type": "stream",
          "name": "stdout",
          "text": [
            "['a' 'b' 'c']\n",
            "<class 'numpy.ndarray'>\n",
            "<U1\n",
            "(3,)\n",
            "1\n",
            "3\n"
          ]
        }
      ]
    },
    {
      "cell_type": "code",
      "source": [
        "#values to ndarray\n",
        "arr = np.array(list(values))\n",
        "print(arr)\n",
        "arr = arr.astype(np.int16)\n",
        "print(type(arr))\n",
        "print(arr.dtype)\n",
        "print(arr.shape)\n",
        "print(arr.ndim)\n",
        "print(arr.size)"
      ],
      "metadata": {
        "colab": {
          "base_uri": "https://localhost:8080/"
        },
        "id": "Dninijt3zChT",
        "outputId": "03dd9a41-82e8-476a-f51f-7c05aec476a4"
      },
      "execution_count": 14,
      "outputs": [
        {
          "output_type": "stream",
          "name": "stdout",
          "text": [
            "[10 20 30]\n",
            "<class 'numpy.ndarray'>\n",
            "int16\n",
            "(3,)\n",
            "1\n",
            "3\n"
          ]
        }
      ]
    },
    {
      "cell_type": "code",
      "source": [
        "#items to ndarray\n",
        "arr = np.array(list(items))\n",
        "print(arr)\n",
        "print(type(arr))\n",
        "print(arr.dtype)\n",
        "print(arr.shape)\n",
        "print(arr.ndim)\n",
        "print(arr.size)"
      ],
      "metadata": {
        "id": "kiKcUyo0zGNb",
        "outputId": "70a08edb-88cb-4bc5-a1cc-7ded88071073",
        "colab": {
          "base_uri": "https://localhost:8080/"
        }
      },
      "execution_count": 16,
      "outputs": [
        {
          "output_type": "stream",
          "name": "stdout",
          "text": [
            "[['a' '10']\n",
            " ['b' '20']\n",
            " ['c' '30']]\n",
            "<class 'numpy.ndarray'>\n",
            "<U21\n",
            "(3, 2)\n",
            "2\n",
            "6\n"
          ]
        }
      ]
    },
    {
      "cell_type": "markdown",
      "source": [
        "#Creating ndarray from scratch"
      ],
      "metadata": {
        "id": "Sl4bJhxwgZj6"
      }
    },
    {
      "cell_type": "code",
      "source": [
        "# np.zeros\n",
        "\n",
        "arr = np.zeros((2,3),dtype=np.int8)\n",
        "\n",
        "# print(arr)\n",
        "# print(type(arr))\n",
        "# print(arr.dtype)\n",
        "# print(arr.shape)\n",
        "# print(arr.ndim)\n",
        "# print(arr.size)\n",
        "\n",
        "arr = np.zeros_like(arr3) ## arr3 shape same\n",
        "print(arr)\n",
        "print(arr.shape)"
      ],
      "metadata": {
        "colab": {
          "base_uri": "https://localhost:8080/"
        },
        "id": "lbGnu155gZBM",
        "outputId": "65d2365f-e0ac-4200-a91e-8a05e5d3206e"
      },
      "execution_count": 17,
      "outputs": [
        {
          "output_type": "stream",
          "name": "stdout",
          "text": [
            "[[[0 0 0]\n",
            "  [0 0 0]]\n",
            "\n",
            " [[0 0 0]\n",
            "  [0 0 0]]]\n",
            "(2, 2, 3)\n"
          ]
        }
      ]
    },
    {
      "cell_type": "code",
      "source": [
        "#np.ones\n",
        "\n",
        "arr = np.ones((3,4,3),dtype=np.int8)\n",
        "\n",
        "# print(arr)\n",
        "# print(type(arr))\n",
        "# print(arr.dtype)\n",
        "# print(arr.shape)\n",
        "# print(arr.ndim)\n",
        "# print(arr.size)\n",
        "\n",
        "\n",
        "arr = np.ones_like(arr3) ## arr3 shape same\n",
        "print(arr)\n",
        "print(arr.shape)"
      ],
      "metadata": {
        "colab": {
          "base_uri": "https://localhost:8080/"
        },
        "id": "p8nVhZRlg8oc",
        "outputId": "f96ccb05-2ed4-4acc-b7d1-b9bb5f6e8a09"
      },
      "execution_count": 18,
      "outputs": [
        {
          "output_type": "stream",
          "name": "stdout",
          "text": [
            "[[[1 1 1]\n",
            "  [1 1 1]]\n",
            "\n",
            " [[1 1 1]\n",
            "  [1 1 1]]]\n",
            "(2, 2, 3)\n"
          ]
        }
      ]
    },
    {
      "cell_type": "code",
      "source": [
        "#np.empty\n",
        "arr = np.empty((4,3),dtype=np.int8)\n",
        "\n",
        "# print(arr)\n",
        "# print(type(arr))\n",
        "# print(arr.dtype)\n",
        "# print(arr.shape)\n",
        "# print(arr.ndim)\n",
        "# print(arr.size)\n",
        "\n",
        "arr = np.empty_like(arr3) ## arr3 shape same\n",
        "print(arr)\n",
        "print(arr.shape)"
      ],
      "metadata": {
        "colab": {
          "base_uri": "https://localhost:8080/"
        },
        "id": "D7HHYnLQhC5a",
        "outputId": "56699dff-18dc-4bd1-933f-bb068a3dbe99"
      },
      "execution_count": 19,
      "outputs": [
        {
          "output_type": "stream",
          "name": "stdout",
          "text": [
            "[[[1 1 1]\n",
            "  [1 1 1]]\n",
            "\n",
            " [[1 1 1]\n",
            "  [1 1 1]]]\n",
            "(2, 2, 3)\n"
          ]
        }
      ]
    },
    {
      "cell_type": "code",
      "source": [
        "#np.full\n",
        "\n",
        "arr = np.full((4,3),np.inf)\n",
        "\n",
        "# print(arr)\n",
        "# print(type(arr))\n",
        "# print(arr.dtype)\n",
        "# print(arr.shape)\n",
        "# print(arr.ndim)\n",
        "# print(arr.size)\n",
        "\n",
        "\n",
        "arr = np.full_like(arr3,np.inf,dtype=np.float64)\n",
        "\n",
        "print(arr)\n",
        "print(arr.shape)\n",
        "print(arr.dtype)"
      ],
      "metadata": {
        "colab": {
          "base_uri": "https://localhost:8080/"
        },
        "id": "qwk5og-BhG86",
        "outputId": "92c2b533-4c93-4670-997a-49ffcf130d8c"
      },
      "execution_count": 21,
      "outputs": [
        {
          "output_type": "stream",
          "name": "stdout",
          "text": [
            "[[[inf inf inf]\n",
            "  [inf inf inf]]\n",
            "\n",
            " [[inf inf inf]\n",
            "  [inf inf inf]]]\n",
            "(2, 2, 3)\n",
            "float64\n"
          ]
        }
      ]
    },
    {
      "cell_type": "markdown",
      "source": [
        "#array creation with random values"
      ],
      "metadata": {
        "id": "ocFVyVm2hqPN"
      }
    },
    {
      "cell_type": "code",
      "source": [
        "# np.random.rand(shape)\n",
        "\n",
        "arr = np.random.rand(2,3) # 0 ->1\n",
        "\n",
        "print(arr)\n",
        "print(type(arr))\n",
        "print(arr.dtype)\n",
        "print(arr.shape)\n",
        "print(arr.ndim)\n",
        "print(arr.size)"
      ],
      "metadata": {
        "colab": {
          "base_uri": "https://localhost:8080/"
        },
        "id": "vZ_E69JLhtTj",
        "outputId": "5e495ea8-71f3-48f7-9577-5cb36616eee3"
      },
      "execution_count": 24,
      "outputs": [
        {
          "output_type": "stream",
          "name": "stdout",
          "text": [
            "[[0.66272173 0.70378396 0.17680061]\n",
            " [0.15227476 0.51926392 0.08211612]]\n",
            "<class 'numpy.ndarray'>\n",
            "float64\n",
            "(2, 3)\n",
            "2\n",
            "6\n"
          ]
        }
      ]
    },
    {
      "cell_type": "code",
      "source": [
        "\n",
        "# np.random.randint(start,end, shape)\n",
        "\n",
        "arr = np.random.randint(1,10 , (2,3))\n",
        "\n",
        "print(arr)\n",
        "print(type(arr))\n",
        "print(arr.dtype)\n",
        "print(arr.shape)\n",
        "print(arr.ndim)\n",
        "print(arr.size)"
      ],
      "metadata": {
        "colab": {
          "base_uri": "https://localhost:8080/"
        },
        "id": "XcwQJjtKhwAT",
        "outputId": "4b9ed701-538a-4e74-a759-26c1fab39fae"
      },
      "execution_count": 25,
      "outputs": [
        {
          "output_type": "stream",
          "name": "stdout",
          "text": [
            "[[6 2 7]\n",
            " [9 5 5]]\n",
            "<class 'numpy.ndarray'>\n",
            "int64\n",
            "(2, 3)\n",
            "2\n",
            "6\n"
          ]
        }
      ]
    },
    {
      "cell_type": "code",
      "source": [
        "# np.random.uniform(start,end, shape)\n",
        "\n",
        "arr = np.random.uniform(50,100, (3,3,4))\n",
        "\n",
        "print(arr)\n",
        "print(type(arr))\n",
        "print(arr.dtype)\n",
        "print(arr.shape)\n",
        "print(arr.ndim)\n",
        "print(arr.size)"
      ],
      "metadata": {
        "colab": {
          "base_uri": "https://localhost:8080/"
        },
        "id": "Gq6rtQyVhyF7",
        "outputId": "7e93b8cd-a23a-4960-e49a-95e6de79ac7b"
      },
      "execution_count": 26,
      "outputs": [
        {
          "output_type": "stream",
          "name": "stdout",
          "text": [
            "[[[66.17768496 79.11933972 51.48169529 75.15665754]\n",
            "  [57.21165259 73.97074808 51.83519324 97.3672746 ]\n",
            "  [73.49415029 51.62267849 61.56142307 86.20243321]]\n",
            "\n",
            " [[95.90592363 84.36990553 63.86447304 88.11421754]\n",
            "  [65.60554546 85.88368854 53.39851566 77.02357584]\n",
            "  [60.22817174 51.78697836 52.51795891 59.86056694]]\n",
            "\n",
            " [[63.676902   95.74033014 89.18317557 72.74502969]\n",
            "  [51.48912339 88.18353771 72.71784682 76.94494034]\n",
            "  [91.89340818 55.68031742 64.35915503 83.54964649]]]\n",
            "<class 'numpy.ndarray'>\n",
            "float64\n",
            "(3, 3, 4)\n",
            "3\n",
            "36\n"
          ]
        }
      ]
    },
    {
      "cell_type": "markdown",
      "source": [
        "#array creation with range functions"
      ],
      "metadata": {
        "id": "pkPTYeb4lOPF"
      }
    },
    {
      "cell_type": "code",
      "source": [
        "# np.arange(first , end , step ) -> similar to range function\n",
        "\n",
        "arr = np.arange(1 , 10 ,1 )\n",
        "mat = arr.reshape(3,3)\n",
        "\n",
        "print(arr)\n",
        "print(mat)\n",
        "print(type(arr))\n",
        "print(arr.dtype)\n",
        "print(arr.shape)\n",
        "print(arr.ndim)\n",
        "print(arr.size)"
      ],
      "metadata": {
        "colab": {
          "base_uri": "https://localhost:8080/"
        },
        "id": "wdIEpEEYlPc7",
        "outputId": "5c8c18e9-3940-40b0-f6e9-f95e334de131"
      },
      "execution_count": 27,
      "outputs": [
        {
          "output_type": "stream",
          "name": "stdout",
          "text": [
            "[1 2 3 4 5 6 7 8 9]\n",
            "[[1 2 3]\n",
            " [4 5 6]\n",
            " [7 8 9]]\n",
            "<class 'numpy.ndarray'>\n",
            "int64\n",
            "(9,)\n",
            "1\n",
            "9\n"
          ]
        }
      ]
    },
    {
      "cell_type": "code",
      "source": [
        "\n",
        "# np.linspace(start , end(included) , koita)\n",
        "\n",
        "arr = np.linspace(0, 4 ,6)\n",
        "\n",
        "\n",
        "print(arr)\n",
        "print(type(arr))\n",
        "print(arr.dtype)\n",
        "print(arr.shape)\n",
        "print(arr.ndim)\n",
        "print(arr.size)"
      ],
      "metadata": {
        "colab": {
          "base_uri": "https://localhost:8080/"
        },
        "id": "0J0eQR_gmAqU",
        "outputId": "66b3f9a1-d2d5-4185-e933-f94f1334ede7"
      },
      "execution_count": 28,
      "outputs": [
        {
          "output_type": "stream",
          "name": "stdout",
          "text": [
            "[0.  0.8 1.6 2.4 3.2 4. ]\n",
            "<class 'numpy.ndarray'>\n",
            "float64\n",
            "(6,)\n",
            "1\n",
            "6\n"
          ]
        }
      ]
    },
    {
      "cell_type": "code",
      "source": [
        "# np.logspace(start , end(included) , koita )\n",
        "\n",
        "arr = np.logspace(0 , 4 ,6, base =2)\n",
        "\n",
        "print(arr)"
      ],
      "metadata": {
        "colab": {
          "base_uri": "https://localhost:8080/"
        },
        "id": "oppyLK9MmBuE",
        "outputId": "01277369-bb9e-494b-e753-21eb824eda8b"
      },
      "execution_count": 29,
      "outputs": [
        {
          "output_type": "stream",
          "name": "stdout",
          "text": [
            "[ 1.          1.74110113  3.03143313  5.27803164  9.18958684 16.        ]\n"
          ]
        }
      ]
    },
    {
      "cell_type": "markdown",
      "source": [
        "#creating matrix for Linear algebra"
      ],
      "metadata": {
        "id": "jxM9vCagnU9P"
      }
    },
    {
      "cell_type": "code",
      "source": [
        "diagonal_matrix = np.diag([1,2,3,4])\n",
        "\n",
        "print(diagonal_matrix)\n",
        "print(diagonal_matrix.shape)"
      ],
      "metadata": {
        "colab": {
          "base_uri": "https://localhost:8080/"
        },
        "id": "0dJY6PbnnWwe",
        "outputId": "0ef6203b-3926-43dc-fc2e-c048519bee8d"
      },
      "execution_count": 30,
      "outputs": [
        {
          "output_type": "stream",
          "name": "stdout",
          "text": [
            "[[1 0 0 0]\n",
            " [0 2 0 0]\n",
            " [0 0 3 0]\n",
            " [0 0 0 4]]\n",
            "(4, 4)\n"
          ]
        }
      ]
    },
    {
      "cell_type": "code",
      "source": [
        "# identity matrix\n",
        "\n",
        "identity_mat = np.eye(4)\n",
        "# print(identity_mat)\n",
        "# print(identity_mat.shape)\n",
        "\n",
        "\n",
        "# np.eye(row , column,k)\n",
        "\n",
        "mat = np.eye(3,4)\n",
        "print(mat)\n",
        "\n",
        "mat = np.eye(3,4,1)\n",
        "print(mat)"
      ],
      "metadata": {
        "colab": {
          "base_uri": "https://localhost:8080/"
        },
        "id": "n3m4SOD5ndTf",
        "outputId": "3d73caa5-52f6-4ca2-8af4-85f4b4f49dae"
      },
      "execution_count": 31,
      "outputs": [
        {
          "output_type": "stream",
          "name": "stdout",
          "text": [
            "[[1. 0. 0. 0.]\n",
            " [0. 1. 0. 0.]\n",
            " [0. 0. 1. 0.]]\n",
            "[[0. 1. 0. 0.]\n",
            " [0. 0. 1. 0.]\n",
            " [0. 0. 0. 1.]]\n"
          ]
        }
      ]
    },
    {
      "cell_type": "markdown",
      "source": [
        "#indexing and slicing"
      ],
      "metadata": {
        "id": "CgAnq4SLnqNO"
      }
    },
    {
      "cell_type": "code",
      "source": [
        "\n",
        "#indexing\n",
        "\n",
        "print(arr1)\n",
        "print(arr2)\n",
        "\n",
        "# arr1[2] = 100\n",
        "\n",
        "# print(arr1)\n",
        "arr2[0][2]= 100\n",
        "\n",
        "print(arr2)"
      ],
      "metadata": {
        "colab": {
          "base_uri": "https://localhost:8080/"
        },
        "id": "rMaUrpVinxhf",
        "outputId": "d6b7984c-60e2-484c-f59e-aec308a17923"
      },
      "execution_count": 32,
      "outputs": [
        {
          "output_type": "stream",
          "name": "stdout",
          "text": [
            "[1 2 3]\n",
            "[[ 1  2  3  4  5]\n",
            " [ 6  7  8  9 10]\n",
            " [11 12 13 14 15]\n",
            " [16 17 18 19 20]]\n",
            "[[  1   2 100   4   5]\n",
            " [  6   7   8   9  10]\n",
            " [ 11  12  13  14  15]\n",
            " [ 16  17  18  19  20]]\n"
          ]
        }
      ]
    },
    {
      "cell_type": "code",
      "source": [
        "#slicing\n",
        "#1d = arr[start:end:step]\n",
        "\n",
        "arr1_mod = arr1[1:4].copy()\n",
        "arr1[1] = 2\n",
        "\n",
        "\n",
        "arr1_mod[2] = 200\n",
        "print(arr1_mod)\n",
        "print(arr1)"
      ],
      "metadata": {
        "colab": {
          "base_uri": "https://localhost:8080/",
          "height": 211
        },
        "id": "--ZFrMgJn1HW",
        "outputId": "0d9ed1f6-80ff-45aa-f1f3-5ef753a1390b"
      },
      "execution_count": 34,
      "outputs": [
        {
          "output_type": "error",
          "ename": "IndexError",
          "evalue": "index 2 is out of bounds for axis 0 with size 2",
          "traceback": [
            "\u001b[0;31m---------------------------------------------------------------------------\u001b[0m",
            "\u001b[0;31mIndexError\u001b[0m                                Traceback (most recent call last)",
            "\u001b[0;32m/tmp/ipython-input-3270113223.py\u001b[0m in \u001b[0;36m<cell line: 0>\u001b[0;34m()\u001b[0m\n\u001b[1;32m      6\u001b[0m \u001b[0;34m\u001b[0m\u001b[0m\n\u001b[1;32m      7\u001b[0m \u001b[0;34m\u001b[0m\u001b[0m\n\u001b[0;32m----> 8\u001b[0;31m \u001b[0marr1_mod\u001b[0m\u001b[0;34m[\u001b[0m\u001b[0;36m2\u001b[0m\u001b[0;34m]\u001b[0m \u001b[0;34m=\u001b[0m \u001b[0;36m200\u001b[0m\u001b[0;34m\u001b[0m\u001b[0;34m\u001b[0m\u001b[0m\n\u001b[0m\u001b[1;32m      9\u001b[0m \u001b[0mprint\u001b[0m\u001b[0;34m(\u001b[0m\u001b[0marr1_mod\u001b[0m\u001b[0;34m)\u001b[0m\u001b[0;34m\u001b[0m\u001b[0;34m\u001b[0m\u001b[0m\n\u001b[1;32m     10\u001b[0m \u001b[0mprint\u001b[0m\u001b[0;34m(\u001b[0m\u001b[0marr1\u001b[0m\u001b[0;34m)\u001b[0m\u001b[0;34m\u001b[0m\u001b[0;34m\u001b[0m\u001b[0m\n",
            "\u001b[0;31mIndexError\u001b[0m: index 2 is out of bounds for axis 0 with size 2"
          ]
        }
      ]
    },
    {
      "cell_type": "code",
      "source": [
        "#2d slicing\n",
        "# # arr[ row_start : row_end : step , column_start : column_end : step ]\n",
        "\n",
        "# # print(arr2)\n",
        "\n",
        "# #getting a row\n",
        "\n",
        "# row_0 = arr2[0:1 ,]\n",
        "\n",
        "# row_1= arr2[1: , ]\n",
        "\n",
        "# # print(row_0)\n",
        "# # print(row_1)\n",
        "\n",
        "\n",
        "# #getting a column\n",
        "\n",
        "# col_0 = arr2[:: ,0:1]\n",
        "# col_1 = arr2[::,1:2]\n",
        "\n",
        "# print(col_0)\n",
        "# print(col_1)\n",
        "\n",
        "# #getting a portion\n",
        "\n",
        "print(arr2)\n",
        "portion = arr2[:: , 0:2]\n",
        "\n",
        "print(portion)"
      ],
      "metadata": {
        "colab": {
          "base_uri": "https://localhost:8080/"
        },
        "id": "3iJJlZSMn_TW",
        "outputId": "2b948832-a672-4b97-c617-314a6b642069"
      },
      "execution_count": 41,
      "outputs": [
        {
          "output_type": "stream",
          "name": "stdout",
          "text": [
            "[[  1   2 100   4   5]\n",
            " [  6   7   8   9  10]\n",
            " [ 11  12  13  14  15]\n",
            " [ 16  17  18  19  20]]\n",
            "[[ 1  2]\n",
            " [ 6  7]\n",
            " [11 12]\n",
            " [16 17]]\n"
          ]
        }
      ]
    },
    {
      "cell_type": "markdown",
      "source": [
        "#Advanced Indexing"
      ],
      "metadata": {
        "id": "ZFmOaJ5roB9H"
      }
    },
    {
      "cell_type": "code",
      "source": [
        "lst = np.array([ 10 , 20 ,30 ,40 ])\n",
        "\n",
        "values = lst[[0,3,1]]\n",
        "\n",
        "print(values)"
      ],
      "metadata": {
        "colab": {
          "base_uri": "https://localhost:8080/"
        },
        "id": "8KO5rN4DoDiX",
        "outputId": "c8514720-8f96-496f-dcdf-92be516d101b"
      },
      "execution_count": 36,
      "outputs": [
        {
          "output_type": "stream",
          "name": "stdout",
          "text": [
            "[10 40 20]\n"
          ]
        }
      ]
    },
    {
      "cell_type": "code",
      "source": [
        "print(arr2)\n",
        "print(arr2[[0,1] , [1,2]])\n",
        "\n",
        "# boolean kono kichu diye\n",
        "print(arr2[arr2>1])\n",
        "arr2[arr2>2] = 0\n",
        "\n",
        "print(arr2)"
      ],
      "metadata": {
        "colab": {
          "base_uri": "https://localhost:8080/"
        },
        "id": "pwJ1R0wGoH3m",
        "outputId": "f2ad6db8-2b41-4058-9e1f-44cc7b766a98"
      },
      "execution_count": 42,
      "outputs": [
        {
          "output_type": "stream",
          "name": "stdout",
          "text": [
            "[[  1   2 100   4   5]\n",
            " [  6   7   8   9  10]\n",
            " [ 11  12  13  14  15]\n",
            " [ 16  17  18  19  20]]\n",
            "[2 8]\n",
            "[  2 100   4   5   6   7   8   9  10  11  12  13  14  15  16  17  18  19\n",
            "  20]\n",
            "[[1 2 0 0 0]\n",
            " [0 0 0 0 0]\n",
            " [0 0 0 0 0]\n",
            " [0 0 0 0 0]]\n"
          ]
        }
      ]
    },
    {
      "cell_type": "code",
      "source": [
        "print(arr2)"
      ],
      "metadata": {
        "colab": {
          "base_uri": "https://localhost:8080/"
        },
        "id": "Ur_YC_FroOnv",
        "outputId": "1be624a6-39d9-44fe-d3d4-3acdf31d4d47"
      },
      "execution_count": 38,
      "outputs": [
        {
          "output_type": "stream",
          "name": "stdout",
          "text": [
            "[[  1   2 100   4   5]\n",
            " [  6   7   8   9  10]\n",
            " [ 11  12  13  14  15]\n",
            " [ 16  17  18  19  20]]\n"
          ]
        }
      ]
    },
    {
      "cell_type": "code",
      "source": [
        "arr  = np.array([[10,20,30] , [100,200,300] ] )\n",
        "\n",
        "# iteration\n",
        "print(arr3)\n",
        "for i in np.nditer(arr3):\n",
        "    print(i)"
      ],
      "metadata": {
        "colab": {
          "base_uri": "https://localhost:8080/"
        },
        "id": "ozf6l-vxoRlv",
        "outputId": "15f79e71-9603-4049-e87d-c77f285fdf58"
      },
      "execution_count": 39,
      "outputs": [
        {
          "output_type": "stream",
          "name": "stdout",
          "text": [
            "[[[ 1  2  3]\n",
            "  [ 3  4  5]]\n",
            "\n",
            " [[ 5  6  7]\n",
            "  [ 9 10 11]]]\n",
            "1\n",
            "2\n",
            "3\n",
            "3\n",
            "4\n",
            "5\n",
            "5\n",
            "6\n",
            "7\n",
            "9\n",
            "10\n",
            "11\n"
          ]
        }
      ]
    },
    {
      "cell_type": "markdown",
      "source": [
        "#quiz explaination\n",
        "\n"
      ],
      "metadata": {
        "id": "q8tZiYIaqmgL"
      }
    },
    {
      "cell_type": "markdown",
      "source": [
        "https://docs.google.com/document/d/1D7ivdTJ6s7NjTZi-TP4P8pvSo-MpOOxbjfqTUBIdT-o/edit?tab=t.0#heading=h.8qalwvmka0tp"
      ],
      "metadata": {
        "id": "A6MxQklMqswJ"
      }
    },
    {
      "cell_type": "markdown",
      "source": [
        "#Practice Problems"
      ],
      "metadata": {
        "id": "xbZMx_mfqxxx"
      }
    },
    {
      "cell_type": "markdown",
      "source": [
        "https://docs.google.com/document/d/17mv1g8UmPDyCMtSERnE0G4WCV82xeeKc7DvKRId9jXU/edit?tab=t.0"
      ],
      "metadata": {
        "id": "8HUDWz8mq21p"
      }
    },
    {
      "cell_type": "code",
      "source": [
        "#1\n",
        "import numpy as np\n",
        "\n",
        "# given list of temperatures in Celsius\n",
        "celsius = [0, 20, 37, 100, -10]\n",
        "\n",
        "# create a NumPy array\n",
        "c = np.array(celsius)\n",
        "\n",
        "# convert Celsius to Fahrenheit\n",
        "f = c * 1.8 + 32\n",
        "\n",
        "# print the Fahrenheit array\n",
        "print(\"Fahrenheit temperatures:\", f)\n"
      ],
      "metadata": {
        "colab": {
          "base_uri": "https://localhost:8080/"
        },
        "id": "XnpvDZgQq0oB",
        "outputId": "727d4d89-a6a2-49a8-8b91-abb40252de90"
      },
      "execution_count": 43,
      "outputs": [
        {
          "output_type": "stream",
          "name": "stdout",
          "text": [
            "Fahrenheit temperatures: [ 32.   68.   98.6 212.   14. ]\n"
          ]
        }
      ]
    },
    {
      "cell_type": "code",
      "source": [
        "#2\n",
        "import numpy as np\n",
        "\n",
        "lap_times = [75, 80, 78, 82, 76]\n",
        "\n",
        "times = np.array(lap_times)\n",
        "\n",
        "print(\"Shape:\", times.shape)\n",
        "print(\"Size:\", times.size)\n",
        "print(\"Data type:\", times.dtype)\n",
        "\n",
        "minutes = times / 60\n",
        "\n",
        "print(\"Lap times in minutes:\", minutes)\n"
      ],
      "metadata": {
        "colab": {
          "base_uri": "https://localhost:8080/"
        },
        "id": "It0agGTrrBR5",
        "outputId": "79049883-5eba-4b7b-d1d9-b4e210ecee16"
      },
      "execution_count": 45,
      "outputs": [
        {
          "output_type": "stream",
          "name": "stdout",
          "text": [
            "Shape: (5,)\n",
            "Size: 5\n",
            "Data type: int64\n",
            "Lap times in minutes: [1.25       1.33333333 1.3        1.36666667 1.26666667]\n"
          ]
        }
      ]
    }
  ]
}