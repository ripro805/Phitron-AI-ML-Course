{
  "cells": [
    {
      "cell_type": "markdown",
      "metadata": {
        "id": "p-N2Xcip9fNf"
      },
      "source": [
        "**email address : rifatrizviofficial001@gmail.com**"
      ]
    },
    {
      "cell_type": "markdown",
      "metadata": {},
      "source": [
        "https://phitron.io/ml-01/assignment/ml-01-mid-term"
      ]
    },
    {
      "cell_type": "code",
      "execution_count": 33,
      "metadata": {
        "colab": {
          "base_uri": "https://localhost:8080/"
        },
        "id": "3g90bgwH9bII",
        "outputId": "913859db-0308-46ec-cba5-039e2e6329b1"
      },
      "outputs": [
        {
          "name": "stdout",
          "output_type": "stream",
          "text": [
            "Sample Data Created and Saved as employees.csv\n"
          ]
        }
      ],
      "source": [
        "# You must run this code and use that data set for all the questions\n",
        "import numpy as np\n",
        "import pandas as pd\n",
        "\n",
        "np.random.seed(42)\n",
        "\n",
        "ids = np.arange(1, 11)\n",
        "ages = np.random.randint(18, 60, 10)\n",
        "salaries = np.random.randint(30000, 90000, 10)\n",
        "departments = np.array([\"HR\", \"IT\", \"Finance\", \"IT\", \"HR\", \"Sales\", \"Finance\", \"IT\", \"Sales\", \"HR\"])\n",
        "\n",
        "DF = pd.DataFrame({\n",
        "\"id\": ids,\n",
        "\"age\": ages,\n",
        "\"salary\": salaries,\n",
        "\"dept\": departments\n",
        "})\n",
        "\n",
        "DF.to_csv(\"employees.csv\", index=False)\n",
        "print(\"Sample Data Created and Saved as employees.csv\")\n"
      ]
    },
    {
      "cell_type": "markdown",
      "metadata": {
        "id": "TOqe9Vjz-RGX"
      },
      "source": [
        "#Answer to Q1"
      ]
    },
    {
      "cell_type": "code",
      "execution_count": 34,
      "metadata": {
        "colab": {
          "base_uri": "https://localhost:8080/"
        },
        "id": "-Rrhj3LX-U1-",
        "outputId": "4dbb6731-5478-4783-fe1a-f6a45e7b5d1a"
      },
      "outputs": [
        {
          "name": "stdout",
          "output_type": "stream",
          "text": [
            "[56 46 32 25 38 56 36 40 28 28]\n",
            "[77191 74131 46023 71090 31685 30769 89735 86101 32433 35311]\n",
            "Age Info:\n",
            "\n",
            "int64\n",
            "1\n",
            "(10,)\n",
            "10\n",
            "Salary Info:\n",
            "\n",
            "int64\n",
            "1\n",
            "(10,)\n",
            "10\n"
          ]
        }
      ],
      "source": [
        "\n",
        "age=np.array(ages)\n",
        "salary=np.array(salaries)\n",
        "print(age)\n",
        "print(salary)\n",
        "\n",
        "print(\"Age Info:\\n\")\n",
        "print(age.dtype)\n",
        "print(age.ndim)\n",
        "print(age.shape)\n",
        "print(age.size)\n",
        "\n",
        "print(\"Salary Info:\\n\")\n",
        "print(salary.dtype)\n",
        "print(salary.ndim)\n",
        "print(salary.shape)\n",
        "print(salary.size)\n"
      ]
    },
    {
      "cell_type": "markdown",
      "metadata": {
        "id": "WdEC0grL_c1v"
      },
      "source": [
        "#Answer to Q2"
      ]
    },
    {
      "cell_type": "code",
      "execution_count": 35,
      "metadata": {
        "colab": {
          "base_uri": "https://localhost:8080/"
        },
        "id": "G6tUth-P_yNm",
        "outputId": "490c3e5b-bc8e-448f-da94-0eee2c038278"
      },
      "outputs": [
        {
          "name": "stdout",
          "output_type": "stream",
          "text": [
            "Highest Salary: 89735\n",
            "Lowest Salary: 30769\n",
            "Average Salary: 57446.9\n",
            "Average Age: 38.5\n"
          ]
        }
      ],
      "source": [
        "h_sal=np.max(salary)\n",
        "l_sal=np.min(salary)\n",
        "avg_sal=np.mean(salary)\n",
        "avg_age=np.mean(age)\n",
        "\n",
        "print(\"Highest Salary:\",h_sal)\n",
        "print(\"Lowest Salary:\",l_sal)\n",
        "print(\"Average Salary:\",avg_sal)\n",
        "print(\"Average Age:\",avg_age)"
      ]
    },
    {
      "cell_type": "markdown",
      "metadata": {
        "id": "Ya_BxFp0_gBm"
      },
      "source": [
        "#Answer to Q3"
      ]
    },
    {
      "cell_type": "code",
      "execution_count": 36,
      "metadata": {
        "colab": {
          "base_uri": "https://localhost:8080/"
        },
        "id": "kqOluT_6AdQF",
        "outputId": "a19ba845-4668-4b8f-8636-624baa71eceb"
      },
      "outputs": [
        {
          "name": "stdout",
          "output_type": "stream",
          "text": [
            "[56 46 32 38 56 36 40]\n",
            "7\n"
          ]
        }
      ],
      "source": [
        "age_over_30=age[age>30]\n",
        "cnt_over_30=np.sum(age>30)\n",
        "\n",
        "print(age_over_30)\n",
        "print(cnt_over_30)"
      ]
    },
    {
      "cell_type": "markdown",
      "metadata": {
        "id": "IuWY0Yor_hkO"
      },
      "source": [
        "#Answer to Q4"
      ]
    },
    {
      "cell_type": "code",
      "execution_count": 37,
      "metadata": {
        "colab": {
          "base_uri": "https://localhost:8080/"
        },
        "id": "1WI6PhKNBJvu",
        "outputId": "72fbb884-ae1f-4283-ffeb-6f473a53691c"
      },
      "outputs": [
        {
          "name": "stdout",
          "output_type": "stream",
          "text": [
            "[61 51 37 30 43 61 41 45 33 33]\n"
          ]
        }
      ],
      "source": [
        "updt_age=age+5\n",
        "print(updt_age)"
      ]
    },
    {
      "cell_type": "markdown",
      "metadata": {
        "id": "bKn52zD8_jAm"
      },
      "source": [
        "#Answer to Q5"
      ]
    },
    {
      "cell_type": "code",
      "execution_count": 38,
      "metadata": {
        "colab": {
          "base_uri": "https://localhost:8080/"
        },
        "id": "PclnwmRsBk-9",
        "outputId": "53df3bd1-bfb0-43e2-c343-b093ac0f3803"
      },
      "outputs": [
        {
          "name": "stdout",
          "output_type": "stream",
          "text": [
            "574469\n",
            "58966\n"
          ]
        }
      ],
      "source": [
        "tot_sal=np.sum(salary)\n",
        "diff_sal=np.max(salary)-np.min(salary)\n",
        "print(tot_sal)\n",
        "print(diff_sal)"
      ]
    },
    {
      "cell_type": "markdown",
      "metadata": {
        "id": "wqZxuh5T_lhO"
      },
      "source": [
        "#Answer to Q6"
      ]
    },
    {
      "cell_type": "code",
      "execution_count": 39,
      "metadata": {
        "colab": {
          "base_uri": "https://localhost:8080/"
        },
        "id": "JlNGdaUZCHNN",
        "outputId": "bed7c5ac-207b-49a2-ff7f-8c6e337459eb"
      },
      "outputs": [
        {
          "name": "stdout",
          "output_type": "stream",
          "text": [
            "   id  age  salary     dept\n",
            "0   1   56   77191       HR\n",
            "1   2   46   74131       IT\n",
            "2   3   32   46023  Finance\n",
            "3   4   25   71090       IT\n",
            "4   5   38   31685       HR\n",
            "<class 'pandas.core.frame.DataFrame'>\n",
            "RangeIndex: 10 entries, 0 to 9\n",
            "Data columns (total 4 columns):\n",
            " #   Column  Non-Null Count  Dtype \n",
            "---  ------  --------------  ----- \n",
            " 0   id      10 non-null     int64 \n",
            " 1   age     10 non-null     int64 \n",
            " 2   salary  10 non-null     int64 \n",
            " 3   dept    10 non-null     object\n",
            "dtypes: int64(3), object(1)\n",
            "memory usage: 452.0+ bytes\n",
            "None\n",
            "             id       age        salary\n",
            "count  10.00000  10.00000     10.000000\n",
            "mean    5.50000  38.50000  57446.900000\n",
            "std     3.02765  11.16791  24357.262884\n",
            "min     1.00000  25.00000  30769.000000\n",
            "25%     3.25000  29.00000  33152.500000\n",
            "50%     5.50000  37.00000  58556.500000\n",
            "75%     7.75000  44.50000  76426.000000\n",
            "max    10.00000  56.00000  89735.000000\n"
          ]
        }
      ],
      "source": [
        "df=pd.read_csv(\"employees.csv\")\n",
        "print(df.head())\n",
        "print(df.info())\n",
        "print(df.describe())"
      ]
    },
    {
      "cell_type": "markdown",
      "metadata": {
        "id": "3FSOFX2r_kIe"
      },
      "source": [
        "#Answer to Q7"
      ]
    },
    {
      "cell_type": "code",
      "execution_count": 40,
      "metadata": {
        "colab": {
          "base_uri": "https://localhost:8080/"
        },
        "id": "kV922hM9Cpyd",
        "outputId": "2b583363-b115-49bc-a4d5-f70876c5d6ff"
      },
      "outputs": [
        {
          "name": "stdout",
          "output_type": "stream",
          "text": [
            "   id  age  salary\n",
            "0   1   56   77191\n",
            "1   2   46   74131\n",
            "2   3   32   46023\n",
            "3   4   25   71090\n",
            "4   5   38   31685\n",
            "5   6   56   30769\n",
            "6   7   36   89735\n",
            "7   8   40   86101\n",
            "8   9   28   32433\n",
            "9  10   28   35311\n",
            "   id  age  salary\n",
            "7   8   40   86101\n",
            "8   9   28   32433\n",
            "9  10   28   35311\n"
          ]
        }
      ],
      "source": [
        "slctd_col=df.loc[:,['id','age','salary']]\n",
        "print(slctd_col)\n",
        "print(slctd_col.tail(3))"
      ]
    },
    {
      "cell_type": "markdown",
      "metadata": {
        "id": "OjMVmpc1_nKW"
      },
      "source": [
        "#Answer to Q8"
      ]
    },
    {
      "cell_type": "code",
      "execution_count": 41,
      "metadata": {
        "colab": {
          "base_uri": "https://localhost:8080/"
        },
        "id": "QlKaUJO6DeHv",
        "outputId": "e874d32e-6503-41ad-ea48-42c05a5147f7"
      },
      "outputs": [
        {
          "name": "stdout",
          "output_type": "stream",
          "text": [
            "   id  age  salary dept\n",
            "1   2   46   74131   IT\n",
            "3   4   25   71090   IT\n",
            "7   8   40   86101   IT\n",
            "3\n"
          ]
        }
      ],
      "source": [
        "it_employee=df[df['dept']=='IT']\n",
        "print(it_employee)\n",
        "print(it_employee.shape[0])"
      ]
    },
    {
      "cell_type": "markdown",
      "metadata": {
        "id": "xMTlTQwU_r8m"
      },
      "source": [
        "#Answer to Q9"
      ]
    },
    {
      "cell_type": "code",
      "execution_count": 42,
      "metadata": {
        "colab": {
          "base_uri": "https://localhost:8080/"
        },
        "id": "U9TmhdLSEjAF",
        "outputId": "33fa03f2-51f5-4ab8-aab2-43786762d71b"
      },
      "outputs": [
        {
          "name": "stdout",
          "output_type": "stream",
          "text": [
            "   id  age  salary     dept\n",
            "6   7   36   89735  Finance\n",
            "7   8   40   86101       IT\n",
            "0   1   56   77191       HR\n",
            "1   2   46   74131       IT\n",
            "3   4   25   71090       IT\n",
            "2   3   32   46023  Finance\n",
            "9  10   28   35311       HR\n",
            "8   9   28   32433    Sales\n",
            "4   5   38   31685       HR\n",
            "5   6   56   30769    Sales\n",
            "      dept  age  salary\n",
            "6  Finance   36   89735\n",
            "7       IT   40   86101\n",
            "0       HR   56   77191\n"
          ]
        }
      ],
      "source": [
        "sort_df = df.sort_values(['salary'],ascending=False)\n",
        "\n",
        "top_3 = sort_df.loc[:,['dept','age','salary']].head(3)\n",
        "print(sort_df)\n",
        "\n",
        "print(top_3)"
      ]
    },
    {
      "cell_type": "markdown",
      "metadata": {
        "id": "lkaal10-_uwd"
      },
      "source": [
        "#Answer to Q10\n"
      ]
    },
    {
      "cell_type": "code",
      "execution_count": 43,
      "metadata": {
        "colab": {
          "base_uri": "https://localhost:8080/"
        },
        "id": "AzyvUcpy_w8d",
        "outputId": "478365e9-8fa3-443a-d68e-aa64d89b46ea"
      },
      "outputs": [
        {
          "name": "stdout",
          "output_type": "stream",
          "text": [
            "55863.3\n"
          ]
        }
      ],
      "source": [
        "df.loc[df['salary']>80000 ,'salary']=80000\n",
        "new_avg_sal=df['salary'].mean()\n",
        "print(new_avg_sal)"
      ]
    }
  ],
  "metadata": {
    "colab": {
      "provenance": []
    },
    "kernelspec": {
      "display_name": "Python 3",
      "name": "python3"
    },
    "language_info": {
      "name": "python"
    }
  },
  "nbformat": 4,
  "nbformat_minor": 0
}
