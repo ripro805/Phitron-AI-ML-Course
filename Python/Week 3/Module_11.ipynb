{
  "nbformat": 4,
  "nbformat_minor": 0,
  "metadata": {
    "colab": {
      "provenance": []
    },
    "kernelspec": {
      "name": "python3",
      "display_name": "Python 3"
    },
    "language_info": {
      "name": "python"
    }
  },
  "cells": [
    {
      "cell_type": "code",
      "execution_count": 1,
      "metadata": {
        "id": "uNC_KhoNtznN"
      },
      "outputs": [],
      "source": [
        "import numpy as np\n",
        "arr= np.random.randint(1,100,size=(10,5))"
      ]
    },
    {
      "cell_type": "code",
      "source": [
        "arr.shape"
      ],
      "metadata": {
        "colab": {
          "base_uri": "https://localhost:8080/"
        },
        "id": "Aeo6Hkd90Qm2",
        "outputId": "aef2633b-d0d4-43e4-a3e5-b58985921148"
      },
      "execution_count": 2,
      "outputs": [
        {
          "output_type": "execute_result",
          "data": {
            "text/plain": [
              "(10, 5)"
            ]
          },
          "metadata": {},
          "execution_count": 2
        }
      ]
    },
    {
      "cell_type": "code",
      "source": [
        "b = arr.reshape(5,10)\n",
        "\n",
        "b.shape\n",
        "b.ndim\n",
        "b"
      ],
      "metadata": {
        "colab": {
          "base_uri": "https://localhost:8080/"
        },
        "id": "avobX0jP0bIN",
        "outputId": "0c560314-fd48-4049-f824-62667f8ffaa3"
      },
      "execution_count": 3,
      "outputs": [
        {
          "output_type": "execute_result",
          "data": {
            "text/plain": [
              "array([[67, 86,  8, 70, 73, 93, 51, 40, 78, 96],\n",
              "       [42, 37, 59, 99, 89, 72, 46, 57, 26, 91],\n",
              "       [74, 63, 71, 86, 14, 68, 10, 81, 25, 50],\n",
              "       [38, 48, 26, 96, 66, 90, 58, 97, 97, 50],\n",
              "       [31, 17, 34, 33, 33, 20, 91, 77, 22, 70]])"
            ]
          },
          "metadata": {},
          "execution_count": 3
        }
      ]
    },
    {
      "cell_type": "markdown",
      "source": [
        "**flatten** -->convert nd in row wise 1d\n",
        "\n",
        "**ravel** --> convert nd in column wise 1d"
      ],
      "metadata": {
        "id": "J9_5wINQ02Pu"
      }
    },
    {
      "cell_type": "code",
      "source": [
        "flatten = b.flatten()\n",
        "print(flatten.ndim)\n",
        "print(flatten)\n",
        "\n",
        "column_wise_flattening = np.ravel(b,order= 'F')\n",
        "\n",
        "print(column_wise_flattening)"
      ],
      "metadata": {
        "colab": {
          "base_uri": "https://localhost:8080/"
        },
        "id": "KWkItquA0lkF",
        "outputId": "a0de977a-2312-4452-bd4c-19df2bd7a4c8"
      },
      "execution_count": 4,
      "outputs": [
        {
          "output_type": "stream",
          "name": "stdout",
          "text": [
            "1\n",
            "[67 86  8 70 73 93 51 40 78 96 42 37 59 99 89 72 46 57 26 91 74 63 71 86\n",
            " 14 68 10 81 25 50 38 48 26 96 66 90 58 97 97 50 31 17 34 33 33 20 91 77\n",
            " 22 70]\n",
            "[67 42 74 38 31 86 37 63 48 17  8 59 71 26 34 70 99 86 96 33 73 89 14 66\n",
            " 33 93 72 68 90 20 51 46 10 58 91 40 57 81 97 77 78 26 25 97 22 96 91 50\n",
            " 50 70]\n"
          ]
        }
      ]
    },
    {
      "cell_type": "code",
      "source": [
        "a = np.random.randint(1 ,10 , size =(2,3))\n",
        "b = np.random.randint(20 ,30 , size =(2,3))\n",
        "print(a)\n",
        "print(b)"
      ],
      "metadata": {
        "colab": {
          "base_uri": "https://localhost:8080/"
        },
        "id": "asXchYNM2JSA",
        "outputId": "53033123-b12f-4554-ddc8-ad6663d7e2f0"
      },
      "execution_count": 5,
      "outputs": [
        {
          "output_type": "stream",
          "name": "stdout",
          "text": [
            "[[4 9 9]\n",
            " [4 8 2]]\n",
            "[[21 27 24]\n",
            " [26 25 22]]\n"
          ]
        }
      ]
    },
    {
      "cell_type": "markdown",
      "source": [
        "**concatenate**"
      ],
      "metadata": {
        "id": "YYjQcxDe2NQY"
      }
    },
    {
      "cell_type": "code",
      "source": [
        "con_row = np.concatenate((a,b),axis=0) # row wise\n",
        "\n",
        "print(con_row)\n",
        "\n",
        "con_col = np.concatenate((a,b), axis = 1) # column wise\n",
        "\n",
        "print(con_col)"
      ],
      "metadata": {
        "colab": {
          "base_uri": "https://localhost:8080/"
        },
        "id": "_il0bIge2PT3",
        "outputId": "17e30e5f-40f2-42c5-d6e9-d4c77e519262"
      },
      "execution_count": 6,
      "outputs": [
        {
          "output_type": "stream",
          "name": "stdout",
          "text": [
            "[[ 4  9  9]\n",
            " [ 4  8  2]\n",
            " [21 27 24]\n",
            " [26 25 22]]\n",
            "[[ 4  9  9 21 27 24]\n",
            " [ 4  8  2 26 25 22]]\n"
          ]
        }
      ]
    },
    {
      "cell_type": "code",
      "source": [
        "# error\n",
        "\n",
        "# row wise concetanate korar shomoi column same thakbe\n",
        "# col wise concat korar shomoi row ta same thakte hobe\n",
        "\n",
        "x = np.random.randint(1 ,10 , size =(2,3))\n",
        "y = np.random.randint(1 ,10 , size =(1,3))\n",
        "\n",
        "r = np.concatenate((x,y),axis =0 )\n",
        "r = np.concatenate((x,y),axis =1 )\n",
        "print(r)"
      ],
      "metadata": {
        "colab": {
          "base_uri": "https://localhost:8080/",
          "height": 211
        },
        "id": "VNHzgiXi2V3_",
        "outputId": "c23a65bc-3362-469c-9bf5-1d080502aef5"
      },
      "execution_count": 7,
      "outputs": [
        {
          "output_type": "error",
          "ename": "ValueError",
          "evalue": "all the input array dimensions except for the concatenation axis must match exactly, but along dimension 0, the array at index 0 has size 2 and the array at index 1 has size 1",
          "traceback": [
            "\u001b[0;31m---------------------------------------------------------------------------\u001b[0m",
            "\u001b[0;31mValueError\u001b[0m                                Traceback (most recent call last)",
            "\u001b[0;32m/tmp/ipython-input-232082735.py\u001b[0m in \u001b[0;36m<cell line: 0>\u001b[0;34m()\u001b[0m\n\u001b[1;32m      8\u001b[0m \u001b[0;34m\u001b[0m\u001b[0m\n\u001b[1;32m      9\u001b[0m \u001b[0mr\u001b[0m \u001b[0;34m=\u001b[0m \u001b[0mnp\u001b[0m\u001b[0;34m.\u001b[0m\u001b[0mconcatenate\u001b[0m\u001b[0;34m(\u001b[0m\u001b[0;34m(\u001b[0m\u001b[0mx\u001b[0m\u001b[0;34m,\u001b[0m\u001b[0my\u001b[0m\u001b[0;34m)\u001b[0m\u001b[0;34m,\u001b[0m\u001b[0maxis\u001b[0m \u001b[0;34m=\u001b[0m\u001b[0;36m0\u001b[0m \u001b[0;34m)\u001b[0m\u001b[0;34m\u001b[0m\u001b[0;34m\u001b[0m\u001b[0m\n\u001b[0;32m---> 10\u001b[0;31m \u001b[0mr\u001b[0m \u001b[0;34m=\u001b[0m \u001b[0mnp\u001b[0m\u001b[0;34m.\u001b[0m\u001b[0mconcatenate\u001b[0m\u001b[0;34m(\u001b[0m\u001b[0;34m(\u001b[0m\u001b[0mx\u001b[0m\u001b[0;34m,\u001b[0m\u001b[0my\u001b[0m\u001b[0;34m)\u001b[0m\u001b[0;34m,\u001b[0m\u001b[0maxis\u001b[0m \u001b[0;34m=\u001b[0m\u001b[0;36m1\u001b[0m \u001b[0;34m)\u001b[0m\u001b[0;34m\u001b[0m\u001b[0;34m\u001b[0m\u001b[0m\n\u001b[0m\u001b[1;32m     11\u001b[0m \u001b[0mprint\u001b[0m\u001b[0;34m(\u001b[0m\u001b[0mr\u001b[0m\u001b[0;34m)\u001b[0m\u001b[0;34m\u001b[0m\u001b[0;34m\u001b[0m\u001b[0m\n",
            "\u001b[0;31mValueError\u001b[0m: all the input array dimensions except for the concatenation axis must match exactly, but along dimension 0, the array at index 0 has size 2 and the array at index 1 has size 1"
          ]
        }
      ]
    },
    {
      "cell_type": "markdown",
      "source": [
        "**transpose**"
      ],
      "metadata": {
        "id": "kFsQCSZ53FsY"
      }
    },
    {
      "cell_type": "code",
      "source": [
        "# transpose\n",
        "\n",
        "mat = np.array([[10,20,30],\n",
        "                [30,40,50]\n",
        "               ])\n",
        "\n",
        "\n",
        "transpose = mat.T\n",
        "\n",
        "print(transpose)"
      ],
      "metadata": {
        "colab": {
          "base_uri": "https://localhost:8080/"
        },
        "id": "iDVnGQ0M3DPp",
        "outputId": "c40c73d5-d569-4f06-dd5a-ca107860baea"
      },
      "execution_count": 10,
      "outputs": [
        {
          "output_type": "stream",
          "name": "stdout",
          "text": [
            "[[10 30]\n",
            " [20 40]\n",
            " [30 50]]\n"
          ]
        }
      ]
    },
    {
      "cell_type": "markdown",
      "source": [
        "**array split**"
      ],
      "metadata": {
        "id": "YZHKZZp13RGp"
      }
    },
    {
      "cell_type": "code",
      "source": [
        "# array split\n",
        "\n",
        "a = np.random.randint(1 ,10 , size =(10,))\n",
        "print(a)\n",
        "splitted_array = np.array_split(a,3)\n",
        "\n",
        "print(splitted_array)\n",
        "\n",
        "# split -> equal division\n",
        "splitted_array = np.split(a,3)"
      ],
      "metadata": {
        "colab": {
          "base_uri": "https://localhost:8080/",
          "height": 332
        },
        "id": "GYDVSsWW3EvP",
        "outputId": "c5b26c57-3f2b-4c88-e998-65344e54e8c4"
      },
      "execution_count": 11,
      "outputs": [
        {
          "output_type": "stream",
          "name": "stdout",
          "text": [
            "[5 6 1 6 5 1 4 2 7 1]\n",
            "[array([5, 6, 1, 6]), array([5, 1, 4]), array([2, 7, 1])]\n"
          ]
        },
        {
          "output_type": "error",
          "ename": "ValueError",
          "evalue": "array split does not result in an equal division",
          "traceback": [
            "\u001b[0;31m---------------------------------------------------------------------------\u001b[0m",
            "\u001b[0;31mValueError\u001b[0m                                Traceback (most recent call last)",
            "\u001b[0;32m/tmp/ipython-input-751097639.py\u001b[0m in \u001b[0;36m<cell line: 0>\u001b[0;34m()\u001b[0m\n\u001b[1;32m      8\u001b[0m \u001b[0;34m\u001b[0m\u001b[0m\n\u001b[1;32m      9\u001b[0m \u001b[0;31m# split -> equal division\u001b[0m\u001b[0;34m\u001b[0m\u001b[0;34m\u001b[0m\u001b[0m\n\u001b[0;32m---> 10\u001b[0;31m \u001b[0msplitted_array\u001b[0m \u001b[0;34m=\u001b[0m \u001b[0mnp\u001b[0m\u001b[0;34m.\u001b[0m\u001b[0msplit\u001b[0m\u001b[0;34m(\u001b[0m\u001b[0ma\u001b[0m\u001b[0;34m,\u001b[0m\u001b[0;36m3\u001b[0m\u001b[0;34m)\u001b[0m\u001b[0;34m\u001b[0m\u001b[0;34m\u001b[0m\u001b[0m\n\u001b[0m",
            "\u001b[0;32m/usr/local/lib/python3.12/dist-packages/numpy/lib/_shape_base_impl.py\u001b[0m in \u001b[0;36msplit\u001b[0;34m(ary, indices_or_sections, axis)\u001b[0m\n\u001b[1;32m    872\u001b[0m         \u001b[0mN\u001b[0m \u001b[0;34m=\u001b[0m \u001b[0mary\u001b[0m\u001b[0;34m.\u001b[0m\u001b[0mshape\u001b[0m\u001b[0;34m[\u001b[0m\u001b[0maxis\u001b[0m\u001b[0;34m]\u001b[0m\u001b[0;34m\u001b[0m\u001b[0;34m\u001b[0m\u001b[0m\n\u001b[1;32m    873\u001b[0m         \u001b[0;32mif\u001b[0m \u001b[0mN\u001b[0m \u001b[0;34m%\u001b[0m \u001b[0msections\u001b[0m\u001b[0;34m:\u001b[0m\u001b[0;34m\u001b[0m\u001b[0;34m\u001b[0m\u001b[0m\n\u001b[0;32m--> 874\u001b[0;31m             raise ValueError(\n\u001b[0m\u001b[1;32m    875\u001b[0m                 'array split does not result in an equal division') from None\n\u001b[1;32m    876\u001b[0m     \u001b[0;32mreturn\u001b[0m \u001b[0marray_split\u001b[0m\u001b[0;34m(\u001b[0m\u001b[0mary\u001b[0m\u001b[0;34m,\u001b[0m \u001b[0mindices_or_sections\u001b[0m\u001b[0;34m,\u001b[0m \u001b[0maxis\u001b[0m\u001b[0;34m)\u001b[0m\u001b[0;34m\u001b[0m\u001b[0;34m\u001b[0m\u001b[0m\n",
            "\u001b[0;31mValueError\u001b[0m: array split does not result in an equal division"
          ]
        }
      ]
    },
    {
      "cell_type": "markdown",
      "source": [
        "#arithmetic operator and mathematical functions"
      ],
      "metadata": {
        "id": "tZeAqypl55jL"
      }
    },
    {
      "cell_type": "code",
      "source": [
        "# faster for vectorization\n",
        "\n",
        "x = np.array([ 10 , 8 , 30 , 100 ])\n",
        "y = np.array([ 2 , 3 ,4  ,5 ])\n",
        "\n",
        "add = np.add(x,y)\n",
        "print(add)\n",
        "\n",
        "sub = x-y\n",
        "print(sub)\n",
        "\n",
        "mul = x*y\n",
        "print(mul)\n",
        "\n",
        "div = x/y\n",
        "print(div)\n",
        "\n",
        "remainder = x % y\n",
        "\n",
        "print(remainder)"
      ],
      "metadata": {
        "colab": {
          "base_uri": "https://localhost:8080/"
        },
        "id": "lUjXK1WN58LE",
        "outputId": "eefb3837-425b-4cc8-e6a8-ca0c4a773251"
      },
      "execution_count": 12,
      "outputs": [
        {
          "output_type": "stream",
          "name": "stdout",
          "text": [
            "[ 12  11  34 105]\n",
            "[ 8  5 26 95]\n",
            "[ 20  24 120 500]\n",
            "[ 5.          2.66666667  7.5        20.        ]\n",
            "[0 2 2 0]\n"
          ]
        }
      ]
    },
    {
      "cell_type": "code",
      "source": [
        "# mathematical function\n",
        "\n",
        "# trigonometry\n",
        "\n",
        "# sin , cos , tan takes values in radian\n",
        "\n",
        "sin_val = np.sin(x)\n",
        "print(sin_val)\n",
        "\n",
        "cos_val = np.cos(x)\n",
        "print(cos_val)\n",
        "\n",
        "deg_con = np.rad2deg(x)\n",
        "print(deg_con)\n",
        "\n",
        "# deg2rad"
      ],
      "metadata": {
        "colab": {
          "base_uri": "https://localhost:8080/"
        },
        "id": "i0VBZNYu7-it",
        "outputId": "4816a958-10e2-49d9-f69f-f15330d4f8a8"
      },
      "execution_count": 13,
      "outputs": [
        {
          "output_type": "stream",
          "name": "stdout",
          "text": [
            "[-0.54402111  0.98935825 -0.98803162 -0.50636564]\n",
            "[-0.83907153 -0.14550003  0.15425145  0.86231887]\n",
            "[ 572.95779513  458.3662361  1718.87338539 5729.57795131]\n"
          ]
        }
      ]
    },
    {
      "cell_type": "code",
      "source": [
        "#log\n",
        "\n",
        "x = np.array([ 10 , 8 , 16 , 100 ])\n",
        "base_10_log_val = np.log10(x)\n",
        "print(base_10_log_val)\n",
        "\n",
        "\n",
        "two_diye_bhag = np.log2(x)\n",
        "print(two_diye_bhag)\n",
        "\n",
        "sqrt= np.sqrt(x)\n",
        "print(sqrt)"
      ],
      "metadata": {
        "colab": {
          "base_uri": "https://localhost:8080/"
        },
        "id": "EsgHM0xA8Fw1",
        "outputId": "44500691-6cc5-4f16-8bec-a2b57964a7dd"
      },
      "execution_count": 14,
      "outputs": [
        {
          "output_type": "stream",
          "name": "stdout",
          "text": [
            "[1.         0.90308999 1.20411998 2.        ]\n",
            "[3.32192809 3.         4.         6.64385619]\n",
            "[ 3.16227766  2.82842712  4.         10.        ]\n"
          ]
        }
      ]
    },
    {
      "cell_type": "code",
      "source": [
        "# different\n",
        "s = np.sum(x)\n",
        "print(s)\n",
        "\n",
        "#prefix sum\n",
        "cumul =np.cumsum(x)\n",
        "print(cumul)"
      ],
      "metadata": {
        "colab": {
          "base_uri": "https://localhost:8080/"
        },
        "id": "r7G0Uvm08JCG",
        "outputId": "8bc9ee96-a14f-48ff-ebd3-ec9cfcd96733"
      },
      "execution_count": 16,
      "outputs": [
        {
          "output_type": "stream",
          "name": "stdout",
          "text": [
            "134\n",
            "[ 10  18  34 134]\n"
          ]
        }
      ]
    },
    {
      "cell_type": "code",
      "source": [
        "\n",
        "#broadcasting\n",
        "\n",
        "x = np.array([ 10 , 8 , 16 , 100 ])\n",
        "\n",
        "result = x + 2\n",
        "\n",
        "#rulings = columns er size and vector er size same hote hobe\n",
        "\n",
        "matrix = np.array([[10,20,30],\n",
        "                [30,40,50]\n",
        "               ])\n",
        "\n",
        "\n",
        "result = matrix + 2\n",
        "\n",
        "vector = np.array([1,2,3])\n",
        "result = matrix + vector\n",
        "print(result)\n"
      ],
      "metadata": {
        "colab": {
          "base_uri": "https://localhost:8080/"
        },
        "id": "OK8CzFUc8eD_",
        "outputId": "35865bd6-c43b-4596-f735-389dd3986ab0"
      },
      "execution_count": 17,
      "outputs": [
        {
          "output_type": "stream",
          "name": "stdout",
          "text": [
            "[[11 22 33]\n",
            " [31 42 53]]\n"
          ]
        }
      ]
    },
    {
      "cell_type": "markdown",
      "source": [
        "#Logical Function"
      ],
      "metadata": {
        "id": "41LjAObe9sJg"
      }
    },
    {
      "cell_type": "code",
      "source": [
        "# comparison - >,< , >= ,<= , == , !=\n",
        "\n",
        "x = np.array([ 10 , 8 , 16 , 100 ])\n",
        "y = np.array([ 2 , 3 ,16  ,5 ])\n",
        "\n",
        "greater_than = x>y\n",
        "\n",
        "print(greater_than)\n",
        "\n",
        "equal = x==y\n",
        "\n",
        "print(equal)\n",
        "\n",
        "# all () -> shob true kina\n",
        "# any() -> jekono ekta true ase kina\n",
        "\n",
        "print(np.all(greater_than))\n",
        "\n",
        "print(np.any(equal))"
      ],
      "metadata": {
        "colab": {
          "base_uri": "https://localhost:8080/"
        },
        "id": "uKNZuN-K9tpv",
        "outputId": "0673b2d7-4f61-48c9-f099-75c0e15c2728"
      },
      "execution_count": 18,
      "outputs": [
        {
          "output_type": "stream",
          "name": "stdout",
          "text": [
            "[ True  True False  True]\n",
            "[False False  True False]\n",
            "False\n",
            "True\n"
          ]
        }
      ]
    },
    {
      "cell_type": "markdown",
      "source": [
        "#Sorting"
      ],
      "metadata": {
        "id": "aaolm3xG971h"
      }
    },
    {
      "cell_type": "code",
      "source": [
        "#inplace--> change the main file\n",
        "x = np.array([ 10 , 8 , 16 , 100 ])\n",
        "\n",
        "z = x.copy()\n",
        "\n",
        "print(z)\n",
        "\n",
        "z.sort()\n",
        "\n",
        "print(z)"
      ],
      "metadata": {
        "colab": {
          "base_uri": "https://localhost:8080/"
        },
        "id": "bGjdV4mc99GX",
        "outputId": "f69f3712-d7ab-4175-f5b0-fc6c2b07234d"
      },
      "execution_count": 19,
      "outputs": [
        {
          "output_type": "stream",
          "name": "stdout",
          "text": [
            "[ 10   8  16 100]\n",
            "[  8  10  16 100]\n"
          ]
        }
      ]
    },
    {
      "cell_type": "code",
      "source": [
        "# copy sorting--> maiN FILE THIK THAKE\n",
        "print(x)\n",
        "sort_arr = np.sort(x)\n",
        "\n",
        "print(sort_arr)\n",
        "\n",
        "print(x)"
      ],
      "metadata": {
        "colab": {
          "base_uri": "https://localhost:8080/"
        },
        "id": "LCZ6lVwf-GiQ",
        "outputId": "127dfe7c-9962-4e5d-b8d8-072737361c74"
      },
      "execution_count": 20,
      "outputs": [
        {
          "output_type": "stream",
          "name": "stdout",
          "text": [
            "[ 10   8  16 100]\n",
            "[  8  10  16 100]\n",
            "[ 10   8  16 100]\n"
          ]
        }
      ]
    },
    {
      "cell_type": "code",
      "source": [
        "# 2d array sorting\n",
        "mat = np.array([[10,3,5],[8,4,9]])\n",
        "\n",
        "# horizon axis = 1\n",
        "\n",
        "hor_sort = np.sort(mat,axis=1)\n",
        "print(hor_sort)\n",
        "\n",
        "vert_sort = np.sort(mat,axis=0)\n",
        "print(vert_sort)"
      ],
      "metadata": {
        "colab": {
          "base_uri": "https://localhost:8080/"
        },
        "id": "dx-_9MvO-MZw",
        "outputId": "f3cfd20d-f024-4a3b-d8a6-d3a54ffbfb3d"
      },
      "execution_count": 21,
      "outputs": [
        {
          "output_type": "stream",
          "name": "stdout",
          "text": [
            "[[ 3  5 10]\n",
            " [ 4  8  9]]\n",
            "[[ 8  3  5]\n",
            " [10  4  9]]\n"
          ]
        }
      ]
    },
    {
      "cell_type": "markdown",
      "source": [
        "#Searching"
      ],
      "metadata": {
        "id": "Qa7qmjO0_F4J"
      }
    },
    {
      "cell_type": "code",
      "source": [
        "print(x)"
      ],
      "metadata": {
        "colab": {
          "base_uri": "https://localhost:8080/"
        },
        "id": "Ogfdh0ZM_HLA",
        "outputId": "6046364a-fe20-43f6-9543-030a5c34f7cd"
      },
      "execution_count": 22,
      "outputs": [
        {
          "output_type": "stream",
          "name": "stdout",
          "text": [
            "[ 10   8  16 100]\n"
          ]
        }
      ]
    },
    {
      "cell_type": "code",
      "source": [
        "# np.where( condition , x , y ) if true x , otherwise replace with y\n",
        "\n",
        "index = np.where(x==8) # returns index\n",
        "print(index)\n",
        "\n",
        "arr = np.where(x>8,x,0) # returns array\n",
        "print(arr)"
      ],
      "metadata": {
        "colab": {
          "base_uri": "https://localhost:8080/"
        },
        "id": "JkDmng3B_JUC",
        "outputId": "6f0da527-9ee9-41a2-d391-fbc9607b2060"
      },
      "execution_count": 23,
      "outputs": [
        {
          "output_type": "stream",
          "name": "stdout",
          "text": [
            "(array([1]),)\n",
            "[ 10   0  16 100]\n"
          ]
        }
      ]
    },
    {
      "cell_type": "code",
      "source": [
        "print(mat)"
      ],
      "metadata": {
        "colab": {
          "base_uri": "https://localhost:8080/"
        },
        "id": "71Sa6FnG_pN5",
        "outputId": "00e6e503-48ec-41d2-ca40-5f9e62d3a47c"
      },
      "execution_count": 24,
      "outputs": [
        {
          "output_type": "stream",
          "name": "stdout",
          "text": [
            "[[10  3  5]\n",
            " [ 8  4  9]]\n"
          ]
        }
      ]
    },
    {
      "cell_type": "code",
      "source": [
        "index = np.where(mat>8) # returns index\n",
        "print(index)\n",
        "\n",
        "arr = np.where(mat>8,mat,0) # returns array\n",
        "print(arr)"
      ],
      "metadata": {
        "colab": {
          "base_uri": "https://localhost:8080/"
        },
        "id": "9h8rxv4K_swB",
        "outputId": "607634e0-6a1b-4ee5-88fa-d6a01c680593"
      },
      "execution_count": 25,
      "outputs": [
        {
          "output_type": "stream",
          "name": "stdout",
          "text": [
            "(array([0, 1]), array([0, 2]))\n",
            "[[10  0  0]\n",
            " [ 0  0  9]]\n"
          ]
        }
      ]
    },
    {
      "cell_type": "code",
      "source": [
        "x = np.array([ 10,100 , 8 , 16 , 100 ])\n",
        "\n",
        "maximum_value_indx = np.argmax(x)\n",
        "minimum_value_indx = np.argmin(x)\n",
        "\n",
        "print(maximum_value_indx)\n",
        "print(minimum_value_indx)"
      ],
      "metadata": {
        "colab": {
          "base_uri": "https://localhost:8080/"
        },
        "id": "4rMmtuNX_yvq",
        "outputId": "1aa8e570-777b-4e97-e924-505f10f410f0"
      },
      "execution_count": 26,
      "outputs": [
        {
          "output_type": "stream",
          "name": "stdout",
          "text": [
            "1\n",
            "2\n"
          ]
        }
      ]
    },
    {
      "cell_type": "markdown",
      "source": [
        "#counting in ndarray"
      ],
      "metadata": {
        "id": "ZED_7O8UDEIR"
      }
    },
    {
      "cell_type": "code",
      "source": [
        "a = np.random.randint(1 ,100 , size =(100,))\n",
        "print(a)"
      ],
      "metadata": {
        "colab": {
          "base_uri": "https://localhost:8080/"
        },
        "id": "C8HBzsDtDFeQ",
        "outputId": "0ec54124-e160-4ff3-ede2-144aea62fdfb"
      },
      "execution_count": 27,
      "outputs": [
        {
          "output_type": "stream",
          "name": "stdout",
          "text": [
            "[84  8 75  5 23 89 51 52 35  8 56 30 91 70 44 47  5 49 89 73  6 63 36 46\n",
            " 43 29 98 19 73 18  1 77  6 80 91 69 68 42 99 60 70 73 79 37 67 90 71 63\n",
            " 79 83 49 34 93 38  6 47 84 49 84 25 92 91  4 17 28 96 93 15 22 26 98 49\n",
            " 98 49  3 35 93 99 17  8  7 27 31 41 13 62 34 23 96 69  5 68  1 29 75 80\n",
            " 76 57 65 47]\n"
          ]
        }
      ]
    },
    {
      "cell_type": "code",
      "source": [
        "value_great_than_60 = np.count_nonzero(a==97)\n",
        "print(value_great_than_60)"
      ],
      "metadata": {
        "colab": {
          "base_uri": "https://localhost:8080/"
        },
        "id": "wogMEaqnDNw4",
        "outputId": "914a8122-d7b2-4dd1-c99d-6f296004661a"
      },
      "execution_count": 28,
      "outputs": [
        {
          "output_type": "stream",
          "name": "stdout",
          "text": [
            "0\n"
          ]
        }
      ]
    },
    {
      "cell_type": "markdown",
      "source": [
        "#statistical function"
      ],
      "metadata": {
        "id": "0pBTcgaBD9Wq"
      }
    },
    {
      "cell_type": "code",
      "source": [
        "\n",
        "#data load\n",
        "\n",
        "data = np.genfromtxt('student_scores.csv' ,delimiter=',',skip_header=1)\n",
        "\n",
        "print(data)"
      ],
      "metadata": {
        "colab": {
          "base_uri": "https://localhost:8080/",
          "height": 356
        },
        "id": "httQ0ZSdFLcq",
        "outputId": "5fa08d2e-3bbc-4fab-f7a7-6df4ba1620e2"
      },
      "execution_count": 29,
      "outputs": [
        {
          "output_type": "error",
          "ename": "FileNotFoundError",
          "evalue": "student_scores.csv not found.",
          "traceback": [
            "\u001b[0;31m---------------------------------------------------------------------------\u001b[0m",
            "\u001b[0;31mFileNotFoundError\u001b[0m                         Traceback (most recent call last)",
            "\u001b[0;32m/tmp/ipython-input-954814536.py\u001b[0m in \u001b[0;36m<cell line: 0>\u001b[0;34m()\u001b[0m\n\u001b[1;32m      1\u001b[0m \u001b[0;31m#data load\u001b[0m\u001b[0;34m\u001b[0m\u001b[0;34m\u001b[0m\u001b[0m\n\u001b[1;32m      2\u001b[0m \u001b[0;34m\u001b[0m\u001b[0m\n\u001b[0;32m----> 3\u001b[0;31m \u001b[0mdata\u001b[0m \u001b[0;34m=\u001b[0m \u001b[0mnp\u001b[0m\u001b[0;34m.\u001b[0m\u001b[0mgenfromtxt\u001b[0m\u001b[0;34m(\u001b[0m\u001b[0;34m'student_scores.csv'\u001b[0m \u001b[0;34m,\u001b[0m\u001b[0mdelimiter\u001b[0m\u001b[0;34m=\u001b[0m\u001b[0;34m','\u001b[0m\u001b[0;34m,\u001b[0m\u001b[0mskip_header\u001b[0m\u001b[0;34m=\u001b[0m\u001b[0;36m1\u001b[0m\u001b[0;34m)\u001b[0m\u001b[0;34m\u001b[0m\u001b[0;34m\u001b[0m\u001b[0m\n\u001b[0m\u001b[1;32m      4\u001b[0m \u001b[0;34m\u001b[0m\u001b[0m\n\u001b[1;32m      5\u001b[0m \u001b[0mprint\u001b[0m\u001b[0;34m(\u001b[0m\u001b[0mdata\u001b[0m\u001b[0;34m)\u001b[0m\u001b[0;34m\u001b[0m\u001b[0;34m\u001b[0m\u001b[0m\n",
            "\u001b[0;32m/usr/local/lib/python3.12/dist-packages/numpy/lib/_npyio_impl.py\u001b[0m in \u001b[0;36mgenfromtxt\u001b[0;34m(fname, dtype, comments, delimiter, skip_header, skip_footer, converters, missing_values, filling_values, usecols, names, excludelist, deletechars, replace_space, autostrip, case_sensitive, defaultfmt, unpack, usemask, loose, invalid_raise, max_rows, encoding, ndmin, like)\u001b[0m\n\u001b[1;32m   1987\u001b[0m         \u001b[0mfname\u001b[0m \u001b[0;34m=\u001b[0m \u001b[0mos\u001b[0m\u001b[0;34m.\u001b[0m\u001b[0mfspath\u001b[0m\u001b[0;34m(\u001b[0m\u001b[0mfname\u001b[0m\u001b[0;34m)\u001b[0m\u001b[0;34m\u001b[0m\u001b[0;34m\u001b[0m\u001b[0m\n\u001b[1;32m   1988\u001b[0m     \u001b[0;32mif\u001b[0m \u001b[0misinstance\u001b[0m\u001b[0;34m(\u001b[0m\u001b[0mfname\u001b[0m\u001b[0;34m,\u001b[0m \u001b[0mstr\u001b[0m\u001b[0;34m)\u001b[0m\u001b[0;34m:\u001b[0m\u001b[0;34m\u001b[0m\u001b[0;34m\u001b[0m\u001b[0m\n\u001b[0;32m-> 1989\u001b[0;31m         \u001b[0mfid\u001b[0m \u001b[0;34m=\u001b[0m \u001b[0mnp\u001b[0m\u001b[0;34m.\u001b[0m\u001b[0mlib\u001b[0m\u001b[0;34m.\u001b[0m\u001b[0m_datasource\u001b[0m\u001b[0;34m.\u001b[0m\u001b[0mopen\u001b[0m\u001b[0;34m(\u001b[0m\u001b[0mfname\u001b[0m\u001b[0;34m,\u001b[0m \u001b[0;34m'rt'\u001b[0m\u001b[0;34m,\u001b[0m \u001b[0mencoding\u001b[0m\u001b[0;34m=\u001b[0m\u001b[0mencoding\u001b[0m\u001b[0;34m)\u001b[0m\u001b[0;34m\u001b[0m\u001b[0;34m\u001b[0m\u001b[0m\n\u001b[0m\u001b[1;32m   1990\u001b[0m         \u001b[0mfid_ctx\u001b[0m \u001b[0;34m=\u001b[0m \u001b[0mcontextlib\u001b[0m\u001b[0;34m.\u001b[0m\u001b[0mclosing\u001b[0m\u001b[0;34m(\u001b[0m\u001b[0mfid\u001b[0m\u001b[0;34m)\u001b[0m\u001b[0;34m\u001b[0m\u001b[0;34m\u001b[0m\u001b[0m\n\u001b[1;32m   1991\u001b[0m     \u001b[0;32melse\u001b[0m\u001b[0;34m:\u001b[0m\u001b[0;34m\u001b[0m\u001b[0;34m\u001b[0m\u001b[0m\n",
            "\u001b[0;32m/usr/local/lib/python3.12/dist-packages/numpy/lib/_datasource.py\u001b[0m in \u001b[0;36mopen\u001b[0;34m(path, mode, destpath, encoding, newline)\u001b[0m\n\u001b[1;32m    190\u001b[0m \u001b[0;34m\u001b[0m\u001b[0m\n\u001b[1;32m    191\u001b[0m     \u001b[0mds\u001b[0m \u001b[0;34m=\u001b[0m \u001b[0mDataSource\u001b[0m\u001b[0;34m(\u001b[0m\u001b[0mdestpath\u001b[0m\u001b[0;34m)\u001b[0m\u001b[0;34m\u001b[0m\u001b[0;34m\u001b[0m\u001b[0m\n\u001b[0;32m--> 192\u001b[0;31m     \u001b[0;32mreturn\u001b[0m \u001b[0mds\u001b[0m\u001b[0;34m.\u001b[0m\u001b[0mopen\u001b[0m\u001b[0;34m(\u001b[0m\u001b[0mpath\u001b[0m\u001b[0;34m,\u001b[0m \u001b[0mmode\u001b[0m\u001b[0;34m,\u001b[0m \u001b[0mencoding\u001b[0m\u001b[0;34m=\u001b[0m\u001b[0mencoding\u001b[0m\u001b[0;34m,\u001b[0m \u001b[0mnewline\u001b[0m\u001b[0;34m=\u001b[0m\u001b[0mnewline\u001b[0m\u001b[0;34m)\u001b[0m\u001b[0;34m\u001b[0m\u001b[0;34m\u001b[0m\u001b[0m\n\u001b[0m\u001b[1;32m    193\u001b[0m \u001b[0;34m\u001b[0m\u001b[0m\n\u001b[1;32m    194\u001b[0m \u001b[0;34m\u001b[0m\u001b[0m\n",
            "\u001b[0;32m/usr/local/lib/python3.12/dist-packages/numpy/lib/_datasource.py\u001b[0m in \u001b[0;36mopen\u001b[0;34m(self, path, mode, encoding, newline)\u001b[0m\n\u001b[1;32m    530\u001b[0m                                       encoding=encoding, newline=newline)\n\u001b[1;32m    531\u001b[0m         \u001b[0;32melse\u001b[0m\u001b[0;34m:\u001b[0m\u001b[0;34m\u001b[0m\u001b[0;34m\u001b[0m\u001b[0m\n\u001b[0;32m--> 532\u001b[0;31m             \u001b[0;32mraise\u001b[0m \u001b[0mFileNotFoundError\u001b[0m\u001b[0;34m(\u001b[0m\u001b[0;34mf\"{path} not found.\"\u001b[0m\u001b[0;34m)\u001b[0m\u001b[0;34m\u001b[0m\u001b[0;34m\u001b[0m\u001b[0m\n\u001b[0m\u001b[1;32m    533\u001b[0m \u001b[0;34m\u001b[0m\u001b[0m\n\u001b[1;32m    534\u001b[0m \u001b[0;34m\u001b[0m\u001b[0m\n",
            "\u001b[0;31mFileNotFoundError\u001b[0m: student_scores.csv not found."
          ]
        }
      ]
    },
    {
      "cell_type": "code",
      "source": [
        "# statistics\n",
        "math_marks = data[::,:1]\n",
        "\n",
        "print(math_marks.T)\n",
        "\n",
        "max_math_marks = np.max(math_marks)\n",
        "print(max_math_marks)\n",
        "\n",
        "min_math_marks = np.min(math_marks)\n",
        "print(min_math_marks)\n",
        "\n",
        "average_math_marks = np.mean(math_marks)\n",
        "print(average_math_marks)\n",
        "\n",
        "median_math_marks = np.median(math_marks)\n",
        "print(median_math_marks)\n",
        "\n",
        "# standard deviation\n",
        "\n",
        "std_math_marks = np.std(math_marks)\n",
        "print(std_math_marks)"
      ],
      "metadata": {
        "colab": {
          "base_uri": "https://localhost:8080/",
          "height": 211
        },
        "id": "KaaaUJajG_uF",
        "outputId": "5d6ff07b-691b-4dc3-d240-9b220ca4fa5a"
      },
      "execution_count": 30,
      "outputs": [
        {
          "output_type": "error",
          "ename": "NameError",
          "evalue": "name 'data' is not defined",
          "traceback": [
            "\u001b[0;31m---------------------------------------------------------------------------\u001b[0m",
            "\u001b[0;31mNameError\u001b[0m                                 Traceback (most recent call last)",
            "\u001b[0;32m/tmp/ipython-input-1341911781.py\u001b[0m in \u001b[0;36m<cell line: 0>\u001b[0;34m()\u001b[0m\n\u001b[1;32m      1\u001b[0m \u001b[0;31m# statistics\u001b[0m\u001b[0;34m\u001b[0m\u001b[0;34m\u001b[0m\u001b[0m\n\u001b[0;32m----> 2\u001b[0;31m \u001b[0mmath_marks\u001b[0m \u001b[0;34m=\u001b[0m \u001b[0mdata\u001b[0m\u001b[0;34m[\u001b[0m\u001b[0;34m:\u001b[0m\u001b[0;34m:\u001b[0m\u001b[0;34m,\u001b[0m\u001b[0;34m:\u001b[0m\u001b[0;36m1\u001b[0m\u001b[0;34m]\u001b[0m\u001b[0;34m\u001b[0m\u001b[0;34m\u001b[0m\u001b[0m\n\u001b[0m\u001b[1;32m      3\u001b[0m \u001b[0;34m\u001b[0m\u001b[0m\n\u001b[1;32m      4\u001b[0m \u001b[0mprint\u001b[0m\u001b[0;34m(\u001b[0m\u001b[0mmath_marks\u001b[0m\u001b[0;34m.\u001b[0m\u001b[0mT\u001b[0m\u001b[0;34m)\u001b[0m\u001b[0;34m\u001b[0m\u001b[0;34m\u001b[0m\u001b[0m\n\u001b[1;32m      5\u001b[0m \u001b[0;34m\u001b[0m\u001b[0m\n",
            "\u001b[0;31mNameError\u001b[0m: name 'data' is not defined"
          ]
        }
      ]
    },
    {
      "cell_type": "code",
      "source": [
        "study_hours = np.array([2, 4, 5, 7, 8])\n",
        "exam_scores = np.array([65, 75, 78, 88, 92])\n",
        "\n",
        "data = np.array([study_hours, exam_scores])\n",
        "\n",
        "correlation = np.corrcoef(data)\n",
        "\n",
        "print(\"Correlation Matrix:\\n\", correlation)"
      ],
      "metadata": {
        "colab": {
          "base_uri": "https://localhost:8080/"
        },
        "id": "snNf5tiPIjkX",
        "outputId": "dff5846a-7d21-4867-bc5a-308ebac7d9a1"
      },
      "execution_count": 31,
      "outputs": [
        {
          "output_type": "stream",
          "name": "stdout",
          "text": [
            "Correlation Matrix:\n",
            " [[1.         0.99859154]\n",
            " [0.99859154 1.        ]]\n"
          ]
        }
      ]
    },
    {
      "cell_type": "markdown",
      "source": [
        "#linear algebra"
      ],
      "metadata": {
        "id": "YdBxx1RwKEen"
      }
    },
    {
      "cell_type": "code",
      "source": [
        "A = np.array([\n",
        "    [1, 2, 3],\n",
        "    [4, 5, 6]\n",
        "])\n",
        "\n",
        "B = np.array([\n",
        "    [7, 8],\n",
        "    [9, 10],\n",
        "    [11, 12]\n",
        "])\n",
        "\n",
        "# a er column and b er row same length hote hobe\n",
        "dot_product = np.dot(A,B)\n",
        "print(dot_product)\n",
        "\n",
        "\n",
        "# trace\n",
        "print(np.trace(B))"
      ],
      "metadata": {
        "colab": {
          "base_uri": "https://localhost:8080/"
        },
        "id": "shvt0pT0KDEo",
        "outputId": "c1ee676c-b9c5-4df5-ac5b-5e0cebc61ba4"
      },
      "execution_count": 32,
      "outputs": [
        {
          "output_type": "stream",
          "name": "stdout",
          "text": [
            "[[ 58  64]\n",
            " [139 154]]\n",
            "17\n"
          ]
        }
      ]
    },
    {
      "cell_type": "code",
      "source": [
        "sq_mat = np.array([[1,2,3],\n",
        "          [4,5,6],\n",
        "          [7,8,9]\n",
        "         ])\n",
        "\n",
        "det_of_sq = np.linalg.det(sq_mat)\n",
        "\n",
        "rank_sq = np.linalg.matrix_rank(sq_mat)\n",
        "\n",
        "print(det_of_sq)\n",
        "\n",
        "print(rank_sq)"
      ],
      "metadata": {
        "colab": {
          "base_uri": "https://localhost:8080/"
        },
        "id": "UdSM_CiHKLTp",
        "outputId": "9ae9ed0d-58ea-4e60-eeec-9235529c97d9"
      },
      "execution_count": 33,
      "outputs": [
        {
          "output_type": "stream",
          "name": "stdout",
          "text": [
            "0.0\n",
            "2\n"
          ]
        }
      ]
    },
    {
      "cell_type": "code",
      "source": [
        "A = np.array([[1, 2], [3, 4]])\n",
        "B = np.array([[5, 6], [7, 8]])\n",
        "\n",
        "print(np.dot(A,B))"
      ],
      "metadata": {
        "colab": {
          "base_uri": "https://localhost:8080/"
        },
        "id": "vuj_0GOhKNz5",
        "outputId": "697f8266-110c-4759-9fb8-87d408d5d949"
      },
      "execution_count": 34,
      "outputs": [
        {
          "output_type": "stream",
          "name": "stdout",
          "text": [
            "[[19 22]\n",
            " [43 50]]\n"
          ]
        }
      ]
    },
    {
      "cell_type": "markdown",
      "source": [
        "#Problem in Module"
      ],
      "metadata": {
        "id": "owVda0aUp-gj"
      }
    },
    {
      "cell_type": "code",
      "source": [
        "#https://www.deep-ml.com/problems/4\n",
        "import numpy as np\n",
        "def calculate_matrix_mean(matrix: list[list[float]], mode: str) -> list[float]:\n",
        "    mat =np.array(matrix)\n",
        "    if mode==\"row\":\n",
        "        means=np.mean(mat,axis=1).tolist()\n",
        "    else:\n",
        "        means=np.mean(mat,axis=0).tolist()\n",
        "\n",
        "\treturn means"
      ],
      "metadata": {
        "id": "KtHprnlqqDy0"
      },
      "execution_count": null,
      "outputs": []
    },
    {
      "cell_type": "code",
      "source": [
        "#https://www.deep-ml.com/problems/1\n",
        "\n",
        "import numpy as np\n",
        "def matrix_dot_vector(a: list[list[int|float]], b: list[int|float]) -> list[int|float]:\n",
        "\t# Return a list where each element is the dot product of a row of 'a' with 'b'.\n",
        "\t# If the number of columns in 'a' does not match the length of 'b', return -1.\n",
        "    a=np.array(a)\n",
        "    b=np.array(b)\n",
        "    shape_a=a.shape\n",
        "    if shape_a[1]!=b.size:\n",
        "        return -1\n",
        "\n",
        "    dot=np.dot(a,b).tolist()\n",
        "    return dot\n",
        "\tpass"
      ],
      "metadata": {
        "id": "vkwgAK6qqWrU"
      },
      "execution_count": 35,
      "outputs": []
    },
    {
      "cell_type": "markdown",
      "source": [
        "#quiz explaination"
      ],
      "metadata": {
        "id": "pyDGV_NxrlEl"
      }
    },
    {
      "cell_type": "markdown",
      "source": [
        "https://docs.google.com/document/d/13InSqgBr0Fys1SGQ7Ynxbf3FCcPUaf4bsQ_U_vIyjJU/edit?tab=t.0"
      ],
      "metadata": {
        "id": "_eDNez-_rn01"
      }
    },
    {
      "cell_type": "markdown",
      "source": [
        "#Practice Problem\n",
        "\n"
      ],
      "metadata": {
        "id": "jmJ_cj3Groz9"
      }
    },
    {
      "cell_type": "markdown",
      "source": [
        "https://docs.google.com/document/d/1s2boyWYFGibJX2UmILiWjn-zj0qbkKktNN9kmahlNMQ/edit?tab=t.0"
      ],
      "metadata": {
        "id": "zyGncN4Lr1et"
      }
    },
    {
      "cell_type": "code",
      "source": [
        "import numpy as np\n",
        "def transpose_matrix(a: list[list[int|float]]) -> list[list[int|float]]:\n",
        "    a=np.array(a)\n",
        "    b=a.T\n",
        "\treturn b"
      ],
      "metadata": {
        "id": "RrKAEuNYr7qd"
      },
      "execution_count": null,
      "outputs": []
    }
  ]
}