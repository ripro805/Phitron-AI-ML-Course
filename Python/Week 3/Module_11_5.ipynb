{
  "nbformat": 4,
  "nbformat_minor": 0,
  "metadata": {
    "colab": {
      "provenance": []
    },
    "kernelspec": {
      "name": "python3",
      "display_name": "Python 3"
    },
    "language_info": {
      "name": "python"
    }
  },
  "cells": [
    {
      "cell_type": "markdown",
      "source": [
        "https://docs.google.com/document/d/1rDFpf61GTPv-lzxGsA5jyRgbBnsEJOt9xJlXQBQhh54/edit?tab=t.0"
      ],
      "metadata": {
        "id": "Gkt9Jsz3chg0"
      }
    },
    {
      "cell_type": "code",
      "source": [
        "import numpy as np"
      ],
      "metadata": {
        "id": "QDi-gl2Yc1F6"
      },
      "execution_count": 4,
      "outputs": []
    },
    {
      "cell_type": "code",
      "execution_count": 6,
      "metadata": {
        "colab": {
          "base_uri": "https://localhost:8080/"
        },
        "id": "J6MCPnfeceIZ",
        "outputId": "68f06c2c-f5d4-4788-9a98-bf47a8f5fe93"
      },
      "outputs": [
        {
          "output_type": "stream",
          "name": "stdout",
          "text": [
            "1\n",
            "2\n",
            "3\n",
            "(4,)\n",
            "(2, 4)\n",
            "(2, 2, 4)\n"
          ]
        }
      ],
      "source": [
        "#1\n",
        "one_d=np.array([1,2,3,4])\n",
        "\n",
        "two_d=np.array([[1,2,3,4],\n",
        "                [5,6,7,8]])\n",
        "\n",
        "three_d=np.array([[[1,2,3,4],\n",
        "                   [5,6,7,8]],\n",
        "\n",
        "                  [[9,10,11,12],\n",
        "                   [13,14,15,16]]])\n",
        "print(one_d.ndim)\n",
        "print(two_d.ndim)\n",
        "print(three_d.ndim)\n",
        "\n",
        "print(one_d.shape)\n",
        "print(two_d.shape)\n",
        "print(three_d.shape)"
      ]
    },
    {
      "cell_type": "code",
      "source": [
        "#2\n",
        "z=np.zeros((3,3))\n",
        "o=np.ones((2,5))\n",
        "f=np.full(5,7)\n",
        "print(z)\n",
        "print(o)\n",
        "print(f)"
      ],
      "metadata": {
        "colab": {
          "base_uri": "https://localhost:8080/"
        },
        "id": "dWXEZNJdd5ks",
        "outputId": "7613a053-9198-49b1-be7b-1ad15a367911"
      },
      "execution_count": 10,
      "outputs": [
        {
          "output_type": "stream",
          "name": "stdout",
          "text": [
            "[[0. 0. 0.]\n",
            " [0. 0. 0.]\n",
            " [0. 0. 0.]]\n",
            "[[1. 1. 1. 1. 1.]\n",
            " [1. 1. 1. 1. 1.]]\n",
            "[7 7 7 7 7]\n"
          ]
        }
      ]
    },
    {
      "cell_type": "code",
      "source": [
        "#3\n",
        "evn=np.arange(10,50,2)\n",
        "evn"
      ],
      "metadata": {
        "colab": {
          "base_uri": "https://localhost:8080/"
        },
        "id": "WJ8356Mdej9L",
        "outputId": "838f0c04-519f-47e0-c981-c2d725a6755b"
      },
      "execution_count": 11,
      "outputs": [
        {
          "output_type": "execute_result",
          "data": {
            "text/plain": [
              "array([10, 12, 14, 16, 18, 20, 22, 24, 26, 28, 30, 32, 34, 36, 38, 40, 42,\n",
              "       44, 46, 48])"
            ]
          },
          "metadata": {},
          "execution_count": 11
        }
      ]
    },
    {
      "cell_type": "code",
      "source": [
        "#4\n",
        "arr=np.arange(0,16).reshape(4,4)\n",
        "f_r=arr[:1,:]\n",
        "l_c=arr[:,3:]\n",
        "cen=arr[1:3,1:3]\n",
        "print(f_r)\n",
        "print(l_c)\n",
        "print(cen)"
      ],
      "metadata": {
        "colab": {
          "base_uri": "https://localhost:8080/"
        },
        "id": "rZLKei72exGT",
        "outputId": "fb637c98-8609-465b-b618-d875a70fbeb9"
      },
      "execution_count": 23,
      "outputs": [
        {
          "output_type": "stream",
          "name": "stdout",
          "text": [
            "[[0 1 2 3]]\n",
            "[[ 3]\n",
            " [ 7]\n",
            " [11]\n",
            " [15]]\n",
            "[[ 5  6]\n",
            " [ 9 10]]\n"
          ]
        }
      ]
    },
    {
      "cell_type": "code",
      "source": [
        "#5\n",
        "arr1=np.random.randint(1,10,9).reshape(3,3)\n",
        "arr2=np.array([1,2,3])\n",
        "print(arr1)\n",
        "print(arr1+arr2)\n"
      ],
      "metadata": {
        "colab": {
          "base_uri": "https://localhost:8080/"
        },
        "id": "nsPqp6p9gg4N",
        "outputId": "d10cb772-8a7e-45ac-ca88-056e56dd6adb"
      },
      "execution_count": 25,
      "outputs": [
        {
          "output_type": "stream",
          "name": "stdout",
          "text": [
            "[[2 2 3]\n",
            " [4 9 2]\n",
            " [9 5 5]]\n",
            "[[ 3  4  6]\n",
            " [ 5 11  5]\n",
            " [10  7  8]]\n"
          ]
        }
      ]
    },
    {
      "cell_type": "code",
      "source": [
        "#6\n",
        "a=np.random.randint(1,10,9).reshape(3,3)\n",
        "b=np.random.randint(11,20,9).reshape(3,3)\n",
        "print((a+b)/2)\n",
        "print(a**2+b**2)"
      ],
      "metadata": {
        "colab": {
          "base_uri": "https://localhost:8080/"
        },
        "id": "w9vuPzm_g9MM",
        "outputId": "be3cc0fc-e5c4-4cbb-e0e7-6f32027f5b62"
      },
      "execution_count": 26,
      "outputs": [
        {
          "output_type": "stream",
          "name": "stdout",
          "text": [
            "[[10.5 10.  10. ]\n",
            " [10.  12.   8.5]\n",
            " [10.5 10.   8.5]]\n",
            "[[225 362 328]\n",
            " [298 306 185]\n",
            " [225 298 257]]\n"
          ]
        }
      ]
    }
  ]
}