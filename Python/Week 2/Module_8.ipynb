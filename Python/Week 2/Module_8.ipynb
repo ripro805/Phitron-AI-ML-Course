{
  "nbformat": 4,
  "nbformat_minor": 0,
  "metadata": {
    "colab": {
      "provenance": []
    },
    "kernelspec": {
      "name": "python3",
      "display_name": "Python 3"
    },
    "language_info": {
      "name": "python"
    }
  },
  "cells": [
    {
      "cell_type": "markdown",
      "source": [
        "#Class and Objects"
      ],
      "metadata": {
        "id": "xN3bA0fvXdlY"
      }
    },
    {
      "cell_type": "code",
      "execution_count": 39,
      "metadata": {
        "id": "62CXHSxzBJyW"
      },
      "outputs": [],
      "source": [
        "class Phone :\n",
        "  category=\"Electronics\"\n",
        "  #constructor\n",
        "  def __init__(self, model,battery,camera,battery_percentage=100):\n",
        "    self.model=model\n",
        "    self.battery=battery\n",
        "    self.camera=camera\n",
        "    self.battery_percentage=battery_percentage\n",
        "    #methods\n",
        "  def charge(self,hour):\n",
        "    self.battery_percentage+=hour\n",
        "    print(f\"charge completed by {hour}\")\n",
        "\n",
        "  def capture(self,photo):\n",
        "    if(self.battery_percentage<=0):\n",
        "      print(\"No photo captured\")\n",
        "    else:\n",
        "      self.battery_percentage-=photo\n",
        "      print(f\"Photo Captured in {self.model}\")\n",
        "class cooling_Mechanism:\n",
        "  def __init__(self,cooling_method):\n",
        "    self.cooling_method=cooling_method\n",
        "\n",
        "  #methods\n",
        "  def cooling_on(self):\n",
        "    print(f\"the system is cool by the {self.cooling_method}\")\n",
        "\n"
      ]
    },
    {
      "cell_type": "markdown",
      "source": [
        "**class attribute**"
      ],
      "metadata": {
        "id": "K7xIUaHfpmZN"
      }
    },
    {
      "cell_type": "code",
      "source": [
        "# creating object\n",
        "apple=Phone()\n",
        "apple.category=\"Super Electronics\"\n",
        "blueberry=Phone()\n",
        "motorola=Phone()\n",
        "print(apple.category)\n",
        "print(blueberry.category)\n",
        "print(motorola.category)"
      ],
      "metadata": {
        "colab": {
          "base_uri": "https://localhost:8080/"
        },
        "id": "xFzmo88XpITt",
        "outputId": "ad98085f-82f0-48d9-d3a1-abc5ec3b017f"
      },
      "execution_count": 8,
      "outputs": [
        {
          "output_type": "stream",
          "name": "stdout",
          "text": [
            "Super Electronics\n",
            "Electronics\n",
            "Electronics\n"
          ]
        }
      ]
    },
    {
      "cell_type": "markdown",
      "source": [
        "**Instance Attribute**"
      ],
      "metadata": {
        "id": "iD8S1zGnrXj0"
      }
    },
    {
      "cell_type": "code",
      "source": [
        "#comes from constructor\n",
        "apple=Phone(\"Iphone 17\",3000,40,100)\n",
        "apple.category=\"Super Electronics\"\n",
        "blueberry=Phone(\"B-17\",4000,30,92)\n",
        "motorola=Phone(\"M-17\",4500,48,82)\n",
        "print(apple.camera)\n",
        "print(blueberry.battery)\n",
        "print(motorola.model)\n",
        "apple.capture(10)\n",
        "print(apple.battery_percentage)"
      ],
      "metadata": {
        "colab": {
          "base_uri": "https://localhost:8080/"
        },
        "id": "iG2xBkiSrWn9",
        "outputId": "7a44393e-bd1f-4579-bdff-ee04851f3936"
      },
      "execution_count": 20,
      "outputs": [
        {
          "output_type": "stream",
          "name": "stdout",
          "text": [
            "40\n",
            "4000\n",
            "M-17\n",
            "Photo Captured in Iphone 17\n",
            "90\n"
          ]
        }
      ]
    },
    {
      "cell_type": "markdown",
      "source": [
        "#Single Inheritance"
      ],
      "metadata": {
        "id": "z0wj6LowXg52"
      }
    },
    {
      "cell_type": "markdown",
      "source": [
        "child class inheritance er maddhome base class er shb capability nije use kre"
      ],
      "metadata": {
        "id": "ZtMcez-jvAQU"
      }
    },
    {
      "cell_type": "code",
      "source": [
        "class Smartphone(Phone):\n",
        "  def __init__(self, model,battery,camera,proccessor):\n",
        "    super().__init__(model,battery,camera)\n",
        "    self.proccessor=proccessor\n",
        "  def charge(self,hour):\n",
        "    print(\"fast charging proccessing\")\n",
        "    super().charge(hour)"
      ],
      "metadata": {
        "id": "BG33qyLfXl_n"
      },
      "execution_count": 40,
      "outputs": []
    },
    {
      "cell_type": "code",
      "source": [
        "pro=Smartphone(\"X\",4000,48,\"snapdragon\")\n",
        "print(pro.model)\n",
        "print(pro.proccessor)\n",
        "pro.charge(1)"
      ],
      "metadata": {
        "colab": {
          "base_uri": "https://localhost:8080/"
        },
        "id": "Bg69thX4vwUs",
        "outputId": "6151d591-a717-4a45-ab43-23bcbaad4769"
      },
      "execution_count": 32,
      "outputs": [
        {
          "output_type": "stream",
          "name": "stdout",
          "text": [
            "X\n",
            "snapdragon\n",
            "fast charging proccessing\n",
            "charge completed by 1\n"
          ]
        }
      ]
    },
    {
      "cell_type": "markdown",
      "source": [
        "#Multiple Inheritance"
      ],
      "metadata": {
        "id": "OoOnYk-HXoUf"
      }
    },
    {
      "cell_type": "code",
      "source": [
        "class Smartphone_withcooling_method(Smartphone,cooling_Mechanism):\n",
        "  def __init__(self, model,battery,camera,proccessor,cooling_method):\n",
        "    Smartphone.__init__(self, model,battery,camera,proccessor)\n",
        "    cooling_Mechanism.__init__(self,cooling_method)"
      ],
      "metadata": {
        "id": "179Qp_OnXsp_"
      },
      "execution_count": 41,
      "outputs": []
    },
    {
      "cell_type": "code",
      "source": [
        "pro_cooling=Smartphone_withcooling_method(\"X\",4000,48,\"snapdragon\",\"water\")\n",
        "print(pro_cooling.model)\n",
        "print(pro_cooling.proccessor)\n",
        "pro_cooling.charge(1)\n",
        "print(pro_cooling.cooling_method)\n",
        "pro_cooling.cooling_on()"
      ],
      "metadata": {
        "colab": {
          "base_uri": "https://localhost:8080/"
        },
        "id": "8ISngCjizxS1",
        "outputId": "60e3dcc4-8d7c-4aad-c201-72ca74d3ad76"
      },
      "execution_count": 43,
      "outputs": [
        {
          "output_type": "stream",
          "name": "stdout",
          "text": [
            "X\n",
            "snapdragon\n",
            "fast charging proccessing\n",
            "charge completed by 1\n",
            "water\n",
            "the system is cool by the water\n"
          ]
        }
      ]
    },
    {
      "cell_type": "markdown",
      "source": [
        "#Polymorphsim"
      ],
      "metadata": {
        "id": "KhX2wWM0Xs9v"
      }
    },
    {
      "cell_type": "code",
      "source": [
        "\n",
        "class Camera:\n",
        "  def __init__(self , name):\n",
        "    self.name = name\n",
        "\n",
        " # method\n",
        "  def capture(self):\n",
        "    print(\"a photo is captured\")"
      ],
      "metadata": {
        "id": "8jN_aY7sXzj3"
      },
      "execution_count": 55,
      "outputs": []
    },
    {
      "cell_type": "code",
      "source": [
        "class Smart_Phone(Camera):\n",
        "  def __init__(self,name,resolution):\n",
        "    super().__init__(name)\n",
        "    self.resolution = resolution\n",
        "\n",
        "  #method overriding\n",
        "  def capture(self):\n",
        "    print(\"Photo is captured by a Phone\")\n",
        "\n",
        "\n",
        "class DSLR(Camera):\n",
        "  def __init__(self,name,resolution):\n",
        "    super().__init__(name)\n",
        "    self.resolution = resolution\n",
        "\n",
        "  def capture(self):\n",
        "    print(\"Photo is captured  by DSLR\")\n",
        "\n",
        "\n",
        "\n",
        "class Drone(Camera):\n",
        "  def __init__(self,name,resolution):\n",
        "    super().__init__(name)\n",
        "    self.resolution = resolution\n",
        "\n",
        "  def capture(self):\n",
        "    print(\"Photo is captured by Drone\")\n"
      ],
      "metadata": {
        "id": "NyVbTrVELsAM"
      },
      "execution_count": 56,
      "outputs": []
    },
    {
      "cell_type": "code",
      "source": [
        "phone = Smart_Phone(\"Phone\",30)\n",
        "dslr = DSLR (\"DSLR\",200)\n",
        "drone = Drone(\"Drone\",150)\n",
        "\n",
        "\n",
        "phone.capture()\n",
        "dslr.capture()\n",
        "drone.capture()\n"
      ],
      "metadata": {
        "colab": {
          "base_uri": "https://localhost:8080/"
        },
        "id": "Qiz1_wCdLtTs",
        "outputId": "a7583346-3159-4e67-f2ee-6ac6595b6354"
      },
      "execution_count": 57,
      "outputs": [
        {
          "output_type": "stream",
          "name": "stdout",
          "text": [
            "Photo is captured by a Phone\n",
            "Photo is captured  by DSLR\n",
            "Photo is captured by Drone\n"
          ]
        }
      ]
    },
    {
      "cell_type": "markdown",
      "source": [
        "#Encapsulation"
      ],
      "metadata": {
        "id": "cMvZ4LcU4ojC"
      }
    },
    {
      "cell_type": "markdown",
      "source": [
        "**using method overridding**"
      ],
      "metadata": {
        "id": "qjDramy0MAGk"
      }
    },
    {
      "cell_type": "code",
      "source": [
        "\n",
        "# design\n",
        "class Mobile:\n",
        "  def __init__(self,name,model,imei):\n",
        "    self.__name = name\n",
        "    self.__model = model\n",
        "    self.__imei = imei # private\n",
        "\n",
        "  def charge(self):\n",
        "    print(\"phone is charging\")\n",
        "\n",
        "  # method imei ta paite pari\n",
        "  def imei_getter(self):\n",
        "    return self.__imei\n",
        "  def model_getter(self):\n",
        "    return self.__model\n",
        "\n",
        "\n",
        "\n",
        "  def name_getter(self):\n",
        "    return self.__name\n",
        "\n",
        "\n",
        "  def name_setter(self,name):\n",
        "    self.__name = name"
      ],
      "metadata": {
        "id": "WeuPwkzt4raK"
      },
      "execution_count": 60,
      "outputs": []
    },
    {
      "cell_type": "code",
      "source": [
        "#outside world ( user )\n",
        "\n",
        "# registration\n",
        "iphone = Mobile(\"Phone\",\"17\",\"1xkaf1\")\n",
        "\n",
        "print(iphone.name_getter())\n",
        "\n",
        "iphone.name_setter(\"Phitron\")\n",
        "\n",
        "\n",
        "print(iphone.name_getter())\n"
      ],
      "metadata": {
        "colab": {
          "base_uri": "https://localhost:8080/"
        },
        "id": "OzoDYqch43py",
        "outputId": "e18394e8-5e9f-4d5a-cdbc-0c895cd59388"
      },
      "execution_count": 61,
      "outputs": [
        {
          "output_type": "stream",
          "name": "stdout",
          "text": [
            "Phone\n",
            "Phitron\n"
          ]
        }
      ]
    },
    {
      "cell_type": "markdown",
      "source": [
        "#Abstraction"
      ],
      "metadata": {
        "id": "NRAc6mw2X3LH"
      }
    },
    {
      "cell_type": "code",
      "source": [
        "\n",
        "from abc import  ABC , abstractmethod\n",
        "\n",
        "class Telephone(ABC):\n",
        "\n",
        "  @abstractmethod\n",
        "  def make_call(self):\n",
        "    pass\n",
        "\n",
        "\n",
        "\n",
        "class Sphone(Telephone):\n",
        "  def make_call(self):\n",
        "    print(\"Making a call using SPhone\")\n",
        "\n",
        "\n",
        "\n",
        "class Iphone(Telephone):\n",
        "   def make_call(self):\n",
        "    print(\"Making a call using IPhone\")"
      ],
      "metadata": {
        "id": "IDihTE2PX6M_"
      },
      "execution_count": 53,
      "outputs": []
    },
    {
      "cell_type": "code",
      "source": [
        "\n",
        "ip = Iphone()\n",
        "\n",
        "ip.make_call()\n"
      ],
      "metadata": {
        "colab": {
          "base_uri": "https://localhost:8080/"
        },
        "id": "DdafU0DD6rqb",
        "outputId": "c4d190eb-e78f-4aee-c363-2ddc96cb473c"
      },
      "execution_count": 54,
      "outputs": [
        {
          "output_type": "stream",
          "name": "stdout",
          "text": [
            "Making a call using IPhone\n"
          ]
        }
      ]
    },
    {
      "cell_type": "markdown",
      "source": [
        "#Quiz Explaination"
      ],
      "metadata": {
        "id": "3kpg8axW7x1a"
      }
    },
    {
      "cell_type": "markdown",
      "source": [
        "https://docs.google.com/document/d/1rBdCgSxYSXAxpmH054XFxplOOqs_p8vMUb595RgRf9k/edit?tab=t.0#heading=h.kpubdq73oysd"
      ],
      "metadata": {
        "id": "Jcx35YyH724K"
      }
    },
    {
      "cell_type": "markdown",
      "source": [
        "#Practice Problem"
      ],
      "metadata": {
        "id": "0isGHQkX75Oi"
      }
    },
    {
      "cell_type": "markdown",
      "source": [
        "https://docs.google.com/document/d/1yKGjE9IwtqzQHbWSZIu0neKKczJCRG0B0qeI0304Ugg/edit?tab=t.0"
      ],
      "metadata": {
        "id": "mD3Oc7IQ78xK"
      }
    },
    {
      "cell_type": "code",
      "source": [
        "#1\n",
        "class Phone1:\n",
        "  def __init__(self,model,battery=100):\n",
        "    self.model=model\n",
        "    self.battery=battery\n",
        "class Smartphone1(Phone1):\n",
        "  def __init__(self,model,battery,operating_system):\n",
        "    super().__init__(model,battery)\n",
        "    self.operating_system=operating_system\n",
        "class GamingPhone(Smartphone1):\n",
        "  def __init__(self,model,battery,operating_system,cooling_system):\n",
        "    super().__init__(model,battery,operating_system)\n",
        "    self.cooling_system=cooling_system\n",
        "  def start_game(self,name):\n",
        "    print(f\"Playing {name} on {self.model} \")\n",
        "\n",
        "\n",
        "gphone = GamingPhone(\"ASUS ROG\", 100, \"Android 14\",\"Vapor Chamber\")\n",
        "print(gphone.model)\n",
        "print(gphone.operating_system)\n",
        "print(gphone.cooling_system)\n",
        "gphone.start_game(\"PUBG\")\n",
        "\n",
        "\n",
        "\n",
        "\n"
      ],
      "metadata": {
        "colab": {
          "base_uri": "https://localhost:8080/"
        },
        "id": "AsM4CpNC8Dza",
        "outputId": "16706776-2ca5-4104-e0b1-d1dd2369c94e"
      },
      "execution_count": 63,
      "outputs": [
        {
          "output_type": "stream",
          "name": "stdout",
          "text": [
            "ASUS ROG\n",
            "Android 14\n",
            "Vapor Chamber\n",
            "Playing PUBG on ASUS ROG \n"
          ]
        }
      ]
    },
    {
      "cell_type": "code",
      "source": [
        "#2\n",
        "class MobilePhone:\n",
        "  def __init__(self,model,battery=100):\n",
        "    self.model=model\n",
        "    self.__battery=battery\n",
        "  def use(self,hour):\n",
        "    if self.__battery<=0:\n",
        "      print(\"No battery\")\n",
        "    else:\n",
        "     self.__battery-=hour\n",
        "    print(f\"{self.model} used. Battery now: {self.__battery}%\")\n",
        "  def charge(self,hour):\n",
        "    if self.__battery>=100:\n",
        "      print(\"Fully charged\")\n",
        "    else:\n",
        "      self.__battery+=hour\n",
        "      print(f\"{self.model} charged. Battery now: {self.__battery}%\")\n",
        "\n",
        "  def get_battery(self):\n",
        "        return self.__battery\n",
        "\n",
        "phone=MobilePhone(\"Samsung S25 Ultra\")\n",
        "phone.use(30)\n",
        "phone.charge(20)\n",
        "\n",
        "try:\n",
        "  print(phone.__battery)\n",
        "except Exception as e:\n",
        "  print(\"Cannot access __battery directly (it's private)\")"
      ],
      "metadata": {
        "colab": {
          "base_uri": "https://localhost:8080/"
        },
        "id": "mA8-Ac2v8E-q",
        "outputId": "08e8e19b-b2a6-4055-caf9-78842875b64c"
      },
      "execution_count": 68,
      "outputs": [
        {
          "output_type": "stream",
          "name": "stdout",
          "text": [
            "Samsung S25 Ultra used. Battery now: 70%\n",
            "Samsung S25 Ultra charged. Battery now: 90%\n",
            "Cannot access __battery directly (it's private)\n"
          ]
        }
      ]
    },
    {
      "cell_type": "code",
      "source": [],
      "metadata": {
        "id": "BAkRsF1EPT1N"
      },
      "execution_count": null,
      "outputs": []
    }
  ]
}