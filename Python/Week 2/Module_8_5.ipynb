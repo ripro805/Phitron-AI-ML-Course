{
  "nbformat": 4,
  "nbformat_minor": 0,
  "metadata": {
    "colab": {
      "provenance": []
    },
    "kernelspec": {
      "name": "python3",
      "display_name": "Python 3"
    },
    "language_info": {
      "name": "python"
    }
  },
  "cells": [
    {
      "cell_type": "markdown",
      "source": [
        "https://docs.google.com/document/d/1O6-kp9ImxHmRHsrcms7fy_wAWkFHklZCO80Rnq5_0OU/edit?tab=t.0#heading=h.vsf3yhsvies8"
      ],
      "metadata": {
        "id": "i4WZOaa4X6_T"
      }
    },
    {
      "cell_type": "code",
      "execution_count": 4,
      "metadata": {
        "colab": {
          "base_uri": "https://localhost:8080/"
        },
        "id": "s9bjHmXRXrLA",
        "outputId": "fb5931b4-0ea8-4790-bb32-a26564ef284b"
      },
      "outputs": [
        {
          "output_type": "stream",
          "name": "stdout",
          "text": [
            "3\n",
            "Car Toyota 150\n",
            "Bike Yamaha 90\n",
            "Car Honda 120\n",
            "Type: Car, Name: Toyota, Speed: 150 km/h, Predicted: High speed vehicle\n",
            "Type: Bike, Name: Yamaha, Speed: 90 km/h, Predicted: Normal vehicle\n",
            "Type: Car, Name: Honda, Speed: 120 km/h, Predicted: High speed vehicle\n"
          ]
        }
      ],
      "source": [
        "class Vehicle:\n",
        "  def __init__(self,v_type,name, speed):\n",
        "    self._type=v_type\n",
        "    self.__name=name\n",
        "    self._speed=speed\n",
        "  def classify(self):\n",
        "    if self._speed>100:\n",
        "      return \"High speed vehicle\"\n",
        "    else:\n",
        "      return \"Normal vehicle\"\n",
        "  def get_name(self):\n",
        "        return self.__name\n",
        "  def show_info(self):\n",
        "        print(f\"Type: {self._type}, Name: {self.get_name()}, Speed: {self._speed} km/h, Predicted: {self.classify()}\")\n",
        "class Car(Vehicle):\n",
        "  def __init__(self,name,speed):\n",
        "    super().__init__(\"Car\",name,speed)\n",
        "  def show_info(self):\n",
        "        print(f\"Type: {self._type}, Name: {self.get_name()}, Speed: {self._speed} km/h, Predicted: {self.classify()}\")\n",
        "class Bike(Vehicle):\n",
        "  def __init__(self,name,speed):\n",
        "    super().__init__(\"Bike\",name,speed)\n",
        "  def show_info(self):\n",
        "        print(f\"Type: {self._type}, Name: {self.get_name()}, Speed: {self._speed} km/h, Predicted: {self.classify()}\")\n",
        "\n",
        "vehicle_lst=[]\n",
        "n=int(input())\n",
        "\n",
        "for _ in range(n);\n",
        "  data=input().split()\n",
        "  v_type=data[0]\n",
        "  name=data[1]\n",
        "  speed=int(data[2])\n",
        "\n",
        "if v_type==\"Car\":\n",
        "  vehicle_lst.append(Car(name,speed))\n",
        "elif v_type==\"Bike\":\n",
        "  vehicle_lst.append(Bike(name,speed))\n",
        "for vehicle in vehicle_lst:\n",
        "  vehicle.show_info()"
      ]
    }
  ]
}