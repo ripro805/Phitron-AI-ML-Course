{
  "nbformat": 4,
  "nbformat_minor": 0,
  "metadata": {
    "colab": {
      "provenance": []
    },
    "kernelspec": {
      "name": "python3",
      "display_name": "Python 3"
    },
    "language_info": {
      "name": "python"
    }
  },
  "cells": [
    {
      "cell_type": "markdown",
      "source": [
        "https://docs.google.com/document/d/1q8q_aXXhCldn8xB41o7GK3W_GX_fEJPebJjDZ3puB_c/edit?tab=t.0#heading=h.5opj8ma377sp"
      ],
      "metadata": {
        "id": "gwXLcFhOL46N"
      }
    },
    {
      "cell_type": "code",
      "execution_count": 1,
      "metadata": {
        "colab": {
          "base_uri": "https://localhost:8080/"
        },
        "id": "DhiYe9ApL060",
        "outputId": "df5d7227-4fc8-48a6-9557-b01f843df79b"
      },
      "outputs": [
        {
          "output_type": "stream",
          "name": "stdout",
          "text": [
            "Mutual friends:  {'Sakib', 'Jamal'}\n",
            "Unique to A:  {'Karim', 'Rahim'}\n",
            "Unique to B:  {'Rafiq', 'Nadim'}\n",
            "Total unique friends:  6\n"
          ]
        }
      ],
      "source": [
        "#1\n",
        "a_friends = {\"Rahim\", \"Karim\", \"Sakib\", \"Jamal\"}\n",
        "b_friends = {\"Sakib\", \"Jamal\", \"Rafiq\", \"Nadim\"}\n",
        "mut=a_friends & b_friends\n",
        "uni_a=a_friends - b_friends\n",
        "uni_b=b_friends - a_friends\n",
        "tot_uni=len(a_friends | b_friends)\n",
        "\n",
        "print(\"Mutual friends: \",mut)\n",
        "print(\"Unique to A: \",uni_a)\n",
        "print(\"Unique to B: \",uni_b)\n",
        "print(\"Total unique friends: \",tot_uni)"
      ]
    },
    {
      "cell_type": "code",
      "source": [
        "#2\n",
        "students = [(\"Rafi\", 89), (\"Sumi\", 95), (\"Hasan\", 90), (\"Nila\", 75), (\"Anik\", 98)]\n",
        "sortd_num=sorted(students, key=lambda x: x[1], reverse=True)\n",
        "\n",
        "print(\"Top 3 students:\\n\")\n",
        "for name,marks in sortd_num[:3]:\n",
        "  print(f\"{name} - {marks}\")"
      ],
      "metadata": {
        "colab": {
          "base_uri": "https://localhost:8080/"
        },
        "id": "L55ENd7oNvIf",
        "outputId": "fe1363ea-f63a-4a2c-f9ad-3787c00d6224"
      },
      "execution_count": 4,
      "outputs": [
        {
          "output_type": "stream",
          "name": "stdout",
          "text": [
            "Top 3 students:\n",
            "\n",
            "Anik - 98\n",
            "Sumi - 95\n",
            "Hasan - 90\n"
          ]
        }
      ]
    },
    {
      "cell_type": "code",
      "source": [
        "#3\n",
        "words = [\"sun\", \"planet\", \"moon\", \"star\", \"universe\"]\n",
        "filtred=list(filter(lambda x: len(x)>4,words))\n",
        "print(filtred)"
      ],
      "metadata": {
        "colab": {
          "base_uri": "https://localhost:8080/"
        },
        "id": "ARyviNb5On7g",
        "outputId": "bf09abdc-448c-4dce-84e3-4834b4b4709e"
      },
      "execution_count": 5,
      "outputs": [
        {
          "output_type": "stream",
          "name": "stdout",
          "text": [
            "['planet', 'universe']\n"
          ]
        }
      ]
    },
    {
      "cell_type": "code",
      "source": [
        "#4\n",
        "nums = [1, 2, 3, 4, 5, 6]\n",
        "sqr_evn=list(map(lambda x:x**2,filter(lambda x : x%2==0,nums)))\n",
        "print(sqr_evn)"
      ],
      "metadata": {
        "colab": {
          "base_uri": "https://localhost:8080/"
        },
        "id": "R1EpRzlyPYRo",
        "outputId": "de6e2680-1102-45d6-86f3-3143f2c9ef3f"
      },
      "execution_count": 7,
      "outputs": [
        {
          "output_type": "stream",
          "name": "stdout",
          "text": [
            "[4, 16, 36]\n"
          ]
        }
      ]
    },
    {
      "cell_type": "code",
      "source": [
        "#5\n",
        "with open(\"data.txt\",\"w\") as file:\n",
        "  file.write(\"Learning Python is fun!\")\n",
        "with open(\"data.txt\",\"r\") as file:\n",
        "  content=file.read()\n",
        "  print(content)\n"
      ],
      "metadata": {
        "colab": {
          "base_uri": "https://localhost:8080/"
        },
        "id": "_j1O7VsBQQlg",
        "outputId": "d0cea9cb-f970-453d-f445-bffc8236194e"
      },
      "execution_count": 8,
      "outputs": [
        {
          "output_type": "stream",
          "name": "stdout",
          "text": [
            "Learning Python is fun!\n"
          ]
        }
      ]
    },
    {
      "cell_type": "code",
      "source": [
        "try:\n",
        "  with open(\"/content/drive/MyDrive/Colab Notebooks/Phitron  AI ML/PYTHON/Week 2/Module 7.5/story.txt\",\"r\") as file:\n",
        "      lines=file.readlines()\n",
        "      print(\"Number of lines : \",len(lines))\n",
        "except FileNotFoundError:\n",
        "  print(\"File not found!\")\n",
        "finally:\n",
        "  print(\"Finished checking the file\")"
      ],
      "metadata": {
        "colab": {
          "base_uri": "https://localhost:8080/"
        },
        "id": "EBsG-tRkQxM4",
        "outputId": "ac1c138e-ec78-4f8b-f8c9-595f33026379"
      },
      "execution_count": 2,
      "outputs": [
        {
          "output_type": "stream",
          "name": "stdout",
          "text": [
            "Number of lines :  3\n",
            "Finished checking the file\n"
          ]
        }
      ]
    }
  ]
}