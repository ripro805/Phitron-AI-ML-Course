{
  "nbformat": 4,
  "nbformat_minor": 0,
  "metadata": {
    "colab": {
      "provenance": []
    },
    "kernelspec": {
      "name": "python3",
      "display_name": "Python 3"
    },
    "language_info": {
      "name": "python"
    }
  },
  "cells": [
    {
      "cell_type": "markdown",
      "source": [
        "#Function"
      ],
      "metadata": {
        "id": "_04AKci3W0-f"
      }
    },
    {
      "cell_type": "markdown",
      "source": [
        "1. input--->proccess---> output\n",
        "\n",
        "    process-> set of instruction\n",
        "2. reusable    "
      ],
      "metadata": {
        "id": "wY8-qtOwW6Ke"
      }
    },
    {
      "cell_type": "code",
      "execution_count": 2,
      "metadata": {
        "id": "pSn_UIuNWggW"
      },
      "outputs": [],
      "source": [
        "def greet(user):\n",
        "    print(f\"hello {user}\")\n"
      ]
    },
    {
      "cell_type": "code",
      "source": [
        "greet(\"adil\")"
      ],
      "metadata": {
        "colab": {
          "base_uri": "https://localhost:8080/"
        },
        "id": "TVPeKWqIYROf",
        "outputId": "3d9929b7-e2f6-46cc-e65a-7f0a703e2c4d"
      },
      "execution_count": 3,
      "outputs": [
        {
          "output_type": "stream",
          "name": "stdout",
          "text": [
            "hello adil\n"
          ]
        }
      ]
    },
    {
      "cell_type": "code",
      "source": [
        "def sqr_add (a,b):\n",
        "  a=a**2\n",
        "  b=b**2\n",
        "  print(a+b)"
      ],
      "metadata": {
        "id": "f6dsPRFiYWcu"
      },
      "execution_count": 5,
      "outputs": []
    },
    {
      "cell_type": "code",
      "source": [
        "ans=sqr_add(10,20)+10"
      ],
      "metadata": {
        "colab": {
          "base_uri": "https://localhost:8080/",
          "height": 158
        },
        "id": "2YAPgqntYpbW",
        "outputId": "8075c339-fee9-4980-ea06-868d65c00ab0"
      },
      "execution_count": 7,
      "outputs": [
        {
          "output_type": "stream",
          "name": "stdout",
          "text": [
            "500\n"
          ]
        },
        {
          "output_type": "error",
          "ename": "TypeError",
          "evalue": "unsupported operand type(s) for +: 'NoneType' and 'int'",
          "traceback": [
            "\u001b[0;31m---------------------------------------------------------------------------\u001b[0m",
            "\u001b[0;31mTypeError\u001b[0m                                 Traceback (most recent call last)",
            "\u001b[0;32m/tmp/ipython-input-573596962.py\u001b[0m in \u001b[0;36m<cell line: 0>\u001b[0;34m()\u001b[0m\n\u001b[0;32m----> 1\u001b[0;31m \u001b[0mans\u001b[0m\u001b[0;34m=\u001b[0m\u001b[0msqr_add\u001b[0m\u001b[0;34m(\u001b[0m\u001b[0;36m10\u001b[0m\u001b[0;34m,\u001b[0m\u001b[0;36m20\u001b[0m\u001b[0;34m)\u001b[0m\u001b[0;34m+\u001b[0m\u001b[0;36m10\u001b[0m\u001b[0;34m\u001b[0m\u001b[0;34m\u001b[0m\u001b[0m\n\u001b[0m",
            "\u001b[0;31mTypeError\u001b[0m: unsupported operand type(s) for +: 'NoneType' and 'int'"
          ]
        }
      ]
    },
    {
      "cell_type": "code",
      "source": [
        "def sqr_add (a,b):\n",
        "  a=a**2\n",
        "  b=b**2\n",
        "  return(a+b)"
      ],
      "metadata": {
        "id": "dfOcw-hUY0Be"
      },
      "execution_count": 8,
      "outputs": []
    },
    {
      "cell_type": "code",
      "source": [
        "ans=sqr_add(10,20)+10\n",
        "print(ans)"
      ],
      "metadata": {
        "colab": {
          "base_uri": "https://localhost:8080/"
        },
        "id": "Dd4lOAk9Y3hO",
        "outputId": "fd53264a-36c7-4164-9739-f0d1108ab350"
      },
      "execution_count": 11,
      "outputs": [
        {
          "output_type": "stream",
          "name": "stdout",
          "text": [
            "510\n"
          ]
        }
      ]
    },
    {
      "cell_type": "markdown",
      "source": [
        "**positional argument and key word argument**"
      ],
      "metadata": {
        "id": "4-ajlhaBaCpf"
      }
    },
    {
      "cell_type": "code",
      "source": [
        "def square_addition(a,b,c):\n",
        "    print(f\"{a} {b} {c}\")\n",
        "    a=a**2\n",
        "    b= b**2\n",
        "    return a+b+c\n",
        "#positional argument\n",
        "ans = square_addition(10,20,30) + 10\n",
        "print(ans)\n",
        "\n",
        "#keyword argument\n",
        "ans = square_addition(b=10,c=20,a=30) + 10\n",
        "print(ans)"
      ],
      "metadata": {
        "colab": {
          "base_uri": "https://localhost:8080/"
        },
        "id": "CVnNckNoZyMA",
        "outputId": "eca06ea1-6856-4f21-cfb2-4e476e9698d4"
      },
      "execution_count": 12,
      "outputs": [
        {
          "output_type": "stream",
          "name": "stdout",
          "text": [
            "10 20 30\n",
            "540\n",
            "30 10 20\n",
            "1030\n"
          ]
        }
      ]
    },
    {
      "cell_type": "markdown",
      "source": [
        "**Varriable size argument**\n",
        "\n",
        "tuple akare thke"
      ],
      "metadata": {
        "id": "UG2W1Ma5bA9X"
      }
    },
    {
      "cell_type": "code",
      "source": [
        "def square_addition(a,b,c):\n",
        "    a=a**2\n",
        "    b= b**2\n",
        "    c= c**2\n",
        "    return a+b+c"
      ],
      "metadata": {
        "id": "dBc7XcO5afhY"
      },
      "execution_count": 13,
      "outputs": []
    },
    {
      "cell_type": "code",
      "source": [
        "ans = square_addition(10,20,30,40, 50)"
      ],
      "metadata": {
        "colab": {
          "base_uri": "https://localhost:8080/",
          "height": 141
        },
        "id": "p6oG7Dvtau0X",
        "outputId": "0820a9a8-ae50-4006-d7d7-7102cfb7533b"
      },
      "execution_count": 15,
      "outputs": [
        {
          "output_type": "error",
          "ename": "TypeError",
          "evalue": "square_addition() takes 3 positional arguments but 5 were given",
          "traceback": [
            "\u001b[0;31m---------------------------------------------------------------------------\u001b[0m",
            "\u001b[0;31mTypeError\u001b[0m                                 Traceback (most recent call last)",
            "\u001b[0;32m/tmp/ipython-input-3523470111.py\u001b[0m in \u001b[0;36m<cell line: 0>\u001b[0;34m()\u001b[0m\n\u001b[0;32m----> 1\u001b[0;31m \u001b[0mans\u001b[0m \u001b[0;34m=\u001b[0m \u001b[0msquare_addition\u001b[0m\u001b[0;34m(\u001b[0m\u001b[0;36m10\u001b[0m\u001b[0;34m,\u001b[0m\u001b[0;36m20\u001b[0m\u001b[0;34m,\u001b[0m\u001b[0;36m30\u001b[0m\u001b[0;34m,\u001b[0m\u001b[0;36m40\u001b[0m\u001b[0;34m,\u001b[0m \u001b[0;36m50\u001b[0m\u001b[0;34m)\u001b[0m\u001b[0;34m\u001b[0m\u001b[0;34m\u001b[0m\u001b[0m\n\u001b[0m",
            "\u001b[0;31mTypeError\u001b[0m: square_addition() takes 3 positional arguments but 5 were given"
          ]
        }
      ]
    },
    {
      "cell_type": "code",
      "source": [
        "def square_addition(*args):\n",
        "   sum=0\n",
        "   for i in args:\n",
        "    i=i**2\n",
        "    sum+=i\n",
        "   return sum"
      ],
      "metadata": {
        "id": "GyNAAqv3bM3I"
      },
      "execution_count": 23,
      "outputs": []
    },
    {
      "cell_type": "code",
      "source": [
        "ans = square_addition(10,20,30,40,50)\n",
        "print (ans)"
      ],
      "metadata": {
        "colab": {
          "base_uri": "https://localhost:8080/"
        },
        "id": "Gs3jkHEGbfxA",
        "outputId": "cdd25f79-4981-4986-d92e-3955836d40ff"
      },
      "execution_count": 24,
      "outputs": [
        {
          "output_type": "stream",
          "name": "stdout",
          "text": [
            "5500\n"
          ]
        }
      ]
    },
    {
      "cell_type": "markdown",
      "source": [
        "**keyword Argument**\n",
        "\n",
        "dict akare thke"
      ],
      "metadata": {
        "id": "LbjrUZN4cfNQ"
      }
    },
    {
      "cell_type": "code",
      "source": [
        "def student(**kwargs):\n",
        "    for key,val in kwargs.items():\n",
        "        print(f\"{key} : {val}\")\n",
        "student(name = \"adil\" , cls =10 , roll=30 , marks = 30.5)"
      ],
      "metadata": {
        "colab": {
          "base_uri": "https://localhost:8080/"
        },
        "id": "aQneRskXb-Aw",
        "outputId": "d810de1b-f2cb-4b38-bf38-a573e711bb34"
      },
      "execution_count": 22,
      "outputs": [
        {
          "output_type": "stream",
          "name": "stdout",
          "text": [
            "name : adil\n",
            "cls : 10\n",
            "roll : 30\n",
            "marks : 30.5\n"
          ]
        }
      ]
    },
    {
      "cell_type": "markdown",
      "source": [
        "**return**"
      ],
      "metadata": {
        "id": "kayG6Z7Qb_-w"
      }
    },
    {
      "cell_type": "code",
      "source": [
        "def give_prediction():\n",
        "    return 10\n",
        "\n",
        "type(give_prediction())"
      ],
      "metadata": {
        "colab": {
          "base_uri": "https://localhost:8080/"
        },
        "id": "xoiAmN1KiMCM",
        "outputId": "b2642d3b-257a-4d0d-9fe6-ac6e8aad19e2"
      },
      "execution_count": 25,
      "outputs": [
        {
          "output_type": "execute_result",
          "data": {
            "text/plain": [
              "int"
            ]
          },
          "metadata": {},
          "execution_count": 25
        }
      ]
    },
    {
      "cell_type": "code",
      "source": [
        "def give_prediction():\n",
        "    return 10.5\n",
        "\n",
        "type(give_prediction())"
      ],
      "metadata": {
        "colab": {
          "base_uri": "https://localhost:8080/"
        },
        "id": "m5g7ihkaiOOM",
        "outputId": "3648c4df-9580-4c86-9893-c629248ac26f"
      },
      "execution_count": 26,
      "outputs": [
        {
          "output_type": "execute_result",
          "data": {
            "text/plain": [
              "float"
            ]
          },
          "metadata": {},
          "execution_count": 26
        }
      ]
    },
    {
      "cell_type": "code",
      "source": [
        "def give_prediction():\n",
        "    return \"name\"\n",
        "\n",
        "type(give_prediction())"
      ],
      "metadata": {
        "colab": {
          "base_uri": "https://localhost:8080/"
        },
        "id": "TRByXlgJiQTL",
        "outputId": "c3edf828-75ea-46f5-eb78-a99c6d172126"
      },
      "execution_count": 27,
      "outputs": [
        {
          "output_type": "execute_result",
          "data": {
            "text/plain": [
              "str"
            ]
          },
          "metadata": {},
          "execution_count": 27
        }
      ]
    },
    {
      "cell_type": "code",
      "source": [
        "\n",
        "def give_prediction(a,b):\n",
        "\n",
        "    return a,b\n",
        "\n",
        "type(give_prediction(10,30))\n",
        "\n",
        "print(give_prediction(10,30))\n",
        "\n",
        "## unpacking\n",
        "\n",
        "x , y = give_prediction(10,30)\n",
        "\n",
        "print(x,y)"
      ],
      "metadata": {
        "colab": {
          "base_uri": "https://localhost:8080/"
        },
        "id": "CLkA8AseiS-S",
        "outputId": "641501f5-f6ae-4a87-c671-0ac01a558c63"
      },
      "execution_count": 28,
      "outputs": [
        {
          "output_type": "stream",
          "name": "stdout",
          "text": [
            "(10, 30)\n",
            "10 30\n"
          ]
        }
      ]
    },
    {
      "cell_type": "code",
      "source": [
        "\n",
        "def give_prediction():\n",
        "\n",
        "    a= [10,20,30]\n",
        "    b= [20,30,40]\n",
        "    return a,b\n",
        "\n",
        "print(type(give_prediction()))\n",
        "\n",
        "## unpacking\n",
        "x , y = give_prediction()\n",
        "\n",
        "print(x)\n",
        "print(y)"
      ],
      "metadata": {
        "colab": {
          "base_uri": "https://localhost:8080/"
        },
        "id": "PIHU6sbAielr",
        "outputId": "82e682e8-38b6-4bb6-8f60-746a2275ce86"
      },
      "execution_count": 33,
      "outputs": [
        {
          "output_type": "stream",
          "name": "stdout",
          "text": [
            "<class 'tuple'>\n",
            "[10, 20, 30]\n",
            "[20, 30, 40]\n"
          ]
        }
      ]
    },
    {
      "cell_type": "code",
      "source": [
        "\n",
        "def give_prediction():\n",
        "\n",
        "    a= {10,20,30}\n",
        "    b = [100,200,300]\n",
        "    return a,b\n",
        "\n",
        "x = give_prediction()\n",
        "\n",
        "print(type(x))\n",
        "\n",
        "for item in x:\n",
        "    print(item)"
      ],
      "metadata": {
        "colab": {
          "base_uri": "https://localhost:8080/"
        },
        "id": "JQSsems4iivb",
        "outputId": "6a6b6bdb-54b8-40ff-ce47-a06e5524025d"
      },
      "execution_count": 32,
      "outputs": [
        {
          "output_type": "stream",
          "name": "stdout",
          "text": [
            "<class 'tuple'>\n",
            "{10, 20, 30}\n",
            "[100, 200, 300]\n"
          ]
        }
      ]
    },
    {
      "cell_type": "code",
      "source": [
        "def give_prediction():\n",
        "    return { \"name\" : \"adil\" , \"addr\" : \"Ctg\"},{ \"name\" : \"abrar\" , \"addr\" : \"dhaka\"}\n",
        "\n",
        "\n",
        "x,y = give_prediction()\n",
        "\n",
        "print(type(x))\n",
        "\n",
        "\n",
        "for item in x.items():\n",
        "    print(item)"
      ],
      "metadata": {
        "colab": {
          "base_uri": "https://localhost:8080/"
        },
        "id": "9s8p6SxbipBr",
        "outputId": "03a14500-5251-4ab2-e18c-7545543b0722"
      },
      "execution_count": 31,
      "outputs": [
        {
          "output_type": "stream",
          "name": "stdout",
          "text": [
            "<class 'dict'>\n",
            "('name', 'adil')\n",
            "('addr', 'Ctg')\n"
          ]
        }
      ]
    },
    {
      "cell_type": "markdown",
      "source": [
        "**iterator**"
      ],
      "metadata": {
        "id": "vZEMhdCqjobd"
      }
    },
    {
      "cell_type": "code",
      "source": [
        "\n",
        "s = {10 , 20 , 30 , 40 , 50 }\n",
        "\n",
        "s_iter = iter(s)\n",
        "print(next(s_iter))\n",
        "print(next(s_iter))\n",
        "print(next(s_iter))\n",
        "print(next(s_iter))\n",
        "print(next(s_iter))\n",
        "\n",
        "for i in s:\n",
        "    print(i)"
      ],
      "metadata": {
        "colab": {
          "base_uri": "https://localhost:8080/"
        },
        "id": "mB4a6FWWjqqt",
        "outputId": "e4d29ae5-2adb-4bbc-cc11-512f86f723be"
      },
      "execution_count": 34,
      "outputs": [
        {
          "output_type": "stream",
          "name": "stdout",
          "text": [
            "50\n",
            "20\n",
            "40\n",
            "10\n",
            "30\n",
            "50\n",
            "20\n",
            "40\n",
            "10\n",
            "30\n"
          ]
        }
      ]
    },
    {
      "cell_type": "markdown",
      "source": [
        "***generator***"
      ],
      "metadata": {
        "id": "oWf7UY-xjw1M"
      }
    },
    {
      "cell_type": "code",
      "source": [
        "\n",
        "lst = [ x for x in range(500) ] # dataset\n",
        "\n",
        "def data_loader(chunk_size,lst):\n",
        "    for i in range(0,len(lst),chunk_size):\n",
        "        yield lst[i:i+chunk_size]\n",
        "\n",
        "\n",
        "x = data_loader(5,lst)\n",
        "\n",
        "print(next(x))\n",
        "print(next(x))"
      ],
      "metadata": {
        "colab": {
          "base_uri": "https://localhost:8080/"
        },
        "id": "mLTo_XfMjzVs",
        "outputId": "cd1cfdf9-c46d-46a4-c6b9-5f3b1a7e7d78"
      },
      "execution_count": 35,
      "outputs": [
        {
          "output_type": "stream",
          "name": "stdout",
          "text": [
            "[0, 1, 2, 3, 4]\n",
            "[5, 6, 7, 8, 9]\n"
          ]
        }
      ]
    },
    {
      "cell_type": "markdown",
      "source": [
        "**Lambda function**\n",
        "\n",
        "1. special function\n",
        "2. anonymous\n",
        "3. inline\n",
        "\n",
        "lambda variable: expression\n",
        "\n"
      ],
      "metadata": {
        "id": "9LkaBySpkuAl"
      }
    },
    {
      "cell_type": "code",
      "source": [
        "sq_add= lambda x,y: x**2+y**2\n",
        "print(sq_add(2,3))"
      ],
      "metadata": {
        "colab": {
          "base_uri": "https://localhost:8080/"
        },
        "id": "nm-8lsRtk4ld",
        "outputId": "68408055-d47f-4ac6-b678-3ad38a8139eb"
      },
      "execution_count": 36,
      "outputs": [
        {
          "output_type": "stream",
          "name": "stdout",
          "text": [
            "13\n"
          ]
        }
      ]
    },
    {
      "cell_type": "code",
      "source": [
        "if_even=lambda x: x%2==0\n",
        "print(if_even(10))"
      ],
      "metadata": {
        "colab": {
          "base_uri": "https://localhost:8080/"
        },
        "id": "QDcFFHISltAF",
        "outputId": "6559562f-9995-4c6f-dc4b-addea4f2e9db"
      },
      "execution_count": 37,
      "outputs": [
        {
          "output_type": "stream",
          "name": "stdout",
          "text": [
            "True\n"
          ]
        }
      ]
    },
    {
      "cell_type": "markdown",
      "source": [
        "**map**\n",
        "\n",
        "prottek ta iterable er prottek value er upr ekti niddrishto function apply kore"
      ],
      "metadata": {
        "id": "72F3NTj-l8EN"
      }
    },
    {
      "cell_type": "code",
      "source": [
        "lst = [ 1 ,2 ,3 ,4 ,5 ,6 ]\n",
        "\n",
        "def square(x):\n",
        "    return x**2\n",
        "\n",
        "lst = list(map(square ,lst))\n",
        "\n",
        "print(lst)"
      ],
      "metadata": {
        "colab": {
          "base_uri": "https://localhost:8080/"
        },
        "id": "x6lZdQsEmNG9",
        "outputId": "e7937d55-d892-4fc6-9f41-91c4967bccd9"
      },
      "execution_count": 38,
      "outputs": [
        {
          "output_type": "stream",
          "name": "stdout",
          "text": [
            "[1, 4, 9, 16, 25, 36]\n"
          ]
        }
      ]
    },
    {
      "cell_type": "code",
      "source": [
        "# string\n",
        "\n",
        "string = \"hello world, welcome to the age of AI\"\n",
        "string1 = list(map(str.upper , string))\n",
        "print(string1)\n",
        "string1 = \"\".join(string1)\n",
        "print(string1)"
      ],
      "metadata": {
        "colab": {
          "base_uri": "https://localhost:8080/"
        },
        "id": "S1oU_AZ2maEl",
        "outputId": "7f69ccfb-d0b8-40ca-b507-0c2b3b0c9775"
      },
      "execution_count": 40,
      "outputs": [
        {
          "output_type": "stream",
          "name": "stdout",
          "text": [
            "['H', 'E', 'L', 'L', 'O', ' ', 'W', 'O', 'R', 'L', 'D', ',', ' ', 'W', 'E', 'L', 'C', 'O', 'M', 'E', ' ', 'T', 'O', ' ', 'T', 'H', 'E', ' ', 'A', 'G', 'E', ' ', 'O', 'F', ' ', 'A', 'I']\n",
            "HELLO WORLD, WELCOME TO THE AGE OF AI\n"
          ]
        }
      ]
    },
    {
      "cell_type": "code",
      "source": [
        "# map with lambda function\n",
        "lst = [ 1 ,2 ,3 ,4 ,5 ,6 ]\n",
        "\n",
        "lst = list(map(lambda x : x**2 if x%2==0 else x ,lst))\n",
        "\n",
        "print(lst)"
      ],
      "metadata": {
        "colab": {
          "base_uri": "https://localhost:8080/"
        },
        "id": "XMVRZpr-m702",
        "outputId": "221b0121-be5a-471b-f719-8c77fc28f803"
      },
      "execution_count": 41,
      "outputs": [
        {
          "output_type": "stream",
          "name": "stdout",
          "text": [
            "[1, 4, 3, 16, 5, 36]\n"
          ]
        }
      ]
    },
    {
      "cell_type": "markdown",
      "source": [
        "**filter**\n",
        "1. data filter kore dei"
      ],
      "metadata": {
        "id": "CJHFdIH6nE7l"
      }
    },
    {
      "cell_type": "code",
      "source": [
        "numbers = [x for x in range(100)]\n",
        "\n",
        "\n",
        "# even\n",
        "\n",
        "even = list(filter( lambda x : x % 2 ==0,numbers))\n",
        "\n",
        "print(even)\n",
        "\n",
        "\n",
        "\n",
        "fifty_upper = list(filter( lambda x : x >50,numbers))\n",
        "print(fifty_upper)\n"
      ],
      "metadata": {
        "colab": {
          "base_uri": "https://localhost:8080/"
        },
        "id": "Znij_AUfnLPu",
        "outputId": "b822e47d-d35d-4ebe-d7ab-b82357faaae2"
      },
      "execution_count": 44,
      "outputs": [
        {
          "output_type": "stream",
          "name": "stdout",
          "text": [
            "[0, 2, 4, 6, 8, 10, 12, 14, 16, 18, 20, 22, 24, 26, 28, 30, 32, 34, 36, 38, 40, 42, 44, 46, 48, 50, 52, 54, 56, 58, 60, 62, 64, 66, 68, 70, 72, 74, 76, 78, 80, 82, 84, 86, 88, 90, 92, 94, 96, 98]\n",
            "[51, 52, 53, 54, 55, 56, 57, 58, 59, 60, 61, 62, 63, 64, 65, 66, 67, 68, 69, 70, 71, 72, 73, 74, 75, 76, 77, 78, 79, 80, 81, 82, 83, 84, 85, 86, 87, 88, 89, 90, 91, 92, 93, 94, 95, 96, 97, 98, 99]\n"
          ]
        }
      ]
    },
    {
      "cell_type": "code",
      "source": [
        "data = [0, 1, '',None, 'Hello', [], [1, 2], None, True, False, None]\n",
        "\n",
        "cleaned_data = list(filter(None, data))\n",
        "\n",
        "print(cleaned_data)"
      ],
      "metadata": {
        "colab": {
          "base_uri": "https://localhost:8080/"
        },
        "id": "XKcgopB2nwv2",
        "outputId": "a809b4d0-3be9-4ce9-d381-af2c8708e2bd"
      },
      "execution_count": 45,
      "outputs": [
        {
          "output_type": "stream",
          "name": "stdout",
          "text": [
            "[1, 'Hello', [1, 2], True]\n"
          ]
        }
      ]
    },
    {
      "cell_type": "code",
      "source": [
        "vowel_ = list(filter( lambda x : x in \"AEIOU\" , string1))\n",
        "\n",
        "print(vowel_)"
      ],
      "metadata": {
        "colab": {
          "base_uri": "https://localhost:8080/"
        },
        "id": "jcev-s4_n0jW",
        "outputId": "a5404df1-0370-4489-ebb3-c0fbd8bf3c91"
      },
      "execution_count": 46,
      "outputs": [
        {
          "output_type": "stream",
          "name": "stdout",
          "text": [
            "['E', 'O', 'O', 'E', 'O', 'E', 'O', 'E', 'A', 'E', 'O', 'A', 'I']\n"
          ]
        }
      ]
    },
    {
      "cell_type": "code",
      "source": [
        "fruits = [ 'aaa' , 'bb' , 'cccc' , 'ddddd' ]\n",
        "\n",
        "filtering = list(filter(lambda x: len(x)>2 , fruits))\n",
        "\n",
        "print(filtering)"
      ],
      "metadata": {
        "colab": {
          "base_uri": "https://localhost:8080/"
        },
        "id": "ahMHzs0zn5dG",
        "outputId": "de2b773b-d193-4185-da7c-20e8afeee03f"
      },
      "execution_count": 47,
      "outputs": [
        {
          "output_type": "stream",
          "name": "stdout",
          "text": [
            "['aaa', 'cccc', 'ddddd']\n"
          ]
        }
      ]
    },
    {
      "cell_type": "markdown",
      "source": [
        "**reduce**\n",
        "\n",
        "iterable theke  define logic er maddhome result ene dei"
      ],
      "metadata": {
        "id": "2tOsDTtvpXq3"
      }
    },
    {
      "cell_type": "code",
      "source": [
        "from functools import reduce\n",
        "lst = [ 1 ,2 ,3 ,4 ,5 ,6 ]\n",
        "\n",
        "summation = reduce(lambda x,y : x+y , lst)\n",
        "\n",
        "print(summation)"
      ],
      "metadata": {
        "colab": {
          "base_uri": "https://localhost:8080/"
        },
        "id": "ui5aNcHppkO3",
        "outputId": "86e1650c-8a21-4f46-dd55-be22353a5c55"
      },
      "execution_count": 48,
      "outputs": [
        {
          "output_type": "stream",
          "name": "stdout",
          "text": [
            "21\n"
          ]
        }
      ]
    },
    {
      "cell_type": "code",
      "source": [
        "\n",
        "lst = [ 1 ,2 ,10,4 ,5 ,6 ]\n",
        "\n",
        "max_value = reduce( lambda x , y :x if x > y else y ,lst)\n",
        "\n",
        "print(max_value)"
      ],
      "metadata": {
        "colab": {
          "base_uri": "https://localhost:8080/"
        },
        "id": "2mQn2Xzipxyv",
        "outputId": "cc0c94dd-a588-4ec7-a461-9ba59d74c5f7"
      },
      "execution_count": 49,
      "outputs": [
        {
          "output_type": "stream",
          "name": "stdout",
          "text": [
            "10\n"
          ]
        }
      ]
    },
    {
      "cell_type": "code",
      "source": [
        "lst = [ \"hello\", \"world\" , \"welcome\" ,\"to\", \"programming\"]\n",
        "print(lst)"
      ],
      "metadata": {
        "colab": {
          "base_uri": "https://localhost:8080/"
        },
        "id": "uYKXxpoVp2hA",
        "outputId": "98d08b9e-3815-4ac2-c9ec-276a37612cc7"
      },
      "execution_count": 50,
      "outputs": [
        {
          "output_type": "stream",
          "name": "stdout",
          "text": [
            "['hello', 'world', 'welcome', 'to', 'programming']\n"
          ]
        }
      ]
    },
    {
      "cell_type": "code",
      "source": [
        "string = reduce(lambda x,y : x+ \" \" + y ,lst)\n",
        "print(string)"
      ],
      "metadata": {
        "colab": {
          "base_uri": "https://localhost:8080/"
        },
        "id": "NOXwbR3kp6Mn",
        "outputId": "f77ad857-8c08-426d-ed71-1e41924cc7c7"
      },
      "execution_count": 51,
      "outputs": [
        {
          "output_type": "stream",
          "name": "stdout",
          "text": [
            "hello world welcome to programming\n"
          ]
        }
      ]
    },
    {
      "cell_type": "markdown",
      "source": [
        "**Quiz explaination**\n",
        "\n",
        "https://docs.google.com/document/d/14VrGXHKcyBrFfgHi472A7xEnMgcDBpd2KpgB3wmQnWg/edit?tab=t.0#heading=h.bv34pnjrtdox"
      ],
      "metadata": {
        "id": "WsElT5hYqSLv"
      }
    },
    {
      "cell_type": "markdown",
      "source": [
        "# Problem Practice\n",
        "\n",
        "\n",
        "https://docs.google.com/document/d/1FG7x1m8HlN5fXqplroBGLlf9gsIunP78SI_LaYK7Au0/edit?tab=t.0"
      ],
      "metadata": {
        "id": "TqZji6SqqYLn"
      }
    },
    {
      "cell_type": "markdown",
      "source": [
        "**L. New Array**"
      ],
      "metadata": {
        "id": "qDcUc4IVqspH"
      }
    },
    {
      "cell_type": "code",
      "source": [
        "concat_arr=lambda a,b:b+a\n",
        "n=int(input())\n",
        "a=list(map(int,input().split()))\n",
        "b=list(map(int,input().split()))\n",
        "c=concat_arr(a,b)\n",
        "print(*c)"
      ],
      "metadata": {
        "colab": {
          "base_uri": "https://localhost:8080/"
        },
        "id": "Xf5wBsj_qo6v",
        "outputId": "03ae85ee-ccc4-4826-9b93-cc7d56d05c94"
      },
      "execution_count": 52,
      "outputs": [
        {
          "output_type": "stream",
          "name": "stdout",
          "text": [
            "2\n",
            "1 2\n",
            "3 4\n",
            "[3, 4, 1, 2]\n"
          ]
        }
      ]
    },
    {
      "cell_type": "markdown",
      "source": [
        "**J. Average**"
      ],
      "metadata": {
        "id": "CxXmhlTPrxBH"
      }
    },
    {
      "cell_type": "code",
      "source": [
        "n= int (input())\n",
        "arr = list(map(float,input().split()))\n",
        "sum=reduce(lambda x,y: x+y,arr)\n",
        "avg= sum/len(arr)\n",
        "print(f\"{avg:.6f}\")"
      ],
      "metadata": {
        "colab": {
          "base_uri": "https://localhost:8080/"
        },
        "id": "KwArcXnDqpYX",
        "outputId": "8cee9447-9eda-45ce-deed-9301e2164c69"
      },
      "execution_count": 56,
      "outputs": [
        {
          "output_type": "stream",
          "name": "stdout",
          "text": [
            "3\n",
            "1.0 2.0 5.0\n",
            "2.666667\n"
          ]
        }
      ]
    },
    {
      "cell_type": "markdown",
      "source": [
        "**G. Max and MIN**"
      ],
      "metadata": {
        "id": "eR5eF1FDuTH5"
      }
    },
    {
      "cell_type": "code",
      "source": [
        "def find_min_max(arr):\n",
        "    return min(arr), max(arr)\n",
        "\n",
        "n = int(input())\n",
        "a = list(map(int, input().split()))\n",
        "\n",
        "mn, mx = find_min_max(a)\n",
        "print(mn, mx)\n"
      ],
      "metadata": {
        "colab": {
          "base_uri": "https://localhost:8080/"
        },
        "id": "VVyomg4iqpyv",
        "outputId": "1361a18a-34a7-4d38-eb4e-632477780980"
      },
      "execution_count": 57,
      "outputs": [
        {
          "output_type": "stream",
          "name": "stdout",
          "text": [
            "5\n",
            "10 13 95 1 3\n",
            "1 95\n"
          ]
        }
      ]
    }
  ]
}