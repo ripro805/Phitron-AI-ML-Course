{
  "nbformat": 4,
  "nbformat_minor": 0,
  "metadata": {
    "colab": {
      "provenance": []
    },
    "kernelspec": {
      "name": "python3",
      "display_name": "Python 3"
    },
    "language_info": {
      "name": "python"
    }
  },
  "cells": [
    {
      "cell_type": "markdown",
      "source": [
        "# File Read"
      ],
      "metadata": {
        "id": "XQzWzaBHfUj_"
      }
    },
    {
      "cell_type": "markdown",
      "source": [
        "read---> read \"r\"\n",
        "\n",
        "write--> clear exis ting file \"w\"\n",
        "\n",
        "append---> add after the existing data \"a\""
      ],
      "metadata": {
        "id": "Eha9TyQSfg7H"
      }
    },
    {
      "cell_type": "code",
      "execution_count": 3,
      "metadata": {
        "colab": {
          "base_uri": "https://localhost:8080/"
        },
        "id": "enQAMtd5eYzV",
        "outputId": "dfc12b01-3fe7-4039-e3ae-5e683224bd9b"
      },
      "outputs": [
        {
          "output_type": "stream",
          "name": "stdout",
          "text": [
            "i love my country \n"
          ]
        }
      ],
      "source": [
        "file=open(\"/content/sample_data/file.txt\",\"r\")\n",
        "content=file.read()\n",
        "print(content)"
      ]
    },
    {
      "cell_type": "markdown",
      "source": [
        "**line by line show**\n",
        "\n",
        "readlines-->create list using new line"
      ],
      "metadata": {
        "id": "_4sl9iZHhCbv"
      }
    },
    {
      "cell_type": "code",
      "source": [
        "file=open(\"/content/sample_data/file.txt\",\"r\")\n",
        "content=file.readlines()\n",
        "content=list(map(str.strip,content))\n",
        "print(content)\n",
        "\n",
        "filter_content=list(filter(lambda x:x!=\"\",content))\n",
        "print(filter_content)\n",
        "\n",
        "file.close()\n",
        "print(file.closed)"
      ],
      "metadata": {
        "colab": {
          "base_uri": "https://localhost:8080/"
        },
        "id": "ZQOhdI1Sg55X",
        "outputId": "3253aea9-7518-4904-eae6-b312c343c791"
      },
      "execution_count": 30,
      "outputs": [
        {
          "output_type": "stream",
          "name": "stdout",
          "text": [
            "['hello world', 'how is learning gone']\n",
            "['hello world', 'how is learning gone']\n",
            "True\n"
          ]
        }
      ]
    },
    {
      "cell_type": "code",
      "source": [
        "#for auto matically closed\n",
        "with open(\"/content/sample_data/file.txt\",\"r\") as file:\n",
        "  content=file.read()\n",
        "  print(content)\n",
        "print(file.closed)\n"
      ],
      "metadata": {
        "colab": {
          "base_uri": "https://localhost:8080/"
        },
        "id": "pU3EaEr5h2hX",
        "outputId": "61468686-0329-4dc1-b90d-5fa2b09f1121"
      },
      "execution_count": 9,
      "outputs": [
        {
          "output_type": "stream",
          "name": "stdout",
          "text": [
            "i love my country \n",
            "it is so beautiful\n",
            "\n",
            "True\n"
          ]
        }
      ]
    },
    {
      "cell_type": "code",
      "source": [
        "#for line by line show\n",
        "with open(\"/content/sample_data/file.txt\",\"r\") as file:\n",
        "  for line in file:\n",
        "    print(line, end=\" \")\n"
      ],
      "metadata": {
        "colab": {
          "base_uri": "https://localhost:8080/"
        },
        "id": "Jqg2d8kSiJxf",
        "outputId": "4eea6813-cd08-4e1d-84d9-dc3a3ca46151"
      },
      "execution_count": 11,
      "outputs": [
        {
          "output_type": "stream",
          "name": "stdout",
          "text": [
            "i love my country \n",
            " it is so beautiful\n",
            " "
          ]
        }
      ]
    },
    {
      "cell_type": "code",
      "source": [
        "#for store in a storage\n",
        "#for line by line show\n",
        "with open(\"/content/sample_data/file.txt\",\"r\") as file:\n",
        "  for line in file:\n",
        "    l=line.strip()\n",
        "    print(l)"
      ],
      "metadata": {
        "colab": {
          "base_uri": "https://localhost:8080/"
        },
        "id": "sfzK9Z2ciosv",
        "outputId": "274d9fa7-3468-4700-f233-9e1c370e4d99"
      },
      "execution_count": 13,
      "outputs": [
        {
          "output_type": "stream",
          "name": "stdout",
          "text": [
            "i love my country\n",
            "it is so beautiful\n"
          ]
        }
      ]
    },
    {
      "cell_type": "markdown",
      "source": [
        "# File Write\n"
      ],
      "metadata": {
        "id": "tonfdkjnmX-g"
      }
    },
    {
      "cell_type": "code",
      "source": [
        " #creating a new file and writting on it\n",
        "with open(\"/content/sample_data/text.txt\",\"w\") as file:\n",
        "  file.write(\"hello teat file \\n\")\n",
        "  file.write (\"how is learning gone\\n\")"
      ],
      "metadata": {
        "id": "KH5Ths2ymb2-"
      },
      "execution_count": 20,
      "outputs": []
    },
    {
      "cell_type": "code",
      "source": [
        "#writing on a existing file\n",
        "#it overwrites the file\n",
        "with open(\"/content/sample_data/text.txt\",\"w\") as file:\n",
        "  file.write(\"Second attemps \\n\")\n",
        "  file.write (\"learning is going fast\\n\")"
      ],
      "metadata": {
        "id": "WKGE8bZ0oDmn"
      },
      "execution_count": 24,
      "outputs": []
    },
    {
      "cell_type": "code",
      "source": [
        "#no overwrinting just append the text later\n",
        "with open(\"/content/sample_data/text.txt\",\"a\") as file:\n",
        "  file.write(\"The learning of ai ml is fun \\n\")\n",
        "  file.write (\"i am enjoying it\\n\")"
      ],
      "metadata": {
        "id": "E3hXk3CfoeBQ"
      },
      "execution_count": 25,
      "outputs": []
    },
    {
      "cell_type": "code",
      "source": [
        "\n",
        "strings = ['hello','hi','good bye','what up']\n",
        "\n",
        "with open(\"./sample_data/test2.txt\",\"a\") as file:\n",
        "\n",
        "  file.writelines(strings)"
      ],
      "metadata": {
        "id": "lfE_dUepqfiH"
      },
      "execution_count": 31,
      "outputs": []
    },
    {
      "cell_type": "markdown",
      "source": [
        "# File Pointer\n"
      ],
      "metadata": {
        "id": "3QuW9mgtqwc4"
      }
    },
    {
      "cell_type": "code",
      "source": [
        "with open(\"/content/sample_data/file.txt\",\"r\") as file:\n",
        "   print(file.tell()) # currently cursor koi ase\n",
        "   print(file.read())\n",
        "   print(file.tell())\n",
        "   ## last index theke pora shuru korsi\n",
        "   print(file.read())"
      ],
      "metadata": {
        "colab": {
          "base_uri": "https://localhost:8080/"
        },
        "id": "osEDSU84q1XO",
        "outputId": "13fbe1d7-960d-4e3e-a1a7-70a60ebc1364"
      },
      "execution_count": 35,
      "outputs": [
        {
          "output_type": "stream",
          "name": "stdout",
          "text": [
            "0\n",
            "hello world  \n",
            "how is learning gone\n",
            "35\n",
            "\n"
          ]
        }
      ]
    },
    {
      "cell_type": "code",
      "source": [
        "\n",
        "with open(\"./sample_data/file.txt\",\"r\") as file:\n",
        "  print(file.tell())\n",
        "  print(file.read(5))\n",
        "  print(file.tell())\n",
        "\n",
        "  print(file.read())\n",
        "  print(file.tell())"
      ],
      "metadata": {
        "colab": {
          "base_uri": "https://localhost:8080/"
        },
        "id": "b4_-g_gkrjhX",
        "outputId": "5ce877ee-f552-4916-9d4c-27fe553c40ff"
      },
      "execution_count": 37,
      "outputs": [
        {
          "output_type": "stream",
          "name": "stdout",
          "text": [
            "0\n",
            "hello\n",
            "5\n",
            " world  \n",
            "how is learning gone\n",
            "35\n"
          ]
        }
      ]
    },
    {
      "cell_type": "code",
      "source": [
        "\n",
        "#seek\n",
        "\n",
        "with open(\"./sample_data/file.txt\",\"r\") as file:\n",
        "  print(file.tell())\n",
        "\n",
        "  print(file.read(5))\n",
        "\n",
        "  print(file.tell())\n",
        "\n",
        "  file.seek(0)\n",
        "  print(file.tell())\n",
        "  print(file.read(5))"
      ],
      "metadata": {
        "colab": {
          "base_uri": "https://localhost:8080/"
        },
        "id": "974VTpLwry0g",
        "outputId": "d96b6981-869f-479e-ff69-42d823a8a15b"
      },
      "execution_count": 39,
      "outputs": [
        {
          "output_type": "stream",
          "name": "stdout",
          "text": [
            "0\n",
            "hello\n",
            "5\n",
            "0\n",
            "hello\n"
          ]
        }
      ]
    },
    {
      "cell_type": "markdown",
      "source": [
        "#Practice 1 :\n",
        "\n"
      ],
      "metadata": {
        "id": "y9-5j0rFsF6e"
      }
    },
    {
      "cell_type": "markdown",
      "source": [
        "Get the text from sample.txt , and count the following\n",
        "\n",
        "Number of lines\n",
        "\n",
        "Number of words\n",
        "\n",
        "Number of characters\n",
        "\n",
        "and save it to the counter_of_string.txt file"
      ],
      "metadata": {
        "id": "09WeINVtsLYn"
      }
    },
    {
      "cell_type": "code",
      "source": [
        "from functools import reduce\n",
        "with open(\"/content/sample_data/file.txt\",\"r\") as file:\n",
        "  strings=file.readlines()\n",
        "  total_lines=len(strings)\n",
        "  print(total_lines)\n",
        "  num_of_words=list(map(lambda x:len(x.split()),strings))\n",
        "  print(num_of_words)\n",
        "  total_num_words=reduce(lambda x,y:x+y,num_of_words)\n",
        "  print (total_num_words)\n",
        "  #cleaning process\n",
        "  #1. delete newline\n",
        "  strings=list(map(str.strip,strings))\n",
        "  #2. space delete\n",
        "  strings=list(map(lambda x: x.replace(\" \",\"\"),strings))\n",
        "  print(strings)\n",
        "  num_of_char=list(map(lambda x:len(x),strings))\n",
        "  print(num_of_char)\n",
        "  total_num_char=reduce(lambda x,y:x+y,num_of_char)\n",
        "  print(total_num_char)\n",
        "\n",
        "  with open(\"/content/sample_data/counter_of_string.txt\",\"w\") as file:\n",
        "    file.write(f\"Number of lines: {total_lines}\\n\")\n",
        "    file.write(f\"Number of words: {total_num_words}\\n\")\n",
        "    file.write(f\"Number of characters: {total_num_char}\\n\")"
      ],
      "metadata": {
        "colab": {
          "base_uri": "https://localhost:8080/"
        },
        "id": "0Y3T6n9nsMyv",
        "outputId": "f7e39b58-185a-400d-dd41-00e018313f54"
      },
      "execution_count": 47,
      "outputs": [
        {
          "output_type": "stream",
          "name": "stdout",
          "text": [
            "2\n",
            "[2, 4]\n",
            "6\n",
            "['helloworld', 'howislearninggone']\n",
            "[10, 17]\n",
            "27\n"
          ]
        }
      ]
    },
    {
      "cell_type": "markdown",
      "source": [
        "#Practice 2"
      ],
      "metadata": {
        "id": "GGuuutEKvZ1v"
      }
    },
    {
      "cell_type": "markdown",
      "source": [
        "Write then read with one open"
      ],
      "metadata": {
        "id": "7hHA-b_svds3"
      }
    },
    {
      "cell_type": "code",
      "source": [
        "with open(\"/content/sample_data/file2.txt\",\"w+\") as file:\n",
        "  file.write(\"Hello world\")\n",
        "  print(file.tell())\n",
        "  print(file.read())\n",
        "  file.seek(0)\n",
        "  print(file.tell())\n",
        "  print(file.read())\n",
        "  file.truncate(5) #delete after index\n",
        "  file.seek(0)\n",
        "  print(file.read())"
      ],
      "metadata": {
        "colab": {
          "base_uri": "https://localhost:8080/"
        },
        "id": "2QdtkWcsvgxm",
        "outputId": "c903d21d-a634-40bd-8143-37abcc35d529"
      },
      "execution_count": 56,
      "outputs": [
        {
          "output_type": "stream",
          "name": "stdout",
          "text": [
            "11\n",
            "\n",
            "0\n",
            "Hello world\n",
            "Hello\n"
          ]
        }
      ]
    },
    {
      "cell_type": "markdown",
      "source": [
        "#Exception Handling"
      ],
      "metadata": {
        "id": "XS1lhc3MxERf"
      }
    },
    {
      "cell_type": "markdown",
      "source": [
        "exception---> errors that occurs on run time\n",
        "\n"
      ],
      "metadata": {
        "id": "zudD_UXGxLen"
      }
    },
    {
      "cell_type": "markdown",
      "source": [
        "**ML Error**\n",
        "1. file load\n",
        "2. memory\n",
        "3. key missing\n",
        "4. import error\n"
      ],
      "metadata": {
        "id": "4_7xsHVi5CYL"
      }
    },
    {
      "cell_type": "code",
      "source": [
        "\n",
        "\n",
        "n = int(input())\n",
        "\n",
        "try:\n",
        "  a = 10/0\n",
        "except ZeroDivisionError:\n",
        "  print(\"you cant divide a number by 0\")\n",
        "\n",
        "print(\"hello world\")"
      ],
      "metadata": {
        "colab": {
          "base_uri": "https://localhost:8080/"
        },
        "id": "bKXTCmPX49ru",
        "outputId": "885a8b09-2fbd-44bf-e3ba-7803857691db"
      },
      "execution_count": 57,
      "outputs": [
        {
          "output_type": "stream",
          "name": "stdout",
          "text": [
            "10\n",
            "you cant divide a number by 0\n",
            "hello world\n"
          ]
        }
      ]
    },
    {
      "cell_type": "code",
      "source": [
        "\n",
        "\n",
        "\n",
        "try:\n",
        "  x = y\n",
        "except Exception as e:\n",
        "  print(e)\n",
        "\n",
        "\n",
        "print(\"hello world\")"
      ],
      "metadata": {
        "colab": {
          "base_uri": "https://localhost:8080/"
        },
        "id": "myNLvdcP5d_z",
        "outputId": "b0478d12-38be-4fb9-f7c6-73ddcc426780"
      },
      "execution_count": 58,
      "outputs": [
        {
          "output_type": "stream",
          "name": "stdout",
          "text": [
            "name 'y' is not defined\n",
            "hello world\n"
          ]
        }
      ]
    },
    {
      "cell_type": "code",
      "source": [
        "\n",
        "# model train\n",
        "\n",
        "\n",
        "try:\n",
        "  file = open(\"./sample_data/data1.txt\",\"r\")\n",
        "except Exception as e:\n",
        "  print(e)\n",
        "else:\n",
        "  # model train\n",
        "  print(file.read())\n",
        "finally:\n",
        "  print(\"Gpu is stopped\")"
      ],
      "metadata": {
        "colab": {
          "base_uri": "https://localhost:8080/"
        },
        "id": "RFNdgNC45hfF",
        "outputId": "0d420c57-6f4f-49bd-c79c-003ed5fca065"
      },
      "execution_count": 59,
      "outputs": [
        {
          "output_type": "stream",
          "name": "stdout",
          "text": [
            "[Errno 2] No such file or directory: './sample_data/data1.txt'\n",
            "Gpu is stopped\n"
          ]
        }
      ]
    },
    {
      "cell_type": "markdown",
      "source": [
        "# quiz Explanation"
      ],
      "metadata": {
        "id": "a00yKox76nAt"
      }
    },
    {
      "cell_type": "markdown",
      "source": [
        "https://docs.google.com/document/d/1706_tSygnsTWHweSN7AQXZfN9ckq88kUpOce1f8ttLc/edit?tab=t.0"
      ],
      "metadata": {
        "id": "ATWJAbQs6vc0"
      }
    },
    {
      "cell_type": "markdown",
      "source": [
        "#Extra Problems"
      ],
      "metadata": {
        "id": "Arq6LU-W7w6E"
      }
    },
    {
      "cell_type": "markdown",
      "source": [
        "https://docs.google.com/document/d/1Cyz6LhjRAJ6TzXZRERdcLz7fub39zkIpabb3QRDL__Y/edit?tab=t.0"
      ],
      "metadata": {
        "id": "zXNZXycH70GU"
      }
    },
    {
      "cell_type": "code",
      "source": [
        "#1\n",
        "with open(\"/content/sample_data/email.txt\",\"r\") as file:\n",
        " emails= file.readlines()\n",
        "\n",
        " emails=filter(lambda e : e.strip()!=\"\",emails)\n",
        " cleand_email=map(lambda e: e.strip().lower(),emails)\n",
        " unique_sortedemails=sorted(set(cleand_email))\n",
        "with open(\"/content/sample_data/unique_email.txt\",\"w\") as file:\n",
        "  file.writelines(email + \"\\n\" for email in unique_sortedemails)"
      ],
      "metadata": {
        "id": "vN19ceUG73hr"
      },
      "execution_count": 65,
      "outputs": []
    },
    {
      "cell_type": "code",
      "source": [
        "#2\n",
        "with open(\"/content/sample_data/name.txt\", \"r\") as file:\n",
        "    names = file.readlines()\n",
        "\n",
        "names = filter(lambda n: n.strip() != \"\", names)\n",
        "\n",
        "cleaned_names = map(lambda n: n.strip().capitalize(), names)\n",
        "\n",
        "unique_sorted_names = sorted(set(cleaned_names))\n",
        "\n",
        "with open(\"/content/sample_data/clean_name.txt\", \"w\") as file:\n",
        "    for name in unique_sorted_names:\n",
        "        file.write(name + \"\\n\")\n",
        "\n",
        "print(\"✅ Cleaned and sorted names saved to 'clean_names.txt'\")\n"
      ],
      "metadata": {
        "colab": {
          "base_uri": "https://localhost:8080/"
        },
        "id": "FIsYEnE2_uK0",
        "outputId": "889f6d8b-2636-489d-d49a-56290b71f344"
      },
      "execution_count": 68,
      "outputs": [
        {
          "output_type": "stream",
          "name": "stdout",
          "text": [
            "✅ Cleaned and sorted names saved to 'clean_names.txt'\n"
          ]
        }
      ]
    },
    {
      "cell_type": "code",
      "source": [
        "#3\n",
        "numbers = [10, 20, 30, 40, 50]\n",
        "\n",
        "try:\n",
        "    index = int(input(\"Enter an index (0-4): \"))\n",
        "\n",
        "    print(\"Value at index\", index, \"is:\", numbers[index])\n",
        "\n",
        "except IndexError:\n",
        "    print(\"Invalid index!\")\n",
        "\n",
        "except ValueError:\n",
        "    print(\"Please enter a valid integer index!\")\n"
      ],
      "metadata": {
        "colab": {
          "base_uri": "https://localhost:8080/"
        },
        "id": "mAUgKy3YAP6k",
        "outputId": "a4f9eeb4-ed73-4cdb-bd86-2c59463500d4"
      },
      "execution_count": 70,
      "outputs": [
        {
          "output_type": "stream",
          "name": "stdout",
          "text": [
            "Enter an index (0-4): 10\n",
            "Invalid index!\n"
          ]
        }
      ]
    }
  ]
}